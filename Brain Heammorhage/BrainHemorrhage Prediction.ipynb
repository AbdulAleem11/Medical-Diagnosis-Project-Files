{
 "cells": [
  {
   "cell_type": "markdown",
   "metadata": {},
   "source": [
    "# CAUTION THIS MODEL HAS BEEN RUN ON GOOGLE COLAB!! ONE CAN DIRECTLY USE THE TRAINED WEIGHTS BY LOADING THE MODEL AND USE THEM FOR PREDICTION OR WISH TO TRAIN HIS/HER OWN MODEL"
   ]
  },
  {
   "cell_type": "code",
   "execution_count": 3,
   "metadata": {
    "colab": {
     "base_uri": "https://localhost:8080/"
    },
    "id": "UHiCx1q_p2hi",
    "outputId": "7c4a61a5-4089-4b88-9df4-2fdda21576ab"
   },
   "outputs": [
    {
     "name": "stdout",
     "output_type": "stream",
     "text": [
      "Collecting tensorflow-gpu\n",
      "\u001b[?25l  Downloading https://files.pythonhosted.org/packages/1d/a2/5ccf0a418eb22e0a2ae9edc1e7f5456d0a4b8b49524572897564b4030a9b/tensorflow_gpu-2.5.0-cp37-cp37m-manylinux2010_x86_64.whl (454.3MB)\n",
      "\u001b[K     |████████████████████████████████| 454.3MB 36kB/s \n",
      "\u001b[?25hRequirement already satisfied: six~=1.15.0 in /usr/local/lib/python3.7/dist-packages (from tensorflow-gpu) (1.15.0)\n",
      "Requirement already satisfied: termcolor~=1.1.0 in /usr/local/lib/python3.7/dist-packages (from tensorflow-gpu) (1.1.0)\n",
      "Requirement already satisfied: protobuf>=3.9.2 in /usr/local/lib/python3.7/dist-packages (from tensorflow-gpu) (3.12.4)\n",
      "Collecting tensorflow-estimator<2.6.0,>=2.5.0rc0\n",
      "\u001b[?25l  Downloading https://files.pythonhosted.org/packages/ec/78/b27f73e923becc6e79e18fe112cf75e3200d1ee35b0dba8fa46181bce56c/tensorflow_estimator-2.5.0-py2.py3-none-any.whl (462kB)\n",
      "\u001b[K     |████████████████████████████████| 471kB 39.4MB/s \n",
      "\u001b[?25hRequirement already satisfied: keras-preprocessing~=1.1.2 in /usr/local/lib/python3.7/dist-packages (from tensorflow-gpu) (1.1.2)\n",
      "Requirement already satisfied: absl-py~=0.10 in /usr/local/lib/python3.7/dist-packages (from tensorflow-gpu) (0.12.0)\n",
      "Requirement already satisfied: typing-extensions~=3.7.4 in /usr/local/lib/python3.7/dist-packages (from tensorflow-gpu) (3.7.4.3)\n",
      "Collecting h5py~=3.1.0\n",
      "\u001b[?25l  Downloading https://files.pythonhosted.org/packages/9d/74/9eae2bedd8201ab464308f42c601a12d79727a1c87f0c867fdefb212c6cf/h5py-3.1.0-cp37-cp37m-manylinux1_x86_64.whl (4.0MB)\n",
      "\u001b[K     |████████████████████████████████| 4.0MB 25.7MB/s \n",
      "\u001b[?25hCollecting tensorboard~=2.5\n",
      "\u001b[?25l  Downloading https://files.pythonhosted.org/packages/44/f5/7feea02a3fb54d5db827ac4b822a7ba8933826b36de21880518250b8733a/tensorboard-2.5.0-py3-none-any.whl (6.0MB)\n",
      "\u001b[K     |████████████████████████████████| 6.0MB 20.4MB/s \n",
      "\u001b[?25hRequirement already satisfied: flatbuffers~=1.12.0 in /usr/local/lib/python3.7/dist-packages (from tensorflow-gpu) (1.12)\n",
      "Requirement already satisfied: wrapt~=1.12.1 in /usr/local/lib/python3.7/dist-packages (from tensorflow-gpu) (1.12.1)\n",
      "Requirement already satisfied: astunparse~=1.6.3 in /usr/local/lib/python3.7/dist-packages (from tensorflow-gpu) (1.6.3)\n",
      "Requirement already satisfied: numpy~=1.19.2 in /usr/local/lib/python3.7/dist-packages (from tensorflow-gpu) (1.19.5)\n",
      "Collecting gast==0.4.0\n",
      "  Downloading https://files.pythonhosted.org/packages/b6/48/583c032b79ae5b3daa02225a675aeb673e58d2cb698e78510feceb11958c/gast-0.4.0-py3-none-any.whl\n",
      "Requirement already satisfied: wheel~=0.35 in /usr/local/lib/python3.7/dist-packages (from tensorflow-gpu) (0.36.2)\n",
      "Requirement already satisfied: google-pasta~=0.2 in /usr/local/lib/python3.7/dist-packages (from tensorflow-gpu) (0.2.0)\n",
      "Requirement already satisfied: opt-einsum~=3.3.0 in /usr/local/lib/python3.7/dist-packages (from tensorflow-gpu) (3.3.0)\n",
      "Collecting keras-nightly~=2.5.0.dev\n",
      "\u001b[?25l  Downloading https://files.pythonhosted.org/packages/aa/e7/53bc896aa4e11a87aac10a625c676b3a3d57d1c8d9929e4809d31fa0b7d5/keras_nightly-2.5.0.dev2021032900-py2.py3-none-any.whl (1.2MB)\n",
      "\u001b[K     |████████████████████████████████| 1.2MB 46.1MB/s \n",
      "\u001b[?25hCollecting grpcio~=1.34.0\n",
      "\u001b[?25l  Downloading https://files.pythonhosted.org/packages/d5/d1/f38a91d8724706427fe973a7dfa11e938cee98aa7196b03d870a25a08bab/grpcio-1.34.1-cp37-cp37m-manylinux2014_x86_64.whl (4.0MB)\n",
      "\u001b[K     |████████████████████████████████| 4.0MB 38.7MB/s \n",
      "\u001b[?25hRequirement already satisfied: setuptools in /usr/local/lib/python3.7/dist-packages (from protobuf>=3.9.2->tensorflow-gpu) (56.1.0)\n",
      "Collecting cached-property; python_version < \"3.8\"\n",
      "  Downloading https://files.pythonhosted.org/packages/48/19/f2090f7dad41e225c7f2326e4cfe6fff49e57dedb5b53636c9551f86b069/cached_property-1.5.2-py2.py3-none-any.whl\n",
      "Requirement already satisfied: tensorboard-plugin-wit>=1.6.0 in /usr/local/lib/python3.7/dist-packages (from tensorboard~=2.5->tensorflow-gpu) (1.8.0)\n",
      "Requirement already satisfied: google-auth-oauthlib<0.5,>=0.4.1 in /usr/local/lib/python3.7/dist-packages (from tensorboard~=2.5->tensorflow-gpu) (0.4.4)\n",
      "Requirement already satisfied: werkzeug>=0.11.15 in /usr/local/lib/python3.7/dist-packages (from tensorboard~=2.5->tensorflow-gpu) (2.0.0)\n",
      "Requirement already satisfied: google-auth<2,>=1.6.3 in /usr/local/lib/python3.7/dist-packages (from tensorboard~=2.5->tensorflow-gpu) (1.30.0)\n",
      "Requirement already satisfied: markdown>=2.6.8 in /usr/local/lib/python3.7/dist-packages (from tensorboard~=2.5->tensorflow-gpu) (3.3.4)\n",
      "Collecting tensorboard-data-server<0.7.0,>=0.6.0\n",
      "\u001b[?25l  Downloading https://files.pythonhosted.org/packages/60/f9/802efd84988bffd9f644c03b6e66fde8e76c3aa33db4279ddd11c5d61f4b/tensorboard_data_server-0.6.1-py3-none-manylinux2010_x86_64.whl (4.9MB)\n",
      "\u001b[K     |████████████████████████████████| 4.9MB 23.6MB/s \n",
      "\u001b[?25hRequirement already satisfied: requests<3,>=2.21.0 in /usr/local/lib/python3.7/dist-packages (from tensorboard~=2.5->tensorflow-gpu) (2.23.0)\n",
      "Requirement already satisfied: requests-oauthlib>=0.7.0 in /usr/local/lib/python3.7/dist-packages (from google-auth-oauthlib<0.5,>=0.4.1->tensorboard~=2.5->tensorflow-gpu) (1.3.0)\n",
      "Requirement already satisfied: cachetools<5.0,>=2.0.0 in /usr/local/lib/python3.7/dist-packages (from google-auth<2,>=1.6.3->tensorboard~=2.5->tensorflow-gpu) (4.2.2)\n",
      "Requirement already satisfied: rsa<5,>=3.1.4; python_version >= \"3.6\" in /usr/local/lib/python3.7/dist-packages (from google-auth<2,>=1.6.3->tensorboard~=2.5->tensorflow-gpu) (4.7.2)\n",
      "Requirement already satisfied: pyasn1-modules>=0.2.1 in /usr/local/lib/python3.7/dist-packages (from google-auth<2,>=1.6.3->tensorboard~=2.5->tensorflow-gpu) (0.2.8)\n",
      "Requirement already satisfied: importlib-metadata; python_version < \"3.8\" in /usr/local/lib/python3.7/dist-packages (from markdown>=2.6.8->tensorboard~=2.5->tensorflow-gpu) (4.0.1)\n",
      "Requirement already satisfied: idna<3,>=2.5 in /usr/local/lib/python3.7/dist-packages (from requests<3,>=2.21.0->tensorboard~=2.5->tensorflow-gpu) (2.10)\n",
      "Requirement already satisfied: certifi>=2017.4.17 in /usr/local/lib/python3.7/dist-packages (from requests<3,>=2.21.0->tensorboard~=2.5->tensorflow-gpu) (2020.12.5)\n",
      "Requirement already satisfied: chardet<4,>=3.0.2 in /usr/local/lib/python3.7/dist-packages (from requests<3,>=2.21.0->tensorboard~=2.5->tensorflow-gpu) (3.0.4)\n",
      "Requirement already satisfied: urllib3!=1.25.0,!=1.25.1,<1.26,>=1.21.1 in /usr/local/lib/python3.7/dist-packages (from requests<3,>=2.21.0->tensorboard~=2.5->tensorflow-gpu) (1.24.3)\n",
      "Requirement already satisfied: oauthlib>=3.0.0 in /usr/local/lib/python3.7/dist-packages (from requests-oauthlib>=0.7.0->google-auth-oauthlib<0.5,>=0.4.1->tensorboard~=2.5->tensorflow-gpu) (3.1.0)\n",
      "Requirement already satisfied: pyasn1>=0.1.3 in /usr/local/lib/python3.7/dist-packages (from rsa<5,>=3.1.4; python_version >= \"3.6\"->google-auth<2,>=1.6.3->tensorboard~=2.5->tensorflow-gpu) (0.4.8)\n",
      "Requirement already satisfied: zipp>=0.5 in /usr/local/lib/python3.7/dist-packages (from importlib-metadata; python_version < \"3.8\"->markdown>=2.6.8->tensorboard~=2.5->tensorflow-gpu) (3.4.1)\n",
      "\u001b[31mERROR: tensorflow 2.4.1 has requirement gast==0.3.3, but you'll have gast 0.4.0 which is incompatible.\u001b[0m\n",
      "\u001b[31mERROR: tensorflow 2.4.1 has requirement grpcio~=1.32.0, but you'll have grpcio 1.34.1 which is incompatible.\u001b[0m\n",
      "\u001b[31mERROR: tensorflow 2.4.1 has requirement h5py~=2.10.0, but you'll have h5py 3.1.0 which is incompatible.\u001b[0m\n",
      "\u001b[31mERROR: tensorflow 2.4.1 has requirement tensorflow-estimator<2.5.0,>=2.4.0, but you'll have tensorflow-estimator 2.5.0 which is incompatible.\u001b[0m\n",
      "Installing collected packages: tensorflow-estimator, cached-property, h5py, grpcio, tensorboard-data-server, tensorboard, gast, keras-nightly, tensorflow-gpu\n",
      "  Found existing installation: tensorflow-estimator 2.4.0\n",
      "    Uninstalling tensorflow-estimator-2.4.0:\n",
      "      Successfully uninstalled tensorflow-estimator-2.4.0\n",
      "  Found existing installation: h5py 2.10.0\n",
      "    Uninstalling h5py-2.10.0:\n",
      "      Successfully uninstalled h5py-2.10.0\n",
      "  Found existing installation: grpcio 1.32.0\n",
      "    Uninstalling grpcio-1.32.0:\n",
      "      Successfully uninstalled grpcio-1.32.0\n",
      "  Found existing installation: tensorboard 2.4.1\n",
      "    Uninstalling tensorboard-2.4.1:\n",
      "      Successfully uninstalled tensorboard-2.4.1\n",
      "  Found existing installation: gast 0.3.3\n",
      "    Uninstalling gast-0.3.3:\n",
      "      Successfully uninstalled gast-0.3.3\n",
      "Successfully installed cached-property-1.5.2 gast-0.4.0 grpcio-1.34.1 h5py-3.1.0 keras-nightly-2.5.0.dev2021032900 tensorboard-2.5.0 tensorboard-data-server-0.6.1 tensorflow-estimator-2.5.0 tensorflow-gpu-2.5.0\n"
     ]
    }
   ],
   "source": [
    "!pip install tensorflow-gpu"
   ]
  },
  {
   "cell_type": "code",
   "execution_count": 1,
   "metadata": {
    "colab": {
     "base_uri": "https://localhost:8080/"
    },
    "id": "yVi0PoNWquye",
    "outputId": "d899c1cc-7c7c-4691-a69d-6b5c3dfd56ca"
   },
   "outputs": [
    {
     "name": "stdout",
     "output_type": "stream",
     "text": [
      "Sat May 15 06:23:26 2021       \n",
      "+-----------------------------------------------------------------------------+\n",
      "| NVIDIA-SMI 465.19.01    Driver Version: 460.32.03    CUDA Version: 11.2     |\n",
      "|-------------------------------+----------------------+----------------------+\n",
      "| GPU  Name        Persistence-M| Bus-Id        Disp.A | Volatile Uncorr. ECC |\n",
      "| Fan  Temp  Perf  Pwr:Usage/Cap|         Memory-Usage | GPU-Util  Compute M. |\n",
      "|                               |                      |               MIG M. |\n",
      "|===============================+======================+======================|\n",
      "|   0  Tesla T4            Off  | 00000000:00:04.0 Off |                    0 |\n",
      "| N/A   51C    P8     9W /  70W |      0MiB / 15109MiB |      0%      Default |\n",
      "|                               |                      |                  N/A |\n",
      "+-------------------------------+----------------------+----------------------+\n",
      "                                                                               \n",
      "+-----------------------------------------------------------------------------+\n",
      "| Processes:                                                                  |\n",
      "|  GPU   GI   CI        PID   Type   Process name                  GPU Memory |\n",
      "|        ID   ID                                                   Usage      |\n",
      "|=============================================================================|\n",
      "|  No running processes found                                                 |\n",
      "+-----------------------------------------------------------------------------+\n"
     ]
    }
   ],
   "source": [
    "!nvidia-smi"
   ]
  },
  {
   "cell_type": "code",
   "execution_count": 2,
   "metadata": {
    "colab": {
     "base_uri": "https://localhost:8080/",
     "height": 35
    },
    "id": "rb_unFZgrMcQ",
    "outputId": "933c8dde-6689-4381-a025-87a7407f8000"
   },
   "outputs": [
    {
     "data": {
      "application/vnd.google.colaboratory.intrinsic+json": {
       "type": "string"
      },
      "text/plain": [
       "'2.4.1'"
      ]
     },
     "execution_count": 2,
     "metadata": {
      "tags": []
     },
     "output_type": "execute_result"
    }
   ],
   "source": [
    "import tensorflow as tf\n",
    "tf.__version__"
   ]
  },
  {
   "cell_type": "code",
   "execution_count": 3,
   "metadata": {
    "colab": {
     "base_uri": "https://localhost:8080/"
    },
    "id": "syrSkqrtscPj",
    "outputId": "d83fea6c-d09c-41d6-a715-3cec06d80293"
   },
   "outputs": [
    {
     "name": "stdout",
     "output_type": "stream",
     "text": [
      "Collecting split-folders\n",
      "  Downloading https://files.pythonhosted.org/packages/b8/5f/3c2b2f7ea5e047c8cdc3bb00ae582c5438fcdbbedcc23b3cc1c2c7aae642/split_folders-0.4.3-py3-none-any.whl\n",
      "Installing collected packages: split-folders\n",
      "Successfully installed split-folders-0.4.3\n"
     ]
    }
   ],
   "source": [
    "!pip install split-folders"
   ]
  },
  {
   "cell_type": "code",
   "execution_count": 4,
   "metadata": {
    "colab": {
     "base_uri": "https://localhost:8080/"
    },
    "id": "NyJh0lb-sd5j",
    "outputId": "dd711009-f4ab-4eeb-a4d7-9b7da67d33a5"
   },
   "outputs": [
    {
     "name": "stdout",
     "output_type": "stream",
     "text": [
      "Archive:  /content/drive/MyDrive/Datasets/brain_hemmorhage.zip\n",
      "  inflating: head_ct/head_ct/000.png  \n",
      "  inflating: head_ct/head_ct/001.png  \n",
      "  inflating: head_ct/head_ct/002.png  \n",
      "  inflating: head_ct/head_ct/003.png  \n",
      "  inflating: head_ct/head_ct/004.png  \n",
      "  inflating: head_ct/head_ct/005.png  \n",
      "  inflating: head_ct/head_ct/006.png  \n",
      "  inflating: head_ct/head_ct/007.png  \n",
      "  inflating: head_ct/head_ct/008.png  \n",
      "  inflating: head_ct/head_ct/009.png  \n",
      "  inflating: head_ct/head_ct/010.png  \n",
      "  inflating: head_ct/head_ct/011.png  \n",
      "  inflating: head_ct/head_ct/012.png  \n",
      "  inflating: head_ct/head_ct/013.png  \n",
      "  inflating: head_ct/head_ct/014.png  \n",
      "  inflating: head_ct/head_ct/015.png  \n",
      "  inflating: head_ct/head_ct/016.png  \n",
      "  inflating: head_ct/head_ct/017.png  \n",
      "  inflating: head_ct/head_ct/018.png  \n",
      "  inflating: head_ct/head_ct/019.png  \n",
      "  inflating: head_ct/head_ct/020.png  \n",
      "  inflating: head_ct/head_ct/021.png  \n",
      "  inflating: head_ct/head_ct/022.png  \n",
      "  inflating: head_ct/head_ct/023.png  \n",
      "  inflating: head_ct/head_ct/024.png  \n",
      "  inflating: head_ct/head_ct/025.png  \n",
      "  inflating: head_ct/head_ct/026.png  \n",
      "  inflating: head_ct/head_ct/027.png  \n",
      "  inflating: head_ct/head_ct/028.png  \n",
      "  inflating: head_ct/head_ct/029.png  \n",
      "  inflating: head_ct/head_ct/030.png  \n",
      "  inflating: head_ct/head_ct/031.png  \n",
      "  inflating: head_ct/head_ct/032.png  \n",
      "  inflating: head_ct/head_ct/033.png  \n",
      "  inflating: head_ct/head_ct/034.png  \n",
      "  inflating: head_ct/head_ct/035.png  \n",
      "  inflating: head_ct/head_ct/036.png  \n",
      "  inflating: head_ct/head_ct/037.png  \n",
      "  inflating: head_ct/head_ct/038.png  \n",
      "  inflating: head_ct/head_ct/039.png  \n",
      "  inflating: head_ct/head_ct/040.png  \n",
      "  inflating: head_ct/head_ct/041.png  \n",
      "  inflating: head_ct/head_ct/042.png  \n",
      "  inflating: head_ct/head_ct/043.png  \n",
      "  inflating: head_ct/head_ct/044.png  \n",
      "  inflating: head_ct/head_ct/045.png  \n",
      "  inflating: head_ct/head_ct/046.png  \n",
      "  inflating: head_ct/head_ct/047.png  \n",
      "  inflating: head_ct/head_ct/048.png  \n",
      "  inflating: head_ct/head_ct/049.png  \n",
      "  inflating: head_ct/head_ct/050.png  \n",
      "  inflating: head_ct/head_ct/051.png  \n",
      "  inflating: head_ct/head_ct/052.png  \n",
      "  inflating: head_ct/head_ct/053.png  \n",
      "  inflating: head_ct/head_ct/054.png  \n",
      "  inflating: head_ct/head_ct/055.png  \n",
      "  inflating: head_ct/head_ct/056.png  \n",
      "  inflating: head_ct/head_ct/057.png  \n",
      "  inflating: head_ct/head_ct/058.png  \n",
      "  inflating: head_ct/head_ct/059.png  \n",
      "  inflating: head_ct/head_ct/060.png  \n",
      "  inflating: head_ct/head_ct/061.png  \n",
      "  inflating: head_ct/head_ct/062.png  \n",
      "  inflating: head_ct/head_ct/063.png  \n",
      "  inflating: head_ct/head_ct/064.png  \n",
      "  inflating: head_ct/head_ct/065.png  \n",
      "  inflating: head_ct/head_ct/066.png  \n",
      "  inflating: head_ct/head_ct/067.png  \n",
      "  inflating: head_ct/head_ct/068.png  \n",
      "  inflating: head_ct/head_ct/069.png  \n",
      "  inflating: head_ct/head_ct/070.png  \n",
      "  inflating: head_ct/head_ct/071.png  \n",
      "  inflating: head_ct/head_ct/072.png  \n",
      "  inflating: head_ct/head_ct/073.png  \n",
      "  inflating: head_ct/head_ct/074.png  \n",
      "  inflating: head_ct/head_ct/075.png  \n",
      "  inflating: head_ct/head_ct/076.png  \n",
      "  inflating: head_ct/head_ct/077.png  \n",
      "  inflating: head_ct/head_ct/078.png  \n",
      "  inflating: head_ct/head_ct/079.png  \n",
      "  inflating: head_ct/head_ct/080.png  \n",
      "  inflating: head_ct/head_ct/081.png  \n",
      "  inflating: head_ct/head_ct/082.png  \n",
      "  inflating: head_ct/head_ct/083.png  \n",
      "  inflating: head_ct/head_ct/084.png  \n",
      "  inflating: head_ct/head_ct/085.png  \n",
      "  inflating: head_ct/head_ct/086.png  \n",
      "  inflating: head_ct/head_ct/087.png  \n",
      "  inflating: head_ct/head_ct/088.png  \n",
      "  inflating: head_ct/head_ct/089.png  \n",
      "  inflating: head_ct/head_ct/090.png  \n",
      "  inflating: head_ct/head_ct/091.png  \n",
      "  inflating: head_ct/head_ct/092.png  \n",
      "  inflating: head_ct/head_ct/093.png  \n",
      "  inflating: head_ct/head_ct/094.png  \n",
      "  inflating: head_ct/head_ct/095.png  \n",
      "  inflating: head_ct/head_ct/096.png  \n",
      "  inflating: head_ct/head_ct/097.png  \n",
      "  inflating: head_ct/head_ct/098.png  \n",
      "  inflating: head_ct/head_ct/099.png  \n",
      "  inflating: head_ct/head_ct/100.png  \n",
      "  inflating: head_ct/head_ct/101.png  \n",
      "  inflating: head_ct/head_ct/102.png  \n",
      "  inflating: head_ct/head_ct/103.png  \n",
      "  inflating: head_ct/head_ct/104.png  \n",
      "  inflating: head_ct/head_ct/105.png  \n",
      "  inflating: head_ct/head_ct/106.png  \n",
      "  inflating: head_ct/head_ct/107.png  \n",
      "  inflating: head_ct/head_ct/108.png  \n",
      "  inflating: head_ct/head_ct/109.png  \n",
      "  inflating: head_ct/head_ct/110.png  \n",
      "  inflating: head_ct/head_ct/111.png  \n",
      "  inflating: head_ct/head_ct/112.png  \n",
      "  inflating: head_ct/head_ct/113.png  \n",
      "  inflating: head_ct/head_ct/114.png  \n",
      "  inflating: head_ct/head_ct/115.png  \n",
      "  inflating: head_ct/head_ct/116.png  \n",
      "  inflating: head_ct/head_ct/117.png  \n",
      "  inflating: head_ct/head_ct/118.png  \n",
      "  inflating: head_ct/head_ct/119.png  \n",
      "  inflating: head_ct/head_ct/120.png  \n",
      "  inflating: head_ct/head_ct/121.png  \n",
      "  inflating: head_ct/head_ct/122.png  \n",
      "  inflating: head_ct/head_ct/123.png  \n",
      "  inflating: head_ct/head_ct/124.png  \n",
      "  inflating: head_ct/head_ct/125.png  \n",
      "  inflating: head_ct/head_ct/126.png  \n",
      "  inflating: head_ct/head_ct/127.png  \n",
      "  inflating: head_ct/head_ct/128.png  \n",
      "  inflating: head_ct/head_ct/129.png  \n",
      "  inflating: head_ct/head_ct/130.png  \n",
      "  inflating: head_ct/head_ct/131.png  \n",
      "  inflating: head_ct/head_ct/132.png  \n",
      "  inflating: head_ct/head_ct/133.png  \n",
      "  inflating: head_ct/head_ct/134.png  \n",
      "  inflating: head_ct/head_ct/135.png  \n",
      "  inflating: head_ct/head_ct/136.png  \n",
      "  inflating: head_ct/head_ct/137.png  \n",
      "  inflating: head_ct/head_ct/138.png  \n",
      "  inflating: head_ct/head_ct/139.png  \n",
      "  inflating: head_ct/head_ct/140.png  \n",
      "  inflating: head_ct/head_ct/141.png  \n",
      "  inflating: head_ct/head_ct/142.png  \n",
      "  inflating: head_ct/head_ct/143.png  \n",
      "  inflating: head_ct/head_ct/144.png  \n",
      "  inflating: head_ct/head_ct/145.png  \n",
      "  inflating: head_ct/head_ct/146.png  \n",
      "  inflating: head_ct/head_ct/147.png  \n",
      "  inflating: head_ct/head_ct/148.png  \n",
      "  inflating: head_ct/head_ct/149.png  \n",
      "  inflating: head_ct/head_ct/150.png  \n",
      "  inflating: head_ct/head_ct/151.png  \n",
      "  inflating: head_ct/head_ct/152.png  \n",
      "  inflating: head_ct/head_ct/153.png  \n",
      "  inflating: head_ct/head_ct/154.png  \n",
      "  inflating: head_ct/head_ct/155.png  \n",
      "  inflating: head_ct/head_ct/156.png  \n",
      "  inflating: head_ct/head_ct/157.png  \n",
      "  inflating: head_ct/head_ct/158.png  \n",
      "  inflating: head_ct/head_ct/159.png  \n",
      "  inflating: head_ct/head_ct/160.png  \n",
      "  inflating: head_ct/head_ct/161.png  \n",
      "  inflating: head_ct/head_ct/162.png  \n",
      "  inflating: head_ct/head_ct/163.png  \n",
      "  inflating: head_ct/head_ct/164.png  \n",
      "  inflating: head_ct/head_ct/165.png  \n",
      "  inflating: head_ct/head_ct/166.png  \n",
      "  inflating: head_ct/head_ct/167.png  \n",
      "  inflating: head_ct/head_ct/168.png  \n",
      "  inflating: head_ct/head_ct/169.png  \n",
      "  inflating: head_ct/head_ct/170.png  \n",
      "  inflating: head_ct/head_ct/171.png  \n",
      "  inflating: head_ct/head_ct/172.png  \n",
      "  inflating: head_ct/head_ct/173.png  \n",
      "  inflating: head_ct/head_ct/174.png  \n",
      "  inflating: head_ct/head_ct/175.png  \n",
      "  inflating: head_ct/head_ct/176.png  \n",
      "  inflating: head_ct/head_ct/177.png  \n",
      "  inflating: head_ct/head_ct/178.png  \n",
      "  inflating: head_ct/head_ct/179.png  \n",
      "  inflating: head_ct/head_ct/180.png  \n",
      "  inflating: head_ct/head_ct/181.png  \n",
      "  inflating: head_ct/head_ct/182.png  \n",
      "  inflating: head_ct/head_ct/183.png  \n",
      "  inflating: head_ct/head_ct/184.png  \n",
      "  inflating: head_ct/head_ct/185.png  \n",
      "  inflating: head_ct/head_ct/186.png  \n",
      "  inflating: head_ct/head_ct/187.png  \n",
      "  inflating: head_ct/head_ct/188.png  \n",
      "  inflating: head_ct/head_ct/189.png  \n",
      "  inflating: head_ct/head_ct/190.png  \n",
      "  inflating: head_ct/head_ct/191.png  \n",
      "  inflating: head_ct/head_ct/192.png  \n",
      "  inflating: head_ct/head_ct/193.png  \n",
      "  inflating: head_ct/head_ct/194.png  \n",
      "  inflating: head_ct/head_ct/195.png  \n",
      "  inflating: head_ct/head_ct/196.png  \n",
      "  inflating: head_ct/head_ct/197.png  \n",
      "  inflating: head_ct/head_ct/198.png  \n",
      "  inflating: head_ct/head_ct/199.png  \n",
      "  inflating: labels.csv              \n"
     ]
    }
   ],
   "source": [
    "!unzip \"/content/drive/MyDrive/Datasets/brain_hemmorhage.zip\""
   ]
  },
  {
   "cell_type": "markdown",
   "metadata": {},
   "source": [
    "# DATA PREPROCESSING"
   ]
  },
  {
   "cell_type": "code",
   "execution_count": 6,
   "metadata": {
    "id": "Mw7pmhe6shXF"
   },
   "outputs": [],
   "source": [
    "import pandas as pd\n",
    "labels=pd.read_csv(\"/content/labels.csv\")"
   ]
  },
  {
   "cell_type": "code",
   "execution_count": 7,
   "metadata": {
    "id": "Ip7CSPZNsotn"
   },
   "outputs": [],
   "source": [
    "labels[' hemorrhage']=labels[' hemorrhage'].astype(\"string\")\n",
    "labels[\"id\"]=labels[\"id\"].astype(\"string\")"
   ]
  },
  {
   "cell_type": "code",
   "execution_count": 8,
   "metadata": {
    "id": "nSkxYstgssRC"
   },
   "outputs": [],
   "source": [
    "indices=labels.iloc[0:10][\"id\"].index\n",
    "for i in indices.tolist():\n",
    "    labels['id'][i]=\"00\"+str(i)"
   ]
  },
  {
   "cell_type": "code",
   "execution_count": 9,
   "metadata": {
    "id": "xYiPXCpXstI_"
   },
   "outputs": [],
   "source": [
    "indices=labels.iloc[10:100][\"id\"].index\n",
    "for i in indices.tolist():\n",
    "    labels['id'][i]=\"0\"+labels['id'][i]"
   ]
  },
  {
   "cell_type": "code",
   "execution_count": 10,
   "metadata": {
    "id": "m4scegFWsu3B"
   },
   "outputs": [],
   "source": [
    "labels = labels.sort_values(' hemorrhage')\n",
    "class_names = list(labels[' hemorrhage'].unique())"
   ]
  },
  {
   "cell_type": "code",
   "execution_count": 12,
   "metadata": {
    "id": "8O_8foOdswga"
   },
   "outputs": [],
   "source": [
    "#creating subfolders\n",
    "import os\n",
    "for i in class_names:\n",
    "    os.makedirs(os.path.join('data_',i))"
   ]
  },
  {
   "cell_type": "code",
   "execution_count": 14,
   "metadata": {
    "id": "GPatwMd8syNi"
   },
   "outputs": [],
   "source": [
    "#moving the image files to their respective categories\n",
    "import shutil\n",
    "for c in class_names: # Category Name\n",
    "    for i in list(labels[labels[' hemorrhage']==c]['id']): # Image Id\n",
    "        get_image = os.path.join('/content/head_ct/head_ct/', i+\".png\") # Path to Images\n",
    "        move_image_to_cat = shutil.copy(get_image, '/content/data_/'+c)"
   ]
  },
  {
   "cell_type": "code",
   "execution_count": 15,
   "metadata": {
    "colab": {
     "base_uri": "https://localhost:8080/"
    },
    "id": "r1ODStDXtBVf",
    "outputId": "a7be8bda-60e5-4494-d30b-28f34576e92c"
   },
   "outputs": [
    {
     "name": "stdout",
     "output_type": "stream",
     "text": [
      "Requirement already satisfied: split-folders in /usr/local/lib/python3.7/dist-packages (0.4.3)\n"
     ]
    }
   ],
   "source": [
    "!pip install split-folders"
   ]
  },
  {
   "cell_type": "code",
   "execution_count": 16,
   "metadata": {
    "id": "2TYlE-EwtKs6"
   },
   "outputs": [],
   "source": [
    "import splitfolders"
   ]
  },
  {
   "cell_type": "code",
   "execution_count": 17,
   "metadata": {
    "colab": {
     "base_uri": "https://localhost:8080/"
    },
    "id": "yR7070SGtMom",
    "outputId": "43b07fca-e13c-4571-8c99-a899aed58be9"
   },
   "outputs": [
    {
     "name": "stderr",
     "output_type": "stream",
     "text": [
      "Copying files: 200 files [00:00, 3927.51 files/s]\n"
     ]
    }
   ],
   "source": [
    "splitfolders.ratio('/content/data_', output='output', seed=1337, ratio=(.6, 0.3,0.1))"
   ]
  },
  {
   "cell_type": "code",
   "execution_count": 5,
   "metadata": {
    "id": "lSNeygMttOoS"
   },
   "outputs": [],
   "source": [
    "# import the libraries as shown below\n",
    "\n",
    "from tensorflow.keras.layers import Input, Lambda, Dense, Flatten,Conv2D\n",
    "from tensorflow.keras.models import Model\n",
    "from tensorflow.keras.applications.vgg19 import VGG19\n",
    "from tensorflow.keras.applications.vgg19 import preprocess_input\n",
    "from tensorflow.keras.preprocessing import image\n",
    "from tensorflow.keras.preprocessing.image import ImageDataGenerator,load_img\n",
    "from tensorflow.keras.models import Sequential\n",
    "import numpy as np\n",
    "from glob import glob\n",
    "import matplotlib.pyplot as plt"
   ]
  },
  {
   "cell_type": "code",
   "execution_count": 19,
   "metadata": {
    "id": "u59bd2wutRyS"
   },
   "outputs": [],
   "source": [
    "# re-size all the images to this\n",
    "IMAGE_SIZE = [224, 224]  #VGG 19 input size\n",
    "\n",
    "train_path = '/content/output/train'\n",
    "valid_path = '/content/output/val'"
   ]
  },
  {
   "cell_type": "code",
   "execution_count": 59,
   "metadata": {
    "colab": {
     "base_uri": "https://localhost:8080/"
    },
    "id": "tNpa2i6UtTaI",
    "outputId": "9d849891-e663-41b3-c30a-ad21c2978dc7"
   },
   "outputs": [
    {
     "name": "stdout",
     "output_type": "stream",
     "text": [
      "Downloading data from https://storage.googleapis.com/tensorflow/keras-applications/vgg19/vgg19_weights_tf_dim_ordering_tf_kernels.h5\n",
      "574717952/574710816 [==============================] - 3s 0us/step\n"
     ]
    }
   ],
   "source": [
    "original_model = VGG19(weights='imagenet')"
   ]
  },
  {
   "cell_type": "code",
   "execution_count": 61,
   "metadata": {
    "colab": {
     "base_uri": "https://localhost:8080/"
    },
    "id": "0NoRdQdCtUja",
    "outputId": "8eddb713-2cb1-4b8d-e9fd-d7e291fc40a0"
   },
   "outputs": [
    {
     "name": "stdout",
     "output_type": "stream",
     "text": [
      "Downloading data from https://storage.googleapis.com/tensorflow/keras-applications/vgg19/vgg19_weights_tf_dim_ordering_tf_kernels_notop.h5\n",
      "80142336/80134624 [==============================] - 1s 0us/step\n"
     ]
    }
   ],
   "source": [
    "vgg = VGG19(input_shape=IMAGE_SIZE + [3], weights='imagenet', include_top=False)"
   ]
  },
  {
   "cell_type": "code",
   "execution_count": 62,
   "metadata": {
    "id": "e-XvpGAntW2w"
   },
   "outputs": [],
   "source": [
    "# don't train existing weights \n",
    "for layer in vgg.layers:\n",
    "    layer.trainable = False"
   ]
  },
  {
   "cell_type": "code",
   "execution_count": 23,
   "metadata": {
    "id": "bBQJU-y1tZKD"
   },
   "outputs": [],
   "source": [
    "folders = glob('/content/output/train/*')"
   ]
  },
  {
   "cell_type": "code",
   "execution_count": 63,
   "metadata": {
    "id": "xERYiZzStfcc"
   },
   "outputs": [],
   "source": [
    "x = Flatten()(vgg.output)"
   ]
  },
  {
   "cell_type": "code",
   "execution_count": 65,
   "metadata": {
    "id": "8TjgiZirthyB"
   },
   "outputs": [],
   "source": [
    "prediction = Dense(len(folders), activation='softmax')(x)\n",
    "#len(folders) is 2 since we have 2 classes\n",
    "\n",
    "# create a model object\n",
    "model = Model(inputs=vgg.input, outputs=prediction)"
   ]
  },
  {
   "cell_type": "code",
   "execution_count": 66,
   "metadata": {
    "id": "sZsiuSQPtk6U"
   },
   "outputs": [],
   "source": [
    "model.compile(\n",
    "  loss='categorical_crossentropy',\n",
    "  optimizer='adam',\n",
    "  metrics=['accuracy']\n",
    ")"
   ]
  },
  {
   "cell_type": "code",
   "execution_count": 67,
   "metadata": {
    "id": "ZM2VDwcjtmad"
   },
   "outputs": [],
   "source": [
    "from tensorflow.keras.preprocessing.image import ImageDataGenerator\n",
    "\n",
    "train_datagen = ImageDataGenerator(rescale = 1./255,\n",
    "                                   shear_range = 0.2,\n",
    "                                   zoom_range = 0.2,\n",
    "                                   horizontal_flip = True)\n",
    "\n",
    "test_datagen = ImageDataGenerator(rescale = 1./255)"
   ]
  },
  {
   "cell_type": "code",
   "execution_count": 32,
   "metadata": {
    "colab": {
     "base_uri": "https://localhost:8080/"
    },
    "id": "EfS8C1GVtnTJ",
    "outputId": "e0faa5be-01db-4df4-b28f-01d2bd275a84"
   },
   "outputs": [
    {
     "name": "stdout",
     "output_type": "stream",
     "text": [
      "Found 120 images belonging to 2 classes.\n"
     ]
    }
   ],
   "source": [
    "# Make sure you provide the same target size as initialied for the image size\n",
    "training_set = train_datagen.flow_from_directory('/content/output/train',\n",
    "                                                 target_size = (224, 224),\n",
    "                                                 batch_size = 16,\n",
    "                                                 class_mode = 'categorical')"
   ]
  },
  {
   "cell_type": "code",
   "execution_count": 33,
   "metadata": {
    "colab": {
     "base_uri": "https://localhost:8080/"
    },
    "id": "iGR4nDxAtrJ4",
    "outputId": "a2d06cb3-60c8-4d3d-8ff4-aa5def62cd8d"
   },
   "outputs": [
    {
     "name": "stdout",
     "output_type": "stream",
     "text": [
      "Found 60 images belonging to 2 classes.\n"
     ]
    }
   ],
   "source": [
    "test_set = test_datagen.flow_from_directory('/content/output/val',\n",
    "                                            target_size = (224, 224),\n",
    "                                            batch_size = 16,\n",
    "                                            class_mode = 'categorical')"
   ]
  },
  {
   "cell_type": "markdown",
   "metadata": {},
   "source": [
    "## CHange the model / Increase dataset"
   ]
  },
  {
   "cell_type": "code",
   "execution_count": 75,
   "metadata": {
    "colab": {
     "base_uri": "https://localhost:8080/"
    },
    "id": "cefmpXU-ttU8",
    "outputId": "bc7ce52b-f2f1-44a4-ea00-db13731d1963"
   },
   "outputs": [
    {
     "name": "stderr",
     "output_type": "stream",
     "text": [
      "/usr/local/lib/python3.7/dist-packages/tensorflow/python/keras/engine/training.py:1844: UserWarning: `Model.fit_generator` is deprecated and will be removed in a future version. Please use `Model.fit`, which supports generators.\n",
      "  warnings.warn('`Model.fit_generator` is deprecated and '\n"
     ]
    },
    {
     "name": "stdout",
     "output_type": "stream",
     "text": [
      "Epoch 1/17\n",
      "8/8 [==============================] - 2s 306ms/step - loss: 0.0189 - accuracy: 1.0000 - val_loss: 0.2438 - val_accuracy: 0.9000\n",
      "Epoch 2/17\n",
      "8/8 [==============================] - 2s 286ms/step - loss: 0.0235 - accuracy: 1.0000 - val_loss: 0.2366 - val_accuracy: 0.8667\n",
      "Epoch 3/17\n",
      "8/8 [==============================] - 2s 311ms/step - loss: 0.0150 - accuracy: 1.0000 - val_loss: 0.2398 - val_accuracy: 0.9000\n",
      "Epoch 4/17\n",
      "8/8 [==============================] - 2s 286ms/step - loss: 0.0233 - accuracy: 1.0000 - val_loss: 0.2406 - val_accuracy: 0.8833\n",
      "Epoch 5/17\n",
      "8/8 [==============================] - 2s 290ms/step - loss: 0.0121 - accuracy: 1.0000 - val_loss: 0.2478 - val_accuracy: 0.9000\n",
      "Epoch 6/17\n",
      "8/8 [==============================] - 2s 288ms/step - loss: 0.0157 - accuracy: 1.0000 - val_loss: 0.2407 - val_accuracy: 0.9167\n",
      "Epoch 7/17\n",
      "8/8 [==============================] - 2s 292ms/step - loss: 0.0128 - accuracy: 1.0000 - val_loss: 0.2403 - val_accuracy: 0.9333\n",
      "Epoch 8/17\n",
      "8/8 [==============================] - 2s 284ms/step - loss: 0.0161 - accuracy: 1.0000 - val_loss: 0.2412 - val_accuracy: 0.9167\n",
      "Epoch 9/17\n",
      "8/8 [==============================] - 2s 305ms/step - loss: 0.0174 - accuracy: 1.0000 - val_loss: 0.2488 - val_accuracy: 0.8833\n",
      "Epoch 10/17\n",
      "8/8 [==============================] - 2s 282ms/step - loss: 0.0298 - accuracy: 0.9917 - val_loss: 0.2466 - val_accuracy: 0.9000\n",
      "Epoch 11/17\n",
      "8/8 [==============================] - 2s 302ms/step - loss: 0.0123 - accuracy: 1.0000 - val_loss: 0.2663 - val_accuracy: 0.8667\n",
      "Epoch 12/17\n",
      "8/8 [==============================] - 2s 306ms/step - loss: 0.0208 - accuracy: 1.0000 - val_loss: 0.2584 - val_accuracy: 0.9000\n",
      "Epoch 13/17\n",
      "8/8 [==============================] - 2s 284ms/step - loss: 0.0155 - accuracy: 1.0000 - val_loss: 0.2841 - val_accuracy: 0.8667\n",
      "Epoch 14/17\n",
      "8/8 [==============================] - 2s 306ms/step - loss: 0.0265 - accuracy: 1.0000 - val_loss: 0.2538 - val_accuracy: 0.9167\n",
      "Epoch 15/17\n",
      "8/8 [==============================] - 2s 285ms/step - loss: 0.0172 - accuracy: 1.0000 - val_loss: 0.2430 - val_accuracy: 0.9333\n",
      "Epoch 16/17\n",
      "8/8 [==============================] - 2s 288ms/step - loss: 0.0157 - accuracy: 1.0000 - val_loss: 0.2487 - val_accuracy: 0.8833\n",
      "Epoch 17/17\n",
      "8/8 [==============================] - 2s 288ms/step - loss: 0.0118 - accuracy: 1.0000 - val_loss: 0.2420 - val_accuracy: 0.9333\n"
     ]
    }
   ],
   "source": [
    "# fit the model\n",
    "# Run the cell. It will take some time to execute\n",
    "r = model.fit_generator(\n",
    "  training_set,\n",
    "  validation_data=test_set,\n",
    "  epochs=17,\n",
    "  steps_per_epoch=len(training_set),\n",
    "  validation_steps=len(test_set)\n",
    ")"
   ]
  },
  {
   "cell_type": "code",
   "execution_count": 76,
   "metadata": {
    "colab": {
     "base_uri": "https://localhost:8080/",
     "height": 530
    },
    "id": "cS3KCxHztvdO",
    "outputId": "42a5bb9f-4e42-4b59-bfc6-287ce813e90f"
   },
   "outputs": [
    {
     "data": {
      "image/png": "[encoded data removed]",
      "text/plain": [
       "<Figure size 432x288 with 1 Axes>"
      ]
     },
     "metadata": {
      "needs_background": "light",
      "tags": []
     },
     "output_type": "display_data"
    },
    {
     "data": {
      "image/png": "[encoded data removed]",
      "text/plain": [
       "<Figure size 432x288 with 1 Axes>"
      ]
     },
     "metadata": {
      "needs_background": "light",
      "tags": []
     },
     "output_type": "display_data"
    },
    {
     "data": {
      "text/plain": [
       "<Figure size 432x288 with 0 Axes>"
      ]
     },
     "metadata": {
      "tags": []
     },
     "output_type": "display_data"
    }
   ],
   "source": [
    "# plot the loss\n",
    "plt.plot(r.history['loss'], label='train loss')\n",
    "plt.plot(r.history['val_loss'], label='val loss')\n",
    "plt.legend()\n",
    "plt.show()\n",
    "plt.savefig('LossVal_loss')\n",
    "\n",
    "# plot the accuracy\n",
    "plt.plot(r.history['accuracy'], label='train acc')\n",
    "plt.plot(r.history['val_accuracy'], label='val acc')\n",
    "plt.legend()\n",
    "plt.show()\n",
    "plt.savefig('AccVal_acc')"
   ]
  },
  {
   "cell_type": "code",
   "execution_count": 77,
   "metadata": {
    "id": "mrBSLf8RwBQ2"
   },
   "outputs": [],
   "source": [
    "model.save('model_vgg19_b16_ep_10_acc_93.33.h5')"
   ]
  },
  {
   "cell_type": "code",
   "execution_count": 78,
   "metadata": {
    "id": "79kR685QwIys"
   },
   "outputs": [],
   "source": [
    "y_pred = model.predict(test_set)"
   ]
  },
  {
   "cell_type": "code",
   "execution_count": 79,
   "metadata": {
    "colab": {
     "base_uri": "https://localhost:8080/"
    },
    "id": "WH3ZYv9M5q7K",
    "outputId": "f788d6bb-db7f-4f18-9026-1d6ac6b46881"
   },
   "outputs": [
    {
     "data": {
      "text/plain": [
       "array([[1.6283944e-02, 9.8371601e-01],\n",
       "       [9.9945647e-01, 5.4349680e-04],\n",
       "       [9.9772197e-01, 2.2780513e-03],\n",
       "       [9.1397232e-01, 8.6027652e-02],\n",
       "       [6.8447649e-02, 9.3155229e-01],\n",
       "       [2.5003546e-01, 7.4996454e-01],\n",
       "       [6.3142492e-05, 9.9993682e-01],\n",
       "       [9.9831212e-01, 1.6878397e-03],\n",
       "       [9.9608862e-01, 3.9114058e-03],\n",
       "       [6.7667461e-06, 9.9999321e-01],\n",
       "       [2.5518659e-01, 7.4481338e-01],\n",
       "       [7.9076564e-01, 2.0923440e-01],\n",
       "       [9.3785989e-01, 6.2140159e-02],\n",
       "       [2.2201452e-01, 7.7798545e-01],\n",
       "       [1.1752404e-03, 9.9882478e-01],\n",
       "       [1.5873611e-03, 9.9841261e-01],\n",
       "       [9.8716658e-01, 1.2833460e-02],\n",
       "       [1.3283816e-03, 9.9867165e-01],\n",
       "       [5.2726340e-05, 9.9994731e-01],\n",
       "       [9.9601030e-02, 9.0039891e-01],\n",
       "       [1.7042059e-01, 8.2957947e-01],\n",
       "       [9.9994814e-01, 5.1896710e-05],\n",
       "       [3.7060011e-02, 9.6293992e-01],\n",
       "       [6.2627250e-01, 3.7372747e-01],\n",
       "       [9.9882311e-01, 1.1768624e-03],\n",
       "       [5.6801838e-01, 4.3198159e-01],\n",
       "       [3.3748153e-01, 6.6251844e-01],\n",
       "       [2.0947058e-01, 7.9052943e-01],\n",
       "       [7.5017220e-01, 2.4982776e-01],\n",
       "       [9.9435693e-01, 5.6430586e-03],\n",
       "       [5.2141029e-01, 4.7858968e-01],\n",
       "       [1.3714300e-03, 9.9862862e-01],\n",
       "       [9.9957699e-01, 4.2302030e-04],\n",
       "       [9.8792177e-01, 1.2078181e-02],\n",
       "       [9.7020918e-01, 2.9790841e-02],\n",
       "       [6.0770613e-01, 3.9229381e-01],\n",
       "       [9.9628121e-01, 3.7187994e-03],\n",
       "       [1.3849185e-01, 8.6150813e-01],\n",
       "       [7.8171389e-03, 9.9218279e-01],\n",
       "       [1.8895794e-04, 9.9981111e-01],\n",
       "       [9.9987400e-01, 1.2599790e-04],\n",
       "       [2.3769148e-02, 9.7623080e-01],\n",
       "       [4.3725963e-03, 9.9562740e-01],\n",
       "       [9.4866174e-01, 5.1338293e-02],\n",
       "       [1.3456281e-01, 8.6543715e-01],\n",
       "       [1.7239401e-02, 9.8276067e-01],\n",
       "       [2.0979601e-01, 7.9020399e-01],\n",
       "       [3.6336831e-04, 9.9963665e-01],\n",
       "       [8.4622644e-02, 9.1537738e-01],\n",
       "       [9.9938321e-01, 6.1681960e-04],\n",
       "       [3.8524112e-01, 6.1475885e-01],\n",
       "       [7.4409187e-01, 2.5590816e-01],\n",
       "       [9.9913400e-01, 8.6596445e-04],\n",
       "       [9.8329127e-01, 1.6708810e-02],\n",
       "       [9.8966563e-01, 1.0334345e-02],\n",
       "       [6.9345515e-05, 9.9993062e-01],\n",
       "       [9.9706382e-01, 2.9362389e-03],\n",
       "       [9.9524164e-01, 4.7583194e-03],\n",
       "       [4.8123634e-01, 5.1876366e-01],\n",
       "       [9.4227850e-01, 5.7721552e-02]], dtype=float32)"
      ]
     },
     "execution_count": 79,
     "metadata": {
      "tags": []
     },
     "output_type": "execute_result"
    }
   ],
   "source": [
    "y_pred"
   ]
  },
  {
   "cell_type": "code",
   "execution_count": 1,
   "metadata": {
    "id": "gj_KImnt5uHP"
   },
   "outputs": [],
   "source": [
    "from tensorflow.keras.models import load_model\n",
    "from tensorflow.keras.preprocessing import image\n",
    "from tensorflow.keras.applications.vgg19 import preprocess_input\n",
    "model=load_model('model_vgg19_b16_ep_10_acc_93.33.h5')"
   ]
  },
  {
   "cell_type": "markdown",
   "metadata": {},
   "source": [
    "#### 1 means there is hemorrhage; 0 means normal slice."
   ]
  },
  {
   "cell_type": "code",
   "execution_count": 78,
   "metadata": {},
   "outputs": [],
   "source": [
    "#img=image.load_img('output/test/0/193.png',target_size=(224,224))\n",
    "#img=image.load_img('output/test/1/042.png',target_size=(224,224))\n",
    "#img=image.load_img('output/test/1/068.png',target_size=(224,224))\n",
    "#img=image.load_img('output/test/1/073.png',target_size=(224,224))\n",
    "img=image.load_img('output/test/1/093.png',target_size=(224,224))"
   ]
  },
  {
   "cell_type": "code",
   "execution_count": 79,
   "metadata": {},
   "outputs": [],
   "source": [
    "x=image.img_to_array(img)"
   ]
  },
  {
   "cell_type": "code",
   "execution_count": 80,
   "metadata": {},
   "outputs": [
    {
     "data": {
      "text/plain": [
       "(1, 224, 224, 3)"
      ]
     },
     "execution_count": 80,
     "metadata": {},
     "output_type": "execute_result"
    }
   ],
   "source": [
    "import numpy as np\n",
    "x=np.expand_dims(x,axis=0)\n",
    "img_data=preprocess_input(x)\n",
    "img_data.shape"
   ]
  },
  {
   "cell_type": "code",
   "execution_count": 81,
   "metadata": {},
   "outputs": [
    {
     "data": {
      "text/plain": [
       "array([[2.408254e-16, 1.000000e+00]], dtype=float32)"
      ]
     },
     "execution_count": 81,
     "metadata": {},
     "output_type": "execute_result"
    }
   ],
   "source": [
    "model.predict(img_data)"
   ]
  },
  {
   "cell_type": "code",
   "execution_count": 82,
   "metadata": {},
   "outputs": [
    {
     "name": "stdout",
     "output_type": "stream",
     "text": [
      "Brain Hemorrhage\n"
     ]
    }
   ],
   "source": [
    "a=np.argmax(model.predict(img_data), axis=1)\n",
    "if(a==0):\n",
    "    print(\"Normal\")\n",
    "else:\n",
    "    print(\"Brain Hemorrhage\")"
   ]
  },
  {
   "cell_type": "markdown",
   "metadata": {},
   "source": [
    "## On the given dataset model looks to have a great recall but a low Precision i.e. It mostly detects Normal as defected but rarely detects Defective as normal"
   ]
  },
  {
   "cell_type": "code",
   "execution_count": null,
   "metadata": {},
   "outputs": [],
   "source": []
  }
 ],
 "metadata": {
  "accelerator": "GPU",
  "colab": {
   "name": "Untitled0.ipynb",
   "provenance": []
  },
  "kernelspec": {
   "display_name": "Python 3",
   "language": "python",
   "name": "python3"
  },
  "language_info": {
   "codemirror_mode": {
    "name": "ipython",
    "version": 3
   },
   "file_extension": ".py",
   "mimetype": "text/x-python",
   "name": "python",
   "nbconvert_exporter": "python",
   "pygments_lexer": "ipython3",
   "version": "3.8.3"
  }
 },
 "nbformat": 4,
 "nbformat_minor": 1
}
