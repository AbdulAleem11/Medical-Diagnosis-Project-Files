{
 "cells": [
  {
   "cell_type": "markdown",
   "metadata": {},
   "source": [
    "## Caution!! In case of immediate use, the model has already been trained and can be loaded and run instantly"
   ]
  },
  {
   "cell_type": "markdown",
   "metadata": {},
   "source": [
    "# Problem Statement (Multi-label classification)"
   ]
  },
  {
   "cell_type": "markdown",
   "metadata": {},
   "source": [
    "## Create a model for  performing the presumptive diagnosis of two diseases of urinary system: acute inflammations of urinary bladder and acute nephritises."
   ]
  },
  {
   "cell_type": "code",
   "execution_count": 25,
   "metadata": {},
   "outputs": [],
   "source": [
    "import numpy as np\n",
    "import pandas as pd\n",
    "import matplotlib.pyplot as plt\n",
    "%matplotlib inline\n",
    "import seaborn as sns\n",
    "import warnings\n",
    "import pandas_profiling\n",
    "warnings.filterwarnings('ignore')"
   ]
  },
  {
   "cell_type": "code",
   "execution_count": 26,
   "metadata": {},
   "outputs": [],
   "source": [
    "df=pd.read_excel('UrineDiagonsisData.xlsx',header=None)"
   ]
  },
  {
   "cell_type": "code",
   "execution_count": 27,
   "metadata": {},
   "outputs": [
    {
     "data": {
      "text/html": [
       "<div>\n",
       "<style scoped>\n",
       "    .dataframe tbody tr th:only-of-type {\n",
       "        vertical-align: middle;\n",
       "    }\n",
       "\n",
       "    .dataframe tbody tr th {\n",
       "        vertical-align: top;\n",
       "    }\n",
       "\n",
       "    .dataframe thead th {\n",
       "        text-align: right;\n",
       "    }\n",
       "</style>\n",
       "<table border=\"1\" class=\"dataframe\">\n",
       "  <thead>\n",
       "    <tr style=\"text-align: right;\">\n",
       "      <th></th>\n",
       "      <th>0</th>\n",
       "      <th>1</th>\n",
       "      <th>2</th>\n",
       "      <th>3</th>\n",
       "      <th>4</th>\n",
       "      <th>5</th>\n",
       "      <th>6</th>\n",
       "      <th>7</th>\n",
       "      <th>8</th>\n",
       "      <th>9</th>\n",
       "    </tr>\n",
       "  </thead>\n",
       "  <tbody>\n",
       "    <tr>\n",
       "      <th>0</th>\n",
       "      <td>35,5</td>\n",
       "      <td>no</td>\n",
       "      <td>yes</td>\n",
       "      <td>no</td>\n",
       "      <td>no</td>\n",
       "      <td>no</td>\n",
       "      <td>no</td>\n",
       "      <td>no</td>\n",
       "      <td>NaN</td>\n",
       "      <td>For example, '35,9 no no yes yes yes yes no'</td>\n",
       "    </tr>\n",
       "    <tr>\n",
       "      <th>1</th>\n",
       "      <td>35,9</td>\n",
       "      <td>no</td>\n",
       "      <td>no</td>\n",
       "      <td>yes</td>\n",
       "      <td>yes</td>\n",
       "      <td>yes</td>\n",
       "      <td>yes</td>\n",
       "      <td>no</td>\n",
       "      <td>NaN</td>\n",
       "      <td>Where:</td>\n",
       "    </tr>\n",
       "    <tr>\n",
       "      <th>2</th>\n",
       "      <td>35,9</td>\n",
       "      <td>no</td>\n",
       "      <td>yes</td>\n",
       "      <td>no</td>\n",
       "      <td>no</td>\n",
       "      <td>no</td>\n",
       "      <td>no</td>\n",
       "      <td>no</td>\n",
       "      <td>NaN</td>\n",
       "      <td>'35,9' Temperature of patient</td>\n",
       "    </tr>\n",
       "    <tr>\n",
       "      <th>3</th>\n",
       "      <td>36,0</td>\n",
       "      <td>no</td>\n",
       "      <td>no</td>\n",
       "      <td>yes</td>\n",
       "      <td>yes</td>\n",
       "      <td>yes</td>\n",
       "      <td>yes</td>\n",
       "      <td>no</td>\n",
       "      <td>NaN</td>\n",
       "      <td>'no' Occurrence of nausea</td>\n",
       "    </tr>\n",
       "    <tr>\n",
       "      <th>4</th>\n",
       "      <td>36,0</td>\n",
       "      <td>no</td>\n",
       "      <td>yes</td>\n",
       "      <td>no</td>\n",
       "      <td>no</td>\n",
       "      <td>no</td>\n",
       "      <td>no</td>\n",
       "      <td>no</td>\n",
       "      <td>NaN</td>\n",
       "      <td>'no' Lumbar pain</td>\n",
       "    </tr>\n",
       "    <tr>\n",
       "      <th>5</th>\n",
       "      <td>36,0</td>\n",
       "      <td>no</td>\n",
       "      <td>yes</td>\n",
       "      <td>no</td>\n",
       "      <td>no</td>\n",
       "      <td>no</td>\n",
       "      <td>no</td>\n",
       "      <td>no</td>\n",
       "      <td>NaN</td>\n",
       "      <td>'yes' Urine pushing (continuous need for urina...</td>\n",
       "    </tr>\n",
       "    <tr>\n",
       "      <th>6</th>\n",
       "      <td>36,2</td>\n",
       "      <td>no</td>\n",
       "      <td>no</td>\n",
       "      <td>yes</td>\n",
       "      <td>yes</td>\n",
       "      <td>yes</td>\n",
       "      <td>yes</td>\n",
       "      <td>no</td>\n",
       "      <td>NaN</td>\n",
       "      <td>'yes' Micturition pains</td>\n",
       "    </tr>\n",
       "    <tr>\n",
       "      <th>7</th>\n",
       "      <td>36,2</td>\n",
       "      <td>no</td>\n",
       "      <td>yes</td>\n",
       "      <td>no</td>\n",
       "      <td>no</td>\n",
       "      <td>no</td>\n",
       "      <td>no</td>\n",
       "      <td>no</td>\n",
       "      <td>NaN</td>\n",
       "      <td>'yes' Burning of urethra, itch, swelling of ur...</td>\n",
       "    </tr>\n",
       "  </tbody>\n",
       "</table>\n",
       "</div>"
      ],
      "text/plain": [
       "      0   1    2    3    4    5    6   7   8  \\\n",
       "0  35,5  no  yes   no   no   no   no  no NaN   \n",
       "1  35,9  no   no  yes  yes  yes  yes  no NaN   \n",
       "2  35,9  no  yes   no   no   no   no  no NaN   \n",
       "3  36,0  no   no  yes  yes  yes  yes  no NaN   \n",
       "4  36,0  no  yes   no   no   no   no  no NaN   \n",
       "5  36,0  no  yes   no   no   no   no  no NaN   \n",
       "6  36,2  no   no  yes  yes  yes  yes  no NaN   \n",
       "7  36,2  no  yes   no   no   no   no  no NaN   \n",
       "\n",
       "                                                   9  \n",
       "0       For example, '35,9 no no yes yes yes yes no'  \n",
       "1                                             Where:  \n",
       "2                      '35,9' Temperature of patient  \n",
       "3                          'no' Occurrence of nausea  \n",
       "4                                   'no' Lumbar pain  \n",
       "5  'yes' Urine pushing (continuous need for urina...  \n",
       "6                            'yes' Micturition pains  \n",
       "7  'yes' Burning of urethra, itch, swelling of ur...  "
      ]
     },
     "execution_count": 27,
     "metadata": {},
     "output_type": "execute_result"
    }
   ],
   "source": [
    "df.head(8)"
   ]
  },
  {
   "cell_type": "raw",
   "metadata": {},
   "source": [
    "-- Attribute lines:\n",
    "For example, '35,9 no no yes yes yes yes no'\n",
    "Where:\n",
    "'35,9' Temperature of patient\n",
    "'no' Occurrence of nausea\n",
    "'no' Lumbar pain\n",
    "'yes' Urine pushing (continuous need for urination)\n",
    "'yes' Micturition pains\n",
    "'yes' Burning of urethra, itch, swelling of urethra outlet\n",
    "'yes' decision: Inflammation of urinary bladder\n",
    "'no' decision: Nephritis of renal pelvis origin\n",
    "\n",
    "Attribute Information:\n",
    "\n",
    "a1 Temperature of patient { 35C-42C }\n",
    "a2 Occurrence of nausea { yes, no }\n",
    "a3 Lumbar pain { yes, no }\n",
    "a4 Urine pushing (continuous need for urination) { yes, no }\n",
    "a5 Micturition pains { yes, no }\n",
    "a6 Burning of urethra, itch, swelling of urethra outlet { yes, no }\n",
    "d1 decision: Inflammation of urinary bladder { yes, no }\n",
    "d2 decision: Nephritis of renal pelvis origin { yes, no }\n",
    "\n"
   ]
  },
  {
   "cell_type": "code",
   "execution_count": 28,
   "metadata": {},
   "outputs": [],
   "source": [
    "df=df.rename(columns={0:\"Temperature\",1:\"Occurrence of nausea\",2:\"Lumbar pain\",3:\"Urine pushing\",4:\"Micturition pains\",5:\"Burning of urethra, itch, swelling of urethra outlet\",6:\"Inflammation of urinary bladder\",7:\"Nephritis of renal pelvis origin\"})"
   ]
  },
  {
   "cell_type": "code",
   "execution_count": 29,
   "metadata": {},
   "outputs": [
    {
     "data": {
      "text/html": [
       "<div>\n",
       "<style scoped>\n",
       "    .dataframe tbody tr th:only-of-type {\n",
       "        vertical-align: middle;\n",
       "    }\n",
       "\n",
       "    .dataframe tbody tr th {\n",
       "        vertical-align: top;\n",
       "    }\n",
       "\n",
       "    .dataframe thead th {\n",
       "        text-align: right;\n",
       "    }\n",
       "</style>\n",
       "<table border=\"1\" class=\"dataframe\">\n",
       "  <thead>\n",
       "    <tr style=\"text-align: right;\">\n",
       "      <th></th>\n",
       "      <th>Temperature</th>\n",
       "      <th>Occurrence of nausea</th>\n",
       "      <th>Lumbar pain</th>\n",
       "      <th>Urine pushing</th>\n",
       "      <th>Micturition pains</th>\n",
       "      <th>Burning of urethra, itch, swelling of urethra outlet</th>\n",
       "      <th>Inflammation of urinary bladder</th>\n",
       "      <th>Nephritis of renal pelvis origin</th>\n",
       "      <th>8</th>\n",
       "      <th>9</th>\n",
       "    </tr>\n",
       "  </thead>\n",
       "  <tbody>\n",
       "    <tr>\n",
       "      <th>0</th>\n",
       "      <td>35,5</td>\n",
       "      <td>no</td>\n",
       "      <td>yes</td>\n",
       "      <td>no</td>\n",
       "      <td>no</td>\n",
       "      <td>no</td>\n",
       "      <td>no</td>\n",
       "      <td>no</td>\n",
       "      <td>NaN</td>\n",
       "      <td>For example, '35,9 no no yes yes yes yes no'</td>\n",
       "    </tr>\n",
       "    <tr>\n",
       "      <th>1</th>\n",
       "      <td>35,9</td>\n",
       "      <td>no</td>\n",
       "      <td>no</td>\n",
       "      <td>yes</td>\n",
       "      <td>yes</td>\n",
       "      <td>yes</td>\n",
       "      <td>yes</td>\n",
       "      <td>no</td>\n",
       "      <td>NaN</td>\n",
       "      <td>Where:</td>\n",
       "    </tr>\n",
       "    <tr>\n",
       "      <th>2</th>\n",
       "      <td>35,9</td>\n",
       "      <td>no</td>\n",
       "      <td>yes</td>\n",
       "      <td>no</td>\n",
       "      <td>no</td>\n",
       "      <td>no</td>\n",
       "      <td>no</td>\n",
       "      <td>no</td>\n",
       "      <td>NaN</td>\n",
       "      <td>'35,9' Temperature of patient</td>\n",
       "    </tr>\n",
       "    <tr>\n",
       "      <th>3</th>\n",
       "      <td>36,0</td>\n",
       "      <td>no</td>\n",
       "      <td>no</td>\n",
       "      <td>yes</td>\n",
       "      <td>yes</td>\n",
       "      <td>yes</td>\n",
       "      <td>yes</td>\n",
       "      <td>no</td>\n",
       "      <td>NaN</td>\n",
       "      <td>'no' Occurrence of nausea</td>\n",
       "    </tr>\n",
       "    <tr>\n",
       "      <th>4</th>\n",
       "      <td>36,0</td>\n",
       "      <td>no</td>\n",
       "      <td>yes</td>\n",
       "      <td>no</td>\n",
       "      <td>no</td>\n",
       "      <td>no</td>\n",
       "      <td>no</td>\n",
       "      <td>no</td>\n",
       "      <td>NaN</td>\n",
       "      <td>'no' Lumbar pain</td>\n",
       "    </tr>\n",
       "  </tbody>\n",
       "</table>\n",
       "</div>"
      ],
      "text/plain": [
       "  Temperature Occurrence of nausea Lumbar pain Urine pushing  \\\n",
       "0        35,5                   no         yes            no   \n",
       "1        35,9                   no          no           yes   \n",
       "2        35,9                   no         yes            no   \n",
       "3        36,0                   no          no           yes   \n",
       "4        36,0                   no         yes            no   \n",
       "\n",
       "  Micturition pains Burning of urethra, itch, swelling of urethra outlet  \\\n",
       "0                no                                                 no     \n",
       "1               yes                                                yes     \n",
       "2                no                                                 no     \n",
       "3               yes                                                yes     \n",
       "4                no                                                 no     \n",
       "\n",
       "  Inflammation of urinary bladder Nephritis of renal pelvis origin   8  \\\n",
       "0                              no                               no NaN   \n",
       "1                             yes                               no NaN   \n",
       "2                              no                               no NaN   \n",
       "3                             yes                               no NaN   \n",
       "4                              no                               no NaN   \n",
       "\n",
       "                                              9  \n",
       "0  For example, '35,9 no no yes yes yes yes no'  \n",
       "1                                        Where:  \n",
       "2                 '35,9' Temperature of patient  \n",
       "3                     'no' Occurrence of nausea  \n",
       "4                              'no' Lumbar pain  "
      ]
     },
     "execution_count": 29,
     "metadata": {},
     "output_type": "execute_result"
    }
   ],
   "source": [
    "df.head()"
   ]
  },
  {
   "cell_type": "code",
   "execution_count": 30,
   "metadata": {},
   "outputs": [],
   "source": [
    "# As mentioned we do not need these two columns\n",
    "df=df.drop([8,9], axis=1)"
   ]
  },
  {
   "cell_type": "code",
   "execution_count": 31,
   "metadata": {},
   "outputs": [
    {
     "data": {
      "text/plain": [
       "(120, 8)"
      ]
     },
     "execution_count": 31,
     "metadata": {},
     "output_type": "execute_result"
    }
   ],
   "source": [
    "df.shape"
   ]
  },
  {
   "cell_type": "code",
   "execution_count": 32,
   "metadata": {},
   "outputs": [
    {
     "data": {
      "text/html": [
       "<div>\n",
       "<style scoped>\n",
       "    .dataframe tbody tr th:only-of-type {\n",
       "        vertical-align: middle;\n",
       "    }\n",
       "\n",
       "    .dataframe tbody tr th {\n",
       "        vertical-align: top;\n",
       "    }\n",
       "\n",
       "    .dataframe thead th {\n",
       "        text-align: right;\n",
       "    }\n",
       "</style>\n",
       "<table border=\"1\" class=\"dataframe\">\n",
       "  <thead>\n",
       "    <tr style=\"text-align: right;\">\n",
       "      <th></th>\n",
       "      <th>Temperature</th>\n",
       "      <th>Occurrence of nausea</th>\n",
       "      <th>Lumbar pain</th>\n",
       "      <th>Urine pushing</th>\n",
       "      <th>Micturition pains</th>\n",
       "      <th>Burning of urethra, itch, swelling of urethra outlet</th>\n",
       "      <th>Inflammation of urinary bladder</th>\n",
       "      <th>Nephritis of renal pelvis origin</th>\n",
       "    </tr>\n",
       "  </thead>\n",
       "  <tbody>\n",
       "    <tr>\n",
       "      <th>0</th>\n",
       "      <td>35,5</td>\n",
       "      <td>no</td>\n",
       "      <td>yes</td>\n",
       "      <td>no</td>\n",
       "      <td>no</td>\n",
       "      <td>no</td>\n",
       "      <td>no</td>\n",
       "      <td>no</td>\n",
       "    </tr>\n",
       "    <tr>\n",
       "      <th>1</th>\n",
       "      <td>35,9</td>\n",
       "      <td>no</td>\n",
       "      <td>no</td>\n",
       "      <td>yes</td>\n",
       "      <td>yes</td>\n",
       "      <td>yes</td>\n",
       "      <td>yes</td>\n",
       "      <td>no</td>\n",
       "    </tr>\n",
       "    <tr>\n",
       "      <th>2</th>\n",
       "      <td>35,9</td>\n",
       "      <td>no</td>\n",
       "      <td>yes</td>\n",
       "      <td>no</td>\n",
       "      <td>no</td>\n",
       "      <td>no</td>\n",
       "      <td>no</td>\n",
       "      <td>no</td>\n",
       "    </tr>\n",
       "    <tr>\n",
       "      <th>3</th>\n",
       "      <td>36,0</td>\n",
       "      <td>no</td>\n",
       "      <td>no</td>\n",
       "      <td>yes</td>\n",
       "      <td>yes</td>\n",
       "      <td>yes</td>\n",
       "      <td>yes</td>\n",
       "      <td>no</td>\n",
       "    </tr>\n",
       "    <tr>\n",
       "      <th>4</th>\n",
       "      <td>36,0</td>\n",
       "      <td>no</td>\n",
       "      <td>yes</td>\n",
       "      <td>no</td>\n",
       "      <td>no</td>\n",
       "      <td>no</td>\n",
       "      <td>no</td>\n",
       "      <td>no</td>\n",
       "    </tr>\n",
       "  </tbody>\n",
       "</table>\n",
       "</div>"
      ],
      "text/plain": [
       "  Temperature Occurrence of nausea Lumbar pain Urine pushing  \\\n",
       "0        35,5                   no         yes            no   \n",
       "1        35,9                   no          no           yes   \n",
       "2        35,9                   no         yes            no   \n",
       "3        36,0                   no          no           yes   \n",
       "4        36,0                   no         yes            no   \n",
       "\n",
       "  Micturition pains Burning of urethra, itch, swelling of urethra outlet  \\\n",
       "0                no                                                 no     \n",
       "1               yes                                                yes     \n",
       "2                no                                                 no     \n",
       "3               yes                                                yes     \n",
       "4                no                                                 no     \n",
       "\n",
       "  Inflammation of urinary bladder Nephritis of renal pelvis origin  \n",
       "0                              no                               no  \n",
       "1                             yes                               no  \n",
       "2                              no                               no  \n",
       "3                             yes                               no  \n",
       "4                              no                               no  "
      ]
     },
     "execution_count": 32,
     "metadata": {},
     "output_type": "execute_result"
    }
   ],
   "source": [
    "df.head()"
   ]
  },
  {
   "cell_type": "code",
   "execution_count": 33,
   "metadata": {},
   "outputs": [
    {
     "data": {
      "text/plain": [
       "(120, 8)"
      ]
     },
     "execution_count": 33,
     "metadata": {},
     "output_type": "execute_result"
    }
   ],
   "source": [
    "df.shape"
   ]
  },
  {
   "cell_type": "code",
   "execution_count": 34,
   "metadata": {},
   "outputs": [
    {
     "name": "stdout",
     "output_type": "stream",
     "text": [
      "<class 'pandas.core.frame.DataFrame'>\n",
      "RangeIndex: 120 entries, 0 to 119\n",
      "Data columns (total 8 columns):\n",
      " #   Column                                                Non-Null Count  Dtype \n",
      "---  ------                                                --------------  ----- \n",
      " 0   Temperature                                           120 non-null    object\n",
      " 1   Occurrence of nausea                                  120 non-null    object\n",
      " 2   Lumbar pain                                           120 non-null    object\n",
      " 3   Urine pushing                                         120 non-null    object\n",
      " 4   Micturition pains                                     120 non-null    object\n",
      " 5   Burning of urethra, itch, swelling of urethra outlet  120 non-null    object\n",
      " 6   Inflammation of urinary bladder                       120 non-null    object\n",
      " 7   Nephritis of renal pelvis origin                      120 non-null    object\n",
      "dtypes: object(8)\n",
      "memory usage: 7.6+ KB\n"
     ]
    }
   ],
   "source": [
    "df.info()"
   ]
  },
  {
   "cell_type": "code",
   "execution_count": 35,
   "metadata": {},
   "outputs": [],
   "source": [
    "def modify_temp(x):\n",
    "    return int(x.split(\",\")[0])+0.1*int(x.split(\",\")[1])"
   ]
  },
  {
   "cell_type": "code",
   "execution_count": 36,
   "metadata": {},
   "outputs": [],
   "source": [
    "df[\"Temperature\"]=df[\"Temperature\"].apply(modify_temp)"
   ]
  },
  {
   "cell_type": "code",
   "execution_count": 37,
   "metadata": {},
   "outputs": [
    {
     "data": {
      "text/html": [
       "<div>\n",
       "<style scoped>\n",
       "    .dataframe tbody tr th:only-of-type {\n",
       "        vertical-align: middle;\n",
       "    }\n",
       "\n",
       "    .dataframe tbody tr th {\n",
       "        vertical-align: top;\n",
       "    }\n",
       "\n",
       "    .dataframe thead th {\n",
       "        text-align: right;\n",
       "    }\n",
       "</style>\n",
       "<table border=\"1\" class=\"dataframe\">\n",
       "  <thead>\n",
       "    <tr style=\"text-align: right;\">\n",
       "      <th></th>\n",
       "      <th>Temperature</th>\n",
       "      <th>Occurrence of nausea</th>\n",
       "      <th>Lumbar pain</th>\n",
       "      <th>Urine pushing</th>\n",
       "      <th>Micturition pains</th>\n",
       "      <th>Burning of urethra, itch, swelling of urethra outlet</th>\n",
       "      <th>Inflammation of urinary bladder</th>\n",
       "      <th>Nephritis of renal pelvis origin</th>\n",
       "    </tr>\n",
       "  </thead>\n",
       "  <tbody>\n",
       "    <tr>\n",
       "      <th>0</th>\n",
       "      <td>35.5</td>\n",
       "      <td>no</td>\n",
       "      <td>yes</td>\n",
       "      <td>no</td>\n",
       "      <td>no</td>\n",
       "      <td>no</td>\n",
       "      <td>no</td>\n",
       "      <td>no</td>\n",
       "    </tr>\n",
       "    <tr>\n",
       "      <th>1</th>\n",
       "      <td>35.9</td>\n",
       "      <td>no</td>\n",
       "      <td>no</td>\n",
       "      <td>yes</td>\n",
       "      <td>yes</td>\n",
       "      <td>yes</td>\n",
       "      <td>yes</td>\n",
       "      <td>no</td>\n",
       "    </tr>\n",
       "    <tr>\n",
       "      <th>2</th>\n",
       "      <td>35.9</td>\n",
       "      <td>no</td>\n",
       "      <td>yes</td>\n",
       "      <td>no</td>\n",
       "      <td>no</td>\n",
       "      <td>no</td>\n",
       "      <td>no</td>\n",
       "      <td>no</td>\n",
       "    </tr>\n",
       "    <tr>\n",
       "      <th>3</th>\n",
       "      <td>36.0</td>\n",
       "      <td>no</td>\n",
       "      <td>no</td>\n",
       "      <td>yes</td>\n",
       "      <td>yes</td>\n",
       "      <td>yes</td>\n",
       "      <td>yes</td>\n",
       "      <td>no</td>\n",
       "    </tr>\n",
       "    <tr>\n",
       "      <th>4</th>\n",
       "      <td>36.0</td>\n",
       "      <td>no</td>\n",
       "      <td>yes</td>\n",
       "      <td>no</td>\n",
       "      <td>no</td>\n",
       "      <td>no</td>\n",
       "      <td>no</td>\n",
       "      <td>no</td>\n",
       "    </tr>\n",
       "  </tbody>\n",
       "</table>\n",
       "</div>"
      ],
      "text/plain": [
       "   Temperature Occurrence of nausea Lumbar pain Urine pushing  \\\n",
       "0         35.5                   no         yes            no   \n",
       "1         35.9                   no          no           yes   \n",
       "2         35.9                   no         yes            no   \n",
       "3         36.0                   no          no           yes   \n",
       "4         36.0                   no         yes            no   \n",
       "\n",
       "  Micturition pains Burning of urethra, itch, swelling of urethra outlet  \\\n",
       "0                no                                                 no     \n",
       "1               yes                                                yes     \n",
       "2                no                                                 no     \n",
       "3               yes                                                yes     \n",
       "4                no                                                 no     \n",
       "\n",
       "  Inflammation of urinary bladder Nephritis of renal pelvis origin  \n",
       "0                              no                               no  \n",
       "1                             yes                               no  \n",
       "2                              no                               no  \n",
       "3                             yes                               no  \n",
       "4                              no                               no  "
      ]
     },
     "execution_count": 37,
     "metadata": {},
     "output_type": "execute_result"
    }
   ],
   "source": [
    "df.head()"
   ]
  },
  {
   "cell_type": "code",
   "execution_count": 38,
   "metadata": {},
   "outputs": [
    {
     "data": {
      "text/html": [
       "<div>\n",
       "<style scoped>\n",
       "    .dataframe tbody tr th:only-of-type {\n",
       "        vertical-align: middle;\n",
       "    }\n",
       "\n",
       "    .dataframe tbody tr th {\n",
       "        vertical-align: top;\n",
       "    }\n",
       "\n",
       "    .dataframe thead th {\n",
       "        text-align: right;\n",
       "    }\n",
       "</style>\n",
       "<table border=\"1\" class=\"dataframe\">\n",
       "  <thead>\n",
       "    <tr style=\"text-align: right;\">\n",
       "      <th></th>\n",
       "      <th>count</th>\n",
       "      <th>mean</th>\n",
       "      <th>std</th>\n",
       "      <th>min</th>\n",
       "      <th>25%</th>\n",
       "      <th>50%</th>\n",
       "      <th>75%</th>\n",
       "      <th>max</th>\n",
       "    </tr>\n",
       "  </thead>\n",
       "  <tbody>\n",
       "    <tr>\n",
       "      <th>Temperature</th>\n",
       "      <td>120.0</td>\n",
       "      <td>38.724167</td>\n",
       "      <td>1.819132</td>\n",
       "      <td>35.5</td>\n",
       "      <td>37.1</td>\n",
       "      <td>37.95</td>\n",
       "      <td>40.6</td>\n",
       "      <td>41.5</td>\n",
       "    </tr>\n",
       "  </tbody>\n",
       "</table>\n",
       "</div>"
      ],
      "text/plain": [
       "             count       mean       std   min   25%    50%   75%   max\n",
       "Temperature  120.0  38.724167  1.819132  35.5  37.1  37.95  40.6  41.5"
      ]
     },
     "execution_count": 38,
     "metadata": {},
     "output_type": "execute_result"
    }
   ],
   "source": [
    "df.describe().transpose()"
   ]
  },
  {
   "cell_type": "markdown",
   "metadata": {},
   "source": [
    "## Feature Engineering"
   ]
  },
  {
   "cell_type": "markdown",
   "metadata": {},
   "source": [
    "### Checking for null values"
   ]
  },
  {
   "cell_type": "code",
   "execution_count": 39,
   "metadata": {},
   "outputs": [
    {
     "data": {
      "text/plain": [
       "Temperature                                             0\n",
       "Occurrence of nausea                                    0\n",
       "Lumbar pain                                             0\n",
       "Urine pushing                                           0\n",
       "Micturition pains                                       0\n",
       "Burning of urethra, itch, swelling of urethra outlet    0\n",
       "Inflammation of urinary bladder                         0\n",
       "Nephritis of renal pelvis origin                        0\n",
       "dtype: int64"
      ]
     },
     "execution_count": 39,
     "metadata": {},
     "output_type": "execute_result"
    }
   ],
   "source": [
    "df.isnull().sum()"
   ]
  },
  {
   "cell_type": "markdown",
   "metadata": {},
   "source": [
    "#### No null values to handle"
   ]
  },
  {
   "cell_type": "markdown",
   "metadata": {},
   "source": [
    "### Checking whether the target class is balanced or not"
   ]
  },
  {
   "cell_type": "code",
   "execution_count": 40,
   "metadata": {
    "scrolled": true
   },
   "outputs": [
    {
     "data": {
      "text/plain": [
       "no     70\n",
       "yes    50\n",
       "Name: Nephritis of renal pelvis origin, dtype: int64"
      ]
     },
     "execution_count": 40,
     "metadata": {},
     "output_type": "execute_result"
    }
   ],
   "source": [
    "df[\"Nephritis of renal pelvis origin\"].value_counts()"
   ]
  },
  {
   "cell_type": "code",
   "execution_count": 41,
   "metadata": {},
   "outputs": [
    {
     "data": {
      "text/plain": [
       "[Text(0, 0, 'Negative'), Text(0, 0, 'Positive')]"
      ]
     },
     "execution_count": 41,
     "metadata": {},
     "output_type": "execute_result"
    },
    {
     "data": {
      "image/png": "[encoded data removed]",
      "text/plain": [
       "<Figure size 720x432 with 1 Axes>"
      ]
     },
     "metadata": {
      "needs_background": "light"
     },
     "output_type": "display_data"
    }
   ],
   "source": [
    "plt.figure(figsize=(10,6))\n",
    "sns.set_style('whitegrid')\n",
    "plot=sns.countplot(x=\"Inflammation of urinary bladder\",data=df)\n",
    "plot.set_xticklabels([\"Negative\",\"Positive\"])"
   ]
  },
  {
   "cell_type": "code",
   "execution_count": 42,
   "metadata": {
    "scrolled": true
   },
   "outputs": [
    {
     "data": {
      "text/plain": [
       "no     61\n",
       "yes    59\n",
       "Name: Inflammation of urinary bladder, dtype: int64"
      ]
     },
     "execution_count": 42,
     "metadata": {},
     "output_type": "execute_result"
    }
   ],
   "source": [
    "df[\"Inflammation of urinary bladder\"].value_counts()"
   ]
  },
  {
   "cell_type": "code",
   "execution_count": 43,
   "metadata": {},
   "outputs": [
    {
     "data": {
      "text/plain": [
       "[Text(0, 0, 'Negative'), Text(0, 0, 'Positive')]"
      ]
     },
     "execution_count": 43,
     "metadata": {},
     "output_type": "execute_result"
    },
    {
     "data": {
      "image/png": "[encoded data removed]",
      "text/plain": [
       "<Figure size 720x432 with 1 Axes>"
      ]
     },
     "metadata": {},
     "output_type": "display_data"
    }
   ],
   "source": [
    "plt.figure(figsize=(10,6))\n",
    "sns.set_style('whitegrid')\n",
    "plot=sns.countplot(x=\"Inflammation of urinary bladder\",data=df)\n",
    "plot.set_xticklabels([\"Negative\",\"Positive\"])"
   ]
  },
  {
   "cell_type": "markdown",
   "metadata": {},
   "source": [
    "#### Nicely Balanced"
   ]
  },
  {
   "cell_type": "markdown",
   "metadata": {},
   "source": [
    "### Handling Categorical Data\n",
    "\n",
    "One of the many ways to handle categorical data are,\n",
    "1. <span style=\"color: blue;\">**Nominal data**</span> --> data are not in any order --> <span style=\"color: green;\">**OneHotEncoder**</span> is used in this case\n",
    "2. <span style=\"color: blue;\">**Ordinal data**</span> --> data are in order --> <span style=\"color: green;\">**LabelEncoder**</span> is used in this case"
   ]
  },
  {
   "cell_type": "code",
   "execution_count": 44,
   "metadata": {},
   "outputs": [
    {
     "data": {
      "text/plain": [
       "Index(['Temperature', 'Occurrence of nausea', 'Lumbar pain', 'Urine pushing',\n",
       "       'Micturition pains',\n",
       "       'Burning of urethra, itch, swelling of urethra outlet',\n",
       "       'Inflammation of urinary bladder', 'Nephritis of renal pelvis origin'],\n",
       "      dtype='object')"
      ]
     },
     "execution_count": 44,
     "metadata": {},
     "output_type": "execute_result"
    }
   ],
   "source": [
    "df.columns"
   ]
  },
  {
   "cell_type": "code",
   "execution_count": 45,
   "metadata": {},
   "outputs": [],
   "source": [
    "# As Occurrence of nausea  is  a Nominal Categorical data we will perform OneHotEncoding\n",
    "\n",
    "Nausea= df[['Occurrence of nausea']]\n",
    "Nausea= pd.get_dummies(Nausea, drop_first= True)\n",
    "\n",
    "# As Occurrence of Lumbar pain  is  a Nominal Categorical data we will perform OneHotEncoding\n",
    "LumbarPain=df[['Lumbar pain']]\n",
    "LumbarPain= pd.get_dummies(LumbarPain, drop_first= True)\n",
    "\n",
    "# As Occurrence of Urine pushing is  a Nominal Categorical data we will perform OneHotEncoding\n",
    "UrinePushing=df[['Urine pushing']]\n",
    "UrinePushing= pd.get_dummies(UrinePushing, drop_first= True)\n",
    "\n",
    "# As Occurrence of Micturition pains is  a Nominal Categorical data we will perform OneHotEncoding\n",
    "MicturitionPains=df[['Micturition pains']]\n",
    "MicturitionPains= pd.get_dummies(MicturitionPains, drop_first= True)\n",
    "\n",
    "\n",
    "# As Occurrence of Burning of urethra is  a Nominal Categorical data we will perform OneHotEncoding\n",
    "BurningUrethra=df[['Burning of urethra, itch, swelling of urethra outlet']]\n",
    "BurningUrethra= pd.get_dummies(BurningUrethra, drop_first= True)\n",
    "\n",
    "\n",
    "# As Occurrence of Nephritis of renal pelvis origin is  an Ordinal Categorical data with respect to this data we will perform OneHotEncoding\n",
    "df['Nephritis of renal pelvis origin'].replace({\"yes\": 1, \"no\": 0}, inplace = True)\n",
    "\n",
    "# As Occurrence of Inflammation of urinary bladder is  an Ordinal Categorical data with respect to this data we will perform OneHotEncoding\n",
    "df['Inflammation of urinary bladder'].replace({\"yes\": 1, \"no\": 0}, inplace = True)\n",
    "                                                                                    \n"
   ]
  },
  {
   "cell_type": "code",
   "execution_count": 46,
   "metadata": {},
   "outputs": [],
   "source": [
    "### Concatenating these new data frames\n",
    "df = pd.concat([df, Nausea, LumbarPain, UrinePushing,MicturitionPains,BurningUrethra], axis = 1)"
   ]
  },
  {
   "cell_type": "code",
   "execution_count": 47,
   "metadata": {},
   "outputs": [
    {
     "data": {
      "text/html": [
       "<div>\n",
       "<style scoped>\n",
       "    .dataframe tbody tr th:only-of-type {\n",
       "        vertical-align: middle;\n",
       "    }\n",
       "\n",
       "    .dataframe tbody tr th {\n",
       "        vertical-align: top;\n",
       "    }\n",
       "\n",
       "    .dataframe thead th {\n",
       "        text-align: right;\n",
       "    }\n",
       "</style>\n",
       "<table border=\"1\" class=\"dataframe\">\n",
       "  <thead>\n",
       "    <tr style=\"text-align: right;\">\n",
       "      <th></th>\n",
       "      <th>Temperature</th>\n",
       "      <th>Occurrence of nausea</th>\n",
       "      <th>Lumbar pain</th>\n",
       "      <th>Urine pushing</th>\n",
       "      <th>Micturition pains</th>\n",
       "      <th>Burning of urethra, itch, swelling of urethra outlet</th>\n",
       "      <th>Inflammation of urinary bladder</th>\n",
       "      <th>Nephritis of renal pelvis origin</th>\n",
       "      <th>Occurrence of nausea_yes</th>\n",
       "      <th>Lumbar pain_yes</th>\n",
       "      <th>Urine pushing_yes</th>\n",
       "      <th>Micturition pains_yes</th>\n",
       "      <th>Burning of urethra, itch, swelling of urethra outlet_yes</th>\n",
       "    </tr>\n",
       "  </thead>\n",
       "  <tbody>\n",
       "    <tr>\n",
       "      <th>0</th>\n",
       "      <td>35.5</td>\n",
       "      <td>no</td>\n",
       "      <td>yes</td>\n",
       "      <td>no</td>\n",
       "      <td>no</td>\n",
       "      <td>no</td>\n",
       "      <td>0</td>\n",
       "      <td>0</td>\n",
       "      <td>0</td>\n",
       "      <td>1</td>\n",
       "      <td>0</td>\n",
       "      <td>0</td>\n",
       "      <td>0</td>\n",
       "    </tr>\n",
       "    <tr>\n",
       "      <th>1</th>\n",
       "      <td>35.9</td>\n",
       "      <td>no</td>\n",
       "      <td>no</td>\n",
       "      <td>yes</td>\n",
       "      <td>yes</td>\n",
       "      <td>yes</td>\n",
       "      <td>1</td>\n",
       "      <td>0</td>\n",
       "      <td>0</td>\n",
       "      <td>0</td>\n",
       "      <td>1</td>\n",
       "      <td>1</td>\n",
       "      <td>1</td>\n",
       "    </tr>\n",
       "    <tr>\n",
       "      <th>2</th>\n",
       "      <td>35.9</td>\n",
       "      <td>no</td>\n",
       "      <td>yes</td>\n",
       "      <td>no</td>\n",
       "      <td>no</td>\n",
       "      <td>no</td>\n",
       "      <td>0</td>\n",
       "      <td>0</td>\n",
       "      <td>0</td>\n",
       "      <td>1</td>\n",
       "      <td>0</td>\n",
       "      <td>0</td>\n",
       "      <td>0</td>\n",
       "    </tr>\n",
       "    <tr>\n",
       "      <th>3</th>\n",
       "      <td>36.0</td>\n",
       "      <td>no</td>\n",
       "      <td>no</td>\n",
       "      <td>yes</td>\n",
       "      <td>yes</td>\n",
       "      <td>yes</td>\n",
       "      <td>1</td>\n",
       "      <td>0</td>\n",
       "      <td>0</td>\n",
       "      <td>0</td>\n",
       "      <td>1</td>\n",
       "      <td>1</td>\n",
       "      <td>1</td>\n",
       "    </tr>\n",
       "    <tr>\n",
       "      <th>4</th>\n",
       "      <td>36.0</td>\n",
       "      <td>no</td>\n",
       "      <td>yes</td>\n",
       "      <td>no</td>\n",
       "      <td>no</td>\n",
       "      <td>no</td>\n",
       "      <td>0</td>\n",
       "      <td>0</td>\n",
       "      <td>0</td>\n",
       "      <td>1</td>\n",
       "      <td>0</td>\n",
       "      <td>0</td>\n",
       "      <td>0</td>\n",
       "    </tr>\n",
       "  </tbody>\n",
       "</table>\n",
       "</div>"
      ],
      "text/plain": [
       "   Temperature Occurrence of nausea Lumbar pain Urine pushing  \\\n",
       "0         35.5                   no         yes            no   \n",
       "1         35.9                   no          no           yes   \n",
       "2         35.9                   no         yes            no   \n",
       "3         36.0                   no          no           yes   \n",
       "4         36.0                   no         yes            no   \n",
       "\n",
       "  Micturition pains Burning of urethra, itch, swelling of urethra outlet  \\\n",
       "0                no                                                 no     \n",
       "1               yes                                                yes     \n",
       "2                no                                                 no     \n",
       "3               yes                                                yes     \n",
       "4                no                                                 no     \n",
       "\n",
       "   Inflammation of urinary bladder  Nephritis of renal pelvis origin  \\\n",
       "0                                0                                 0   \n",
       "1                                1                                 0   \n",
       "2                                0                                 0   \n",
       "3                                1                                 0   \n",
       "4                                0                                 0   \n",
       "\n",
       "   Occurrence of nausea_yes  Lumbar pain_yes  Urine pushing_yes  \\\n",
       "0                         0                1                  0   \n",
       "1                         0                0                  1   \n",
       "2                         0                1                  0   \n",
       "3                         0                0                  1   \n",
       "4                         0                1                  0   \n",
       "\n",
       "   Micturition pains_yes  \\\n",
       "0                      0   \n",
       "1                      1   \n",
       "2                      0   \n",
       "3                      1   \n",
       "4                      0   \n",
       "\n",
       "   Burning of urethra, itch, swelling of urethra outlet_yes  \n",
       "0                                                  0         \n",
       "1                                                  1         \n",
       "2                                                  0         \n",
       "3                                                  1         \n",
       "4                                                  0         "
      ]
     },
     "execution_count": 47,
     "metadata": {},
     "output_type": "execute_result"
    }
   ],
   "source": [
    "df.head()"
   ]
  },
  {
   "cell_type": "code",
   "execution_count": 48,
   "metadata": {},
   "outputs": [],
   "source": [
    "df.drop(['Occurrence of nausea', 'Lumbar pain', 'Urine pushing',\n",
    "       'Micturition pains',\n",
    "       'Burning of urethra, itch, swelling of urethra outlet'], axis = 1, inplace = True)"
   ]
  },
  {
   "cell_type": "code",
   "execution_count": 49,
   "metadata": {},
   "outputs": [
    {
     "data": {
      "text/html": [
       "<div>\n",
       "<style scoped>\n",
       "    .dataframe tbody tr th:only-of-type {\n",
       "        vertical-align: middle;\n",
       "    }\n",
       "\n",
       "    .dataframe tbody tr th {\n",
       "        vertical-align: top;\n",
       "    }\n",
       "\n",
       "    .dataframe thead th {\n",
       "        text-align: right;\n",
       "    }\n",
       "</style>\n",
       "<table border=\"1\" class=\"dataframe\">\n",
       "  <thead>\n",
       "    <tr style=\"text-align: right;\">\n",
       "      <th></th>\n",
       "      <th>Temperature</th>\n",
       "      <th>Inflammation of urinary bladder</th>\n",
       "      <th>Nephritis of renal pelvis origin</th>\n",
       "      <th>Occurrence of nausea_yes</th>\n",
       "      <th>Lumbar pain_yes</th>\n",
       "      <th>Urine pushing_yes</th>\n",
       "      <th>Micturition pains_yes</th>\n",
       "      <th>Burning of urethra, itch, swelling of urethra outlet_yes</th>\n",
       "    </tr>\n",
       "  </thead>\n",
       "  <tbody>\n",
       "    <tr>\n",
       "      <th>0</th>\n",
       "      <td>35.5</td>\n",
       "      <td>0</td>\n",
       "      <td>0</td>\n",
       "      <td>0</td>\n",
       "      <td>1</td>\n",
       "      <td>0</td>\n",
       "      <td>0</td>\n",
       "      <td>0</td>\n",
       "    </tr>\n",
       "    <tr>\n",
       "      <th>1</th>\n",
       "      <td>35.9</td>\n",
       "      <td>1</td>\n",
       "      <td>0</td>\n",
       "      <td>0</td>\n",
       "      <td>0</td>\n",
       "      <td>1</td>\n",
       "      <td>1</td>\n",
       "      <td>1</td>\n",
       "    </tr>\n",
       "    <tr>\n",
       "      <th>2</th>\n",
       "      <td>35.9</td>\n",
       "      <td>0</td>\n",
       "      <td>0</td>\n",
       "      <td>0</td>\n",
       "      <td>1</td>\n",
       "      <td>0</td>\n",
       "      <td>0</td>\n",
       "      <td>0</td>\n",
       "    </tr>\n",
       "    <tr>\n",
       "      <th>3</th>\n",
       "      <td>36.0</td>\n",
       "      <td>1</td>\n",
       "      <td>0</td>\n",
       "      <td>0</td>\n",
       "      <td>0</td>\n",
       "      <td>1</td>\n",
       "      <td>1</td>\n",
       "      <td>1</td>\n",
       "    </tr>\n",
       "    <tr>\n",
       "      <th>4</th>\n",
       "      <td>36.0</td>\n",
       "      <td>0</td>\n",
       "      <td>0</td>\n",
       "      <td>0</td>\n",
       "      <td>1</td>\n",
       "      <td>0</td>\n",
       "      <td>0</td>\n",
       "      <td>0</td>\n",
       "    </tr>\n",
       "  </tbody>\n",
       "</table>\n",
       "</div>"
      ],
      "text/plain": [
       "   Temperature  Inflammation of urinary bladder  \\\n",
       "0         35.5                                0   \n",
       "1         35.9                                1   \n",
       "2         35.9                                0   \n",
       "3         36.0                                1   \n",
       "4         36.0                                0   \n",
       "\n",
       "   Nephritis of renal pelvis origin  Occurrence of nausea_yes  \\\n",
       "0                                 0                         0   \n",
       "1                                 0                         0   \n",
       "2                                 0                         0   \n",
       "3                                 0                         0   \n",
       "4                                 0                         0   \n",
       "\n",
       "   Lumbar pain_yes  Urine pushing_yes  Micturition pains_yes  \\\n",
       "0                1                  0                      0   \n",
       "1                0                  1                      1   \n",
       "2                1                  0                      0   \n",
       "3                0                  1                      1   \n",
       "4                1                  0                      0   \n",
       "\n",
       "   Burning of urethra, itch, swelling of urethra outlet_yes  \n",
       "0                                                  0         \n",
       "1                                                  1         \n",
       "2                                                  0         \n",
       "3                                                  1         \n",
       "4                                                  0         "
      ]
     },
     "execution_count": 49,
     "metadata": {},
     "output_type": "execute_result"
    }
   ],
   "source": [
    "df.head()"
   ]
  },
  {
   "cell_type": "markdown",
   "metadata": {},
   "source": [
    "#### Checking for outliers"
   ]
  },
  {
   "cell_type": "code",
   "execution_count": 50,
   "metadata": {},
   "outputs": [
    {
     "data": {
      "text/plain": [
       "<matplotlib.axes._subplots.AxesSubplot at 0x1f72566a160>"
      ]
     },
     "execution_count": 50,
     "metadata": {},
     "output_type": "execute_result"
    },
    {
     "data": {
      "image/png": "[encoded data removed]",
      "text/plain": [
       "<Figure size 432x288 with 1 Axes>"
      ]
     },
     "metadata": {},
     "output_type": "display_data"
    }
   ],
   "source": [
    "#temperature\n",
    "df.boxplot(column='Temperature')"
   ]
  },
  {
   "cell_type": "markdown",
   "metadata": {},
   "source": [
    "## Feature Selection"
   ]
  },
  {
   "cell_type": "markdown",
   "metadata": {},
   "source": [
    "#### Using Filter method ( X-Square technique)"
   ]
  },
  {
   "cell_type": "code",
   "execution_count": 51,
   "metadata": {},
   "outputs": [
    {
     "data": {
      "text/plain": [
       "Index(['Temperature', 'Inflammation of urinary bladder',\n",
       "       'Nephritis of renal pelvis origin', 'Occurrence of nausea_yes',\n",
       "       'Lumbar pain_yes', 'Urine pushing_yes', 'Micturition pains_yes',\n",
       "       'Burning of urethra, itch, swelling of urethra outlet_yes'],\n",
       "      dtype='object')"
      ]
     },
     "execution_count": 51,
     "metadata": {},
     "output_type": "execute_result"
    }
   ],
   "source": [
    "df.columns"
   ]
  },
  {
   "cell_type": "code",
   "execution_count": 55,
   "metadata": {},
   "outputs": [],
   "source": [
    "from sklearn.feature_selection import SelectKBest\n",
    "from sklearn.feature_selection import chi2\n",
    "\n",
    "X = df[['Occurrence of nausea_yes', 'Lumbar pain_yes',\n",
    "       'Urine pushing_yes', 'Micturition pains_yes',\n",
    "       'Burning of urethra, itch, swelling of urethra outlet_yes']]  #independent columns\n",
    "y = df['Nephritis of renal pelvis origin']   #target column"
   ]
  },
  {
   "cell_type": "code",
   "execution_count": 56,
   "metadata": {},
   "outputs": [],
   "source": [
    "#apply SelectKBest class to extract top 5 best features\n",
    "bestfeatures = SelectKBest(score_func=chi2, k=5)\n",
    "fit = bestfeatures.fit(X,y)"
   ]
  },
  {
   "cell_type": "raw",
   "metadata": {},
   "source": [
    "Null hypothesis: Assumes that there is no association between the two variables.\n",
    "\n",
    "Alternative hypothesis: Assumes that there is an association between the two variables.\n",
    "Reject H0 if p<0.05"
   ]
  },
  {
   "cell_type": "code",
   "execution_count": 57,
   "metadata": {},
   "outputs": [],
   "source": [
    "dfscores = pd.DataFrame(fit.scores_)\n",
    "dfpvalues=pd.DataFrame(fit.pvalues_)\n",
    "dfcolumns = pd.DataFrame(X.columns)"
   ]
  },
  {
   "cell_type": "code",
   "execution_count": 58,
   "metadata": {},
   "outputs": [],
   "source": [
    "#concat two dataframes for better visualization \n",
    "featureScores = pd.concat([dfcolumns,dfscores,dfpvalues],axis=1)\n",
    "featureScores.columns = ['Specs','Score',\"P-Values\"]  #naming the dataframe columns"
   ]
  },
  {
   "cell_type": "code",
   "execution_count": 59,
   "metadata": {},
   "outputs": [
    {
     "data": {
      "text/html": [
       "<div>\n",
       "<style scoped>\n",
       "    .dataframe tbody tr th:only-of-type {\n",
       "        vertical-align: middle;\n",
       "    }\n",
       "\n",
       "    .dataframe tbody tr th {\n",
       "        vertical-align: top;\n",
       "    }\n",
       "\n",
       "    .dataframe thead th {\n",
       "        text-align: right;\n",
       "    }\n",
       "</style>\n",
       "<table border=\"1\" class=\"dataframe\">\n",
       "  <thead>\n",
       "    <tr style=\"text-align: right;\">\n",
       "      <th></th>\n",
       "      <th>Specs</th>\n",
       "      <th>Score</th>\n",
       "      <th>P-Values</th>\n",
       "    </tr>\n",
       "  </thead>\n",
       "  <tbody>\n",
       "    <tr>\n",
       "      <th>0</th>\n",
       "      <td>Occurrence of nausea_yes</td>\n",
       "      <td>40.600000</td>\n",
       "      <td>1.868067e-10</td>\n",
       "    </tr>\n",
       "    <tr>\n",
       "      <th>1</th>\n",
       "      <td>Lumbar pain_yes</td>\n",
       "      <td>25.510204</td>\n",
       "      <td>4.400494e-07</td>\n",
       "    </tr>\n",
       "    <tr>\n",
       "      <th>2</th>\n",
       "      <td>Urine pushing_yes</td>\n",
       "      <td>2.285714</td>\n",
       "      <td>1.305700e-01</td>\n",
       "    </tr>\n",
       "    <tr>\n",
       "      <th>3</th>\n",
       "      <td>Micturition pains_yes</td>\n",
       "      <td>1.360291</td>\n",
       "      <td>2.434871e-01</td>\n",
       "    </tr>\n",
       "    <tr>\n",
       "      <th>4</th>\n",
       "      <td>Burning of urethra, itch, swelling of urethra ...</td>\n",
       "      <td>6.914286</td>\n",
       "      <td>8.550979e-03</td>\n",
       "    </tr>\n",
       "  </tbody>\n",
       "</table>\n",
       "</div>"
      ],
      "text/plain": [
       "                                               Specs      Score      P-Values\n",
       "0                           Occurrence of nausea_yes  40.600000  1.868067e-10\n",
       "1                                    Lumbar pain_yes  25.510204  4.400494e-07\n",
       "2                                  Urine pushing_yes   2.285714  1.305700e-01\n",
       "3                              Micturition pains_yes   1.360291  2.434871e-01\n",
       "4  Burning of urethra, itch, swelling of urethra ...   6.914286  8.550979e-03"
      ]
     },
     "execution_count": 59,
     "metadata": {},
     "output_type": "execute_result"
    }
   ],
   "source": [
    "featureScores"
   ]
  },
  {
   "cell_type": "markdown",
   "metadata": {},
   "source": [
    "#### Each one of them show association with the O/p variable at 95% level of significance"
   ]
  },
  {
   "cell_type": "markdown",
   "metadata": {},
   "source": [
    "## Model Selection"
   ]
  },
  {
   "cell_type": "code",
   "execution_count": 60,
   "metadata": {},
   "outputs": [
    {
     "name": "stdout",
     "output_type": "stream",
     "text": [
      "<class 'pandas.core.frame.DataFrame'>\n",
      "RangeIndex: 120 entries, 0 to 119\n",
      "Data columns (total 8 columns):\n",
      " #   Column                                                    Non-Null Count  Dtype  \n",
      "---  ------                                                    --------------  -----  \n",
      " 0   Temperature                                               120 non-null    float64\n",
      " 1   Inflammation of urinary bladder                           120 non-null    int64  \n",
      " 2   Nephritis of renal pelvis origin                          120 non-null    int64  \n",
      " 3   Occurrence of nausea_yes                                  120 non-null    uint8  \n",
      " 4   Lumbar pain_yes                                           120 non-null    uint8  \n",
      " 5   Urine pushing_yes                                         120 non-null    uint8  \n",
      " 6   Micturition pains_yes                                     120 non-null    uint8  \n",
      " 7   Burning of urethra, itch, swelling of urethra outlet_yes  120 non-null    uint8  \n",
      "dtypes: float64(1), int64(2), uint8(5)\n",
      "memory usage: 3.5 KB\n"
     ]
    }
   ],
   "source": [
    "df.info()"
   ]
  },
  {
   "cell_type": "code",
   "execution_count": 107,
   "metadata": {},
   "outputs": [],
   "source": [
    "x=df[[\"Temperature\",'Occurrence of nausea_yes', 'Lumbar pain_yes',\n",
    "       'Urine pushing_yes', 'Micturition pains_yes',\n",
    "       'Burning of urethra, itch, swelling of urethra outlet_yes']]\n",
    "y = df[['Nephritis of renal pelvis origin','Inflammation of urinary bladder']]"
   ]
  },
  {
   "cell_type": "code",
   "execution_count": 139,
   "metadata": {},
   "outputs": [],
   "source": [
    "from sklearn.model_selection import train_test_split\n",
    "x_train, x_test, y_train, y_test = train_test_split(x,y,random_state =101,test_size=0.6)"
   ]
  },
  {
   "cell_type": "code",
   "execution_count": 140,
   "metadata": {},
   "outputs": [
    {
     "data": {
      "text/plain": [
       "(48, 6)"
      ]
     },
     "execution_count": 140,
     "metadata": {},
     "output_type": "execute_result"
    }
   ],
   "source": [
    "x_train.shape"
   ]
  },
  {
   "cell_type": "code",
   "execution_count": 141,
   "metadata": {},
   "outputs": [
    {
     "data": {
      "text/plain": [
       "(72, 6)"
      ]
     },
     "execution_count": 141,
     "metadata": {},
     "output_type": "execute_result"
    }
   ],
   "source": [
    "x_test.shape"
   ]
  },
  {
   "cell_type": "code",
   "execution_count": 142,
   "metadata": {},
   "outputs": [],
   "source": [
    "from sklearn.preprocessing import StandardScaler\n",
    "standardScaler = StandardScaler()\n",
    "\n",
    "x_train[[\"Temperature\"]] = standardScaler.fit_transform(x_train[[\"Temperature\"]])\n",
    "\n",
    "x_test[[\"Temperature\"]]= standardScaler.transform(x_test[[\"Temperature\"]])"
   ]
  },
  {
   "cell_type": "code",
   "execution_count": 143,
   "metadata": {},
   "outputs": [],
   "source": [
    "from tensorflow.keras.models import Sequential\n",
    "from tensorflow.keras.layers import Dense,Dropout,Activation\n",
    "from tensorflow.keras.optimizers import Adam,SGD\n",
    "from tensorflow.keras.callbacks import EarlyStopping\n",
    "\n"
   ]
  },
  {
   "cell_type": "code",
   "execution_count": 149,
   "metadata": {},
   "outputs": [],
   "source": [
    "model =Sequential()\n",
    "# model.add(Dense(30, input_dim=6, kernel_initializer='he_uniform', activation='relu'))\n",
    "model.add(Dense(15,activation=\"relu\"))\n",
    "model.add(Dropout(0.5))\n",
    "model.add(Dense(15,activation=\"relu\"))\n",
    "model.add(Dropout(0.2))\n",
    "model.add(Dense(5,activation=\"relu\"))\n",
    "model.add(Dropout(0.5))\n",
    "\n",
    "#Multi non exclusive class classification\n",
    "model.add(Dense(2,activation=\"sigmoid\"))\n",
    "adam=Adam(learning_rate=0.001,beta_1=0.9,beta_2=0.999,epsilon=1e-07,amsgrad=False,name=\"Adam\")"
   ]
  },
  {
   "cell_type": "code",
   "execution_count": 150,
   "metadata": {},
   "outputs": [],
   "source": [
    "import tensorflow\n",
    "from IPython.display import clear_output\n",
    "class PlotLearning(tensorflow.keras.callbacks.Callback):\n",
    "    \"\"\"\n",
    "    Callback to plot the learning curves of the model during training.\n",
    "    \"\"\"\n",
    "    def on_train_begin(self, logs={}):\n",
    "        self.metrics = {}\n",
    "        for metric in logs:\n",
    "            self.metrics[metric] = []\n",
    "            \n",
    "\n",
    "    def on_epoch_end(self, epoch, logs={}):\n",
    "        # Storing metrics\n",
    "        for metric in logs:\n",
    "            if metric in self.metrics:\n",
    "                self.metrics[metric].append(logs.get(metric))\n",
    "            else:\n",
    "                self.metrics[metric] = [logs.get(metric)]\n",
    "        \n",
    "        # Plotting\n",
    "        metrics = [x for x in logs if 'val' not in x]\n",
    "        \n",
    "        f, axs = plt.subplots(1, len(metrics), figsize=(15,5))\n",
    "        clear_output(wait=True)\n",
    "\n",
    "        for i, metric in enumerate(metrics):\n",
    "            axs[i].plot(range(1, epoch + 2), \n",
    "                        self.metrics[metric], \n",
    "                        label=metric)\n",
    "            if logs['val_' + metric]:\n",
    "                axs[i].plot(range(1, epoch + 2), \n",
    "                            self.metrics['val_' + metric], \n",
    "                            label='val_' + metric)\n",
    "                \n",
    "            axs[i].legend()\n",
    "            axs[i].grid()\n",
    "\n",
    "        plt.tight_layout()\n",
    "        plt.show()"
   ]
  },
  {
   "cell_type": "code",
   "execution_count": 151,
   "metadata": {},
   "outputs": [],
   "source": [
    "early_stop=EarlyStopping(monitor=\"val_loss\",mode=\"min\",verbose=1,patience=10)"
   ]
  },
  {
   "cell_type": "code",
   "execution_count": 152,
   "metadata": {},
   "outputs": [],
   "source": [
    "model.compile(loss=\"binary_crossentropy\",optimizer=adam,metrics=[\"accuracy\"])"
   ]
  },
  {
   "cell_type": "code",
   "execution_count": 153,
   "metadata": {},
   "outputs": [
    {
     "data": {
      "image/png": "[encoded data removed]",
      "text/plain": [
       "<Figure size 1080x360 with 2 Axes>"
      ]
     },
     "metadata": {},
     "output_type": "display_data"
    },
    {
     "data": {
      "text/plain": [
       "<tensorflow.python.keras.callbacks.History at 0x1f73b416c10>"
      ]
     },
     "execution_count": 153,
     "metadata": {},
     "output_type": "execute_result"
    }
   ],
   "source": [
    "model.fit(x=x_train,y=y_train,epochs=100,validation_data=(x_test,y_test),callbacks=[early_stop,PlotLearning()],batch_size=15)"
   ]
  },
  {
   "cell_type": "code",
   "execution_count": null,
   "metadata": {},
   "outputs": [],
   "source": []
  },
  {
   "cell_type": "code",
   "execution_count": null,
   "metadata": {},
   "outputs": [],
   "source": []
  },
  {
   "cell_type": "code",
   "execution_count": null,
   "metadata": {},
   "outputs": [],
   "source": []
  },
  {
   "cell_type": "code",
   "execution_count": null,
   "metadata": {},
   "outputs": [],
   "source": []
  },
  {
   "cell_type": "code",
   "execution_count": 169,
   "metadata": {},
   "outputs": [],
   "source": [
    "#Saving the scaler to disk\n",
    "import pickle\n",
    "pickle.dump(standardScaler, open('urinaryDisorderScaler.pkl', 'wb'))"
   ]
  },
  {
   "cell_type": "markdown",
   "metadata": {},
   "source": [
    "### Saving the model"
   ]
  },
  {
   "cell_type": "code",
   "execution_count": 155,
   "metadata": {},
   "outputs": [
    {
     "name": "stdout",
     "output_type": "stream",
     "text": [
      "Saved model to disk\n"
     ]
    }
   ],
   "source": [
    "model.save(\"modela100t0.6bs15.h5\")\n",
    "print(\"Saved model to disk\")"
   ]
  },
  {
   "cell_type": "markdown",
   "metadata": {},
   "source": [
    "## Run the model from here"
   ]
  },
  {
   "cell_type": "markdown",
   "metadata": {},
   "source": [
    "### Loading the model"
   ]
  },
  {
   "cell_type": "code",
   "execution_count": 156,
   "metadata": {},
   "outputs": [
    {
     "name": "stdout",
     "output_type": "stream",
     "text": [
      "Model: \"sequential_8\"\n",
      "_________________________________________________________________\n",
      "Layer (type)                 Output Shape              Param #   \n",
      "=================================================================\n",
      "dense_32 (Dense)             (None, 15)                105       \n",
      "_________________________________________________________________\n",
      "dropout_24 (Dropout)         (None, 15)                0         \n",
      "_________________________________________________________________\n",
      "dense_33 (Dense)             (None, 15)                240       \n",
      "_________________________________________________________________\n",
      "dropout_25 (Dropout)         (None, 15)                0         \n",
      "_________________________________________________________________\n",
      "dense_34 (Dense)             (None, 5)                 80        \n",
      "_________________________________________________________________\n",
      "dropout_26 (Dropout)         (None, 5)                 0         \n",
      "_________________________________________________________________\n",
      "dense_35 (Dense)             (None, 2)                 12        \n",
      "=================================================================\n",
      "Total params: 437\n",
      "Trainable params: 437\n",
      "Non-trainable params: 0\n",
      "_________________________________________________________________\n"
     ]
    }
   ],
   "source": [
    "from tensorflow.keras.models import load_model\n",
    "a = load_model(\"modela100t0.6bs15.h5\")\n",
    "# summarize model.\n",
    "a.summary()"
   ]
  },
  {
   "cell_type": "code",
   "execution_count": 157,
   "metadata": {},
   "outputs": [
    {
     "data": {
      "text/plain": [
       "(72, 6)"
      ]
     },
     "execution_count": 157,
     "metadata": {},
     "output_type": "execute_result"
    }
   ],
   "source": [
    "x_test.shape"
   ]
  },
  {
   "cell_type": "markdown",
   "metadata": {},
   "source": [
    "### Doing some random prediction  from the test data set"
   ]
  },
  {
   "cell_type": "code",
   "execution_count": 166,
   "metadata": {},
   "outputs": [
    {
     "data": {
      "text/html": [
       "<div>\n",
       "<style scoped>\n",
       "    .dataframe tbody tr th:only-of-type {\n",
       "        vertical-align: middle;\n",
       "    }\n",
       "\n",
       "    .dataframe tbody tr th {\n",
       "        vertical-align: top;\n",
       "    }\n",
       "\n",
       "    .dataframe thead th {\n",
       "        text-align: right;\n",
       "    }\n",
       "</style>\n",
       "<table border=\"1\" class=\"dataframe\">\n",
       "  <thead>\n",
       "    <tr style=\"text-align: right;\">\n",
       "      <th></th>\n",
       "      <th>Temperature</th>\n",
       "      <th>Occurrence of nausea_yes</th>\n",
       "      <th>Lumbar pain_yes</th>\n",
       "      <th>Urine pushing_yes</th>\n",
       "      <th>Micturition pains_yes</th>\n",
       "      <th>Burning of urethra, itch, swelling of urethra outlet_yes</th>\n",
       "    </tr>\n",
       "  </thead>\n",
       "  <tbody>\n",
       "    <tr>\n",
       "      <th>24</th>\n",
       "      <td>-0.935599</td>\n",
       "      <td>0</td>\n",
       "      <td>0</td>\n",
       "      <td>1</td>\n",
       "      <td>1</td>\n",
       "      <td>1</td>\n",
       "    </tr>\n",
       "  </tbody>\n",
       "</table>\n",
       "</div>"
      ],
      "text/plain": [
       "    Temperature  Occurrence of nausea_yes  Lumbar pain_yes  Urine pushing_yes  \\\n",
       "24    -0.935599                         0                0                  1   \n",
       "\n",
       "    Micturition pains_yes  \\\n",
       "24                      1   \n",
       "\n",
       "    Burning of urethra, itch, swelling of urethra outlet_yes  \n",
       "24                                                  1         "
      ]
     },
     "execution_count": 166,
     "metadata": {},
     "output_type": "execute_result"
    }
   ],
   "source": [
    "x_test.iloc[65:66]"
   ]
  },
  {
   "cell_type": "code",
   "execution_count": 167,
   "metadata": {},
   "outputs": [
    {
     "data": {
      "text/html": [
       "<div>\n",
       "<style scoped>\n",
       "    .dataframe tbody tr th:only-of-type {\n",
       "        vertical-align: middle;\n",
       "    }\n",
       "\n",
       "    .dataframe tbody tr th {\n",
       "        vertical-align: top;\n",
       "    }\n",
       "\n",
       "    .dataframe thead th {\n",
       "        text-align: right;\n",
       "    }\n",
       "</style>\n",
       "<table border=\"1\" class=\"dataframe\">\n",
       "  <thead>\n",
       "    <tr style=\"text-align: right;\">\n",
       "      <th></th>\n",
       "      <th>Nephritis of renal pelvis origin</th>\n",
       "      <th>Inflammation of urinary bladder</th>\n",
       "    </tr>\n",
       "  </thead>\n",
       "  <tbody>\n",
       "    <tr>\n",
       "      <th>24</th>\n",
       "      <td>0</td>\n",
       "      <td>1</td>\n",
       "    </tr>\n",
       "  </tbody>\n",
       "</table>\n",
       "</div>"
      ],
      "text/plain": [
       "    Nephritis of renal pelvis origin  Inflammation of urinary bladder\n",
       "24                                 0                                1"
      ]
     },
     "execution_count": 167,
     "metadata": {},
     "output_type": "execute_result"
    }
   ],
   "source": [
    "y_test.iloc[65:66]"
   ]
  },
  {
   "cell_type": "code",
   "execution_count": 168,
   "metadata": {},
   "outputs": [
    {
     "name": "stdout",
     "output_type": "stream",
     "text": [
      "Predicted: [0.4188104 0.6222454]\n"
     ]
    }
   ],
   "source": [
    "yhat = a.predict(np.asarray(x_test.iloc[65:66].to_numpy()))\n",
    "print('Predicted: %s' % yhat[0])"
   ]
  },
  {
   "cell_type": "code",
   "execution_count": null,
   "metadata": {},
   "outputs": [],
   "source": [
    "if (yhat[0]>0.5 and yhat[1]>0.5):\n",
    "    print(\"Inflammation of urinary bladder as well as nephritis of renal pelvis origin detected\")\n",
    "elif (yhat[0]>0.5):\n",
    "    print(\"Inflammation of urinary bladder detected\")\n",
    "elif(yhat[1]>0.5):\n",
    "    print(\"nephritis of renal pelvis origin detected\")\n",
    "else:\n",
    "    print(\"No issue detected\")"
   ]
  }
 ],
 "metadata": {
  "kernelspec": {
   "display_name": "Python 3",
   "language": "python",
   "name": "python3"
  },
  "language_info": {
   "codemirror_mode": {
    "name": "ipython",
    "version": 3
   },
   "file_extension": ".py",
   "mimetype": "text/x-python",
   "name": "python",
   "nbconvert_exporter": "python",
   "pygments_lexer": "ipython3",
   "version": "3.8.3"
  }
 },
 "nbformat": 4,
 "nbformat_minor": 4
}
