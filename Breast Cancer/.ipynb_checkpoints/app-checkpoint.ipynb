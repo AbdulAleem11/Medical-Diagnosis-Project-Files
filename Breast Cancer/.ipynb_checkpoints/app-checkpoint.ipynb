{
 "cells": [
  {
   "cell_type": "code",
   "execution_count": null,
   "metadata": {},
   "outputs": [
    {
     "name": "stdout",
     "output_type": "stream",
     "text": [
      " * Serving Flask app \"__main__\" (lazy loading)\n",
      " * Environment: production\n",
      "   WARNING: This is a development server. Do not use it in a production deployment.\n",
      "   Use a production WSGI server instead.\n",
      " * Debug mode: off\n"
     ]
    },
    {
     "name": "stderr",
     "output_type": "stream",
     "text": [
      " * Running on http://127.0.0.1:5000/ (Press CTRL+C to quit)\n",
      "127.0.0.1 - - [17/May/2021 16:19:39] \"\u001b[37mGET / HTTP/1.1\u001b[0m\" 200 -\n",
      "127.0.0.1 - - [17/May/2021 16:19:42] \"\u001b[37mGET / HTTP/1.1\u001b[0m\" 200 -\n",
      "127.0.0.1 - - [17/May/2021 16:20:05] \"\u001b[37mGET / HTTP/1.1\u001b[0m\" 200 -\n",
      "127.0.0.1 - - [17/May/2021 16:20:10] \"\u001b[37mGET / HTTP/1.1\u001b[0m\" 200 -\n"
     ]
    }
   ],
   "source": [
    "import numpy as np\n",
    "from flask import Flask, request, jsonify, render_template\n",
    "import pickle\n",
    "\n",
    "\n",
    "app = Flask(__name__)\n",
    "model = pickle.load(open('breastCancer.pkl', 'rb'))\n",
    "\n",
    "\n",
    "@app.route('/')\n",
    "def home():\n",
    "    return render_template('index.html')\n",
    "\n",
    "@app.route('/index.html')\n",
    "def home2():\n",
    "    return render_template('index.html')\n",
    "\n",
    "@app.route('/breastCancerPrediction.html', methods=['POST','GET'])\n",
    "def breast_cancer_predict():\n",
    "\n",
    "    if request.method == 'GET':\n",
    "        return render_template('breastCancerPrediction.html')\n",
    "    else:\n",
    "        try:\n",
    "            int_features = [x for x in request.form.values()]\n",
    "            final_features = [np.array(int_features)]\n",
    "            prediction = model.predict(final_features)\n",
    "            if(prediction[0]==1):\n",
    "                return render_template('breastCancerPrediction.html', prediction_text=f'The predicted breast cancer type is malignant')\n",
    "            else:\n",
    "                return render_template('breastCancerPrediction.html', prediction_text=f'The predicted breast cancer type is benign')\n",
    "        except:\n",
    "            flash(\"Please enter the details first !!\", \"danger\")      \n",
    "            \n",
    " \n",
    "\n",
    "\n",
    "\n",
    "if __name__ == \"__main__\":\n",
    "    app.run(debug=False)"
   ]
  },
  {
   "cell_type": "code",
   "execution_count": null,
   "metadata": {},
   "outputs": [],
   "source": []
  }
 ],
 "metadata": {
  "kernelspec": {
   "display_name": "Python 3",
   "language": "python",
   "name": "python3"
  },
  "language_info": {
   "codemirror_mode": {
    "name": "ipython",
    "version": 3
   },
   "file_extension": ".py",
   "mimetype": "text/x-python",
   "name": "python",
   "nbconvert_exporter": "python",
   "pygments_lexer": "ipython3",
   "version": "3.8.3"
  }
 },
 "nbformat": 4,
 "nbformat_minor": 4
}
