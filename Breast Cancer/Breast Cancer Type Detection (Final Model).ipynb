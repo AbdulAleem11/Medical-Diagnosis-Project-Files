{
 "cells": [
  {
   "cell_type": "markdown",
   "metadata": {},
   "source": [
    "# Problem Statement"
   ]
  },
  {
   "cell_type": "markdown",
   "metadata": {},
   "source": [
    "## Create a model for predicting Breast Cancer"
   ]
  },
  {
   "cell_type": "code",
   "execution_count": 1,
   "metadata": {},
   "outputs": [],
   "source": [
    "import numpy as np\n",
    "import pandas as pd\n",
    "import matplotlib.pyplot as plt\n",
    "%matplotlib inline\n",
    "import seaborn as sns\n",
    "import warnings\n",
    "import pandas_profiling\n",
    "warnings.filterwarnings('ignore')"
   ]
  },
  {
   "cell_type": "code",
   "execution_count": 2,
   "metadata": {},
   "outputs": [],
   "source": [
    "#For Deployment\n",
    "import pickle"
   ]
  },
  {
   "cell_type": "code",
   "execution_count": 2,
   "metadata": {},
   "outputs": [],
   "source": [
    "df = pd.read_csv('wdbc.csv')"
   ]
  },
  {
   "cell_type": "code",
   "execution_count": 3,
   "metadata": {},
   "outputs": [
    {
     "data": {
      "text/html": [
       "<div>\n",
       "<style scoped>\n",
       "    .dataframe tbody tr th:only-of-type {\n",
       "        vertical-align: middle;\n",
       "    }\n",
       "\n",
       "    .dataframe tbody tr th {\n",
       "        vertical-align: top;\n",
       "    }\n",
       "\n",
       "    .dataframe thead th {\n",
       "        text-align: right;\n",
       "    }\n",
       "</style>\n",
       "<table border=\"1\" class=\"dataframe\">\n",
       "  <thead>\n",
       "    <tr style=\"text-align: right;\">\n",
       "      <th></th>\n",
       "      <th>id</th>\n",
       "      <th>diagnosis</th>\n",
       "      <th>diagnosis_numeric</th>\n",
       "      <th>radius</th>\n",
       "      <th>texture</th>\n",
       "      <th>perimeter</th>\n",
       "      <th>area</th>\n",
       "      <th>smoothness</th>\n",
       "      <th>compactness</th>\n",
       "      <th>concavity</th>\n",
       "      <th>...</th>\n",
       "      <th>radius_worse</th>\n",
       "      <th>texture_worst</th>\n",
       "      <th>perimeter_worst</th>\n",
       "      <th>area_worst</th>\n",
       "      <th>smoothness_worst</th>\n",
       "      <th>compactness_worst</th>\n",
       "      <th>concavity_worst</th>\n",
       "      <th>concave_points_worst</th>\n",
       "      <th>symmetry_worst</th>\n",
       "      <th>fractal_dimension_worst</th>\n",
       "    </tr>\n",
       "  </thead>\n",
       "  <tbody>\n",
       "    <tr>\n",
       "      <th>0</th>\n",
       "      <td>8510426</td>\n",
       "      <td>B</td>\n",
       "      <td>0</td>\n",
       "      <td>13.540</td>\n",
       "      <td>14.36</td>\n",
       "      <td>87.46</td>\n",
       "      <td>566.3</td>\n",
       "      <td>0.09779</td>\n",
       "      <td>0.08129</td>\n",
       "      <td>0.06664</td>\n",
       "      <td>...</td>\n",
       "      <td>15.110</td>\n",
       "      <td>19.26</td>\n",
       "      <td>99.70</td>\n",
       "      <td>711.2</td>\n",
       "      <td>0.14400</td>\n",
       "      <td>0.17730</td>\n",
       "      <td>0.23900</td>\n",
       "      <td>0.12880</td>\n",
       "      <td>0.2977</td>\n",
       "      <td>0.07259</td>\n",
       "    </tr>\n",
       "    <tr>\n",
       "      <th>1</th>\n",
       "      <td>8510653</td>\n",
       "      <td>B</td>\n",
       "      <td>0</td>\n",
       "      <td>13.080</td>\n",
       "      <td>15.71</td>\n",
       "      <td>85.63</td>\n",
       "      <td>520.0</td>\n",
       "      <td>0.10750</td>\n",
       "      <td>0.12700</td>\n",
       "      <td>0.04568</td>\n",
       "      <td>...</td>\n",
       "      <td>14.500</td>\n",
       "      <td>20.49</td>\n",
       "      <td>96.09</td>\n",
       "      <td>630.5</td>\n",
       "      <td>0.13120</td>\n",
       "      <td>0.27760</td>\n",
       "      <td>0.18900</td>\n",
       "      <td>0.07283</td>\n",
       "      <td>0.3184</td>\n",
       "      <td>0.08183</td>\n",
       "    </tr>\n",
       "    <tr>\n",
       "      <th>2</th>\n",
       "      <td>8510824</td>\n",
       "      <td>B</td>\n",
       "      <td>0</td>\n",
       "      <td>9.504</td>\n",
       "      <td>12.44</td>\n",
       "      <td>60.34</td>\n",
       "      <td>273.9</td>\n",
       "      <td>0.10240</td>\n",
       "      <td>0.06492</td>\n",
       "      <td>0.02956</td>\n",
       "      <td>...</td>\n",
       "      <td>10.230</td>\n",
       "      <td>15.66</td>\n",
       "      <td>65.13</td>\n",
       "      <td>314.9</td>\n",
       "      <td>0.13240</td>\n",
       "      <td>0.11480</td>\n",
       "      <td>0.08867</td>\n",
       "      <td>0.06227</td>\n",
       "      <td>0.2450</td>\n",
       "      <td>0.07773</td>\n",
       "    </tr>\n",
       "    <tr>\n",
       "      <th>3</th>\n",
       "      <td>854941</td>\n",
       "      <td>B</td>\n",
       "      <td>0</td>\n",
       "      <td>13.030</td>\n",
       "      <td>18.42</td>\n",
       "      <td>82.61</td>\n",
       "      <td>523.8</td>\n",
       "      <td>0.08983</td>\n",
       "      <td>0.03766</td>\n",
       "      <td>0.02562</td>\n",
       "      <td>...</td>\n",
       "      <td>13.300</td>\n",
       "      <td>22.81</td>\n",
       "      <td>84.46</td>\n",
       "      <td>545.9</td>\n",
       "      <td>0.09701</td>\n",
       "      <td>0.04619</td>\n",
       "      <td>0.04833</td>\n",
       "      <td>0.05013</td>\n",
       "      <td>0.1987</td>\n",
       "      <td>0.06169</td>\n",
       "    </tr>\n",
       "    <tr>\n",
       "      <th>4</th>\n",
       "      <td>85713702</td>\n",
       "      <td>B</td>\n",
       "      <td>0</td>\n",
       "      <td>8.196</td>\n",
       "      <td>16.84</td>\n",
       "      <td>51.71</td>\n",
       "      <td>201.9</td>\n",
       "      <td>0.08600</td>\n",
       "      <td>0.05943</td>\n",
       "      <td>0.01588</td>\n",
       "      <td>...</td>\n",
       "      <td>8.964</td>\n",
       "      <td>21.96</td>\n",
       "      <td>57.26</td>\n",
       "      <td>242.2</td>\n",
       "      <td>0.12970</td>\n",
       "      <td>0.13570</td>\n",
       "      <td>0.06880</td>\n",
       "      <td>0.02564</td>\n",
       "      <td>0.3105</td>\n",
       "      <td>0.07409</td>\n",
       "    </tr>\n",
       "    <tr>\n",
       "      <th>5</th>\n",
       "      <td>857155</td>\n",
       "      <td>B</td>\n",
       "      <td>0</td>\n",
       "      <td>12.050</td>\n",
       "      <td>14.63</td>\n",
       "      <td>78.04</td>\n",
       "      <td>449.3</td>\n",
       "      <td>0.10310</td>\n",
       "      <td>0.09092</td>\n",
       "      <td>0.06592</td>\n",
       "      <td>...</td>\n",
       "      <td>13.760</td>\n",
       "      <td>20.70</td>\n",
       "      <td>89.88</td>\n",
       "      <td>582.6</td>\n",
       "      <td>0.14940</td>\n",
       "      <td>0.21560</td>\n",
       "      <td>0.30500</td>\n",
       "      <td>0.06548</td>\n",
       "      <td>0.2747</td>\n",
       "      <td>0.08301</td>\n",
       "    </tr>\n",
       "    <tr>\n",
       "      <th>6</th>\n",
       "      <td>857156</td>\n",
       "      <td>B</td>\n",
       "      <td>0</td>\n",
       "      <td>13.490</td>\n",
       "      <td>22.30</td>\n",
       "      <td>86.91</td>\n",
       "      <td>561.0</td>\n",
       "      <td>0.08752</td>\n",
       "      <td>0.07698</td>\n",
       "      <td>0.04751</td>\n",
       "      <td>...</td>\n",
       "      <td>15.150</td>\n",
       "      <td>31.82</td>\n",
       "      <td>99.00</td>\n",
       "      <td>698.8</td>\n",
       "      <td>0.11620</td>\n",
       "      <td>0.17110</td>\n",
       "      <td>0.22820</td>\n",
       "      <td>0.12820</td>\n",
       "      <td>0.2871</td>\n",
       "      <td>0.06917</td>\n",
       "    </tr>\n",
       "    <tr>\n",
       "      <th>7</th>\n",
       "      <td>857343</td>\n",
       "      <td>B</td>\n",
       "      <td>0</td>\n",
       "      <td>11.760</td>\n",
       "      <td>21.60</td>\n",
       "      <td>74.72</td>\n",
       "      <td>427.9</td>\n",
       "      <td>0.08637</td>\n",
       "      <td>0.04966</td>\n",
       "      <td>0.01657</td>\n",
       "      <td>...</td>\n",
       "      <td>12.980</td>\n",
       "      <td>25.72</td>\n",
       "      <td>82.98</td>\n",
       "      <td>516.5</td>\n",
       "      <td>0.10850</td>\n",
       "      <td>0.08615</td>\n",
       "      <td>0.05523</td>\n",
       "      <td>0.03715</td>\n",
       "      <td>0.2433</td>\n",
       "      <td>0.06563</td>\n",
       "    </tr>\n",
       "  </tbody>\n",
       "</table>\n",
       "<p>8 rows × 33 columns</p>\n",
       "</div>"
      ],
      "text/plain": [
       "         id diagnosis  diagnosis_numeric  radius  texture  perimeter   area  \\\n",
       "0   8510426         B                  0  13.540    14.36      87.46  566.3   \n",
       "1   8510653         B                  0  13.080    15.71      85.63  520.0   \n",
       "2   8510824         B                  0   9.504    12.44      60.34  273.9   \n",
       "3    854941         B                  0  13.030    18.42      82.61  523.8   \n",
       "4  85713702         B                  0   8.196    16.84      51.71  201.9   \n",
       "5    857155         B                  0  12.050    14.63      78.04  449.3   \n",
       "6    857156         B                  0  13.490    22.30      86.91  561.0   \n",
       "7    857343         B                  0  11.760    21.60      74.72  427.9   \n",
       "\n",
       "   smoothness  compactness  concavity  ...  radius_worse  texture_worst  \\\n",
       "0     0.09779      0.08129    0.06664  ...        15.110          19.26   \n",
       "1     0.10750      0.12700    0.04568  ...        14.500          20.49   \n",
       "2     0.10240      0.06492    0.02956  ...        10.230          15.66   \n",
       "3     0.08983      0.03766    0.02562  ...        13.300          22.81   \n",
       "4     0.08600      0.05943    0.01588  ...         8.964          21.96   \n",
       "5     0.10310      0.09092    0.06592  ...        13.760          20.70   \n",
       "6     0.08752      0.07698    0.04751  ...        15.150          31.82   \n",
       "7     0.08637      0.04966    0.01657  ...        12.980          25.72   \n",
       "\n",
       "   perimeter_worst  area_worst  smoothness_worst  compactness_worst  \\\n",
       "0            99.70       711.2           0.14400            0.17730   \n",
       "1            96.09       630.5           0.13120            0.27760   \n",
       "2            65.13       314.9           0.13240            0.11480   \n",
       "3            84.46       545.9           0.09701            0.04619   \n",
       "4            57.26       242.2           0.12970            0.13570   \n",
       "5            89.88       582.6           0.14940            0.21560   \n",
       "6            99.00       698.8           0.11620            0.17110   \n",
       "7            82.98       516.5           0.10850            0.08615   \n",
       "\n",
       "   concavity_worst  concave_points_worst  symmetry_worst  \\\n",
       "0          0.23900               0.12880          0.2977   \n",
       "1          0.18900               0.07283          0.3184   \n",
       "2          0.08867               0.06227          0.2450   \n",
       "3          0.04833               0.05013          0.1987   \n",
       "4          0.06880               0.02564          0.3105   \n",
       "5          0.30500               0.06548          0.2747   \n",
       "6          0.22820               0.12820          0.2871   \n",
       "7          0.05523               0.03715          0.2433   \n",
       "\n",
       "   fractal_dimension_worst  \n",
       "0                  0.07259  \n",
       "1                  0.08183  \n",
       "2                  0.07773  \n",
       "3                  0.06169  \n",
       "4                  0.07409  \n",
       "5                  0.08301  \n",
       "6                  0.06917  \n",
       "7                  0.06563  \n",
       "\n",
       "[8 rows x 33 columns]"
      ]
     },
     "execution_count": 3,
     "metadata": {},
     "output_type": "execute_result"
    }
   ],
   "source": [
    "df.head(8)"
   ]
  },
  {
   "cell_type": "raw",
   "metadata": {},
   "source": [
    "Attribute Information:\n",
    "\n",
    "1) ID number\n",
    "2) Diagnosis (M = malignant, B = benign)\n",
    "3-32)\n",
    "\n",
    "Ten real-valued features are computed for each cell nucleus:\n",
    "\n",
    "a) radius (mean of distances from center to points on the perimeter)\n",
    "b) texture (standard deviation of gray-scale values)\n",
    "c) perimeter\n",
    "d) area\n",
    "e) smoothness (local variation in radius lengths)\n",
    "f) compactness (perimeter^2 / area - 1.0)\n",
    "g) concavity (severity of concave portions of the contour)\n",
    "h) concave points (number of concave portions of the contour)\n",
    "i) symmetry\n",
    "j) fractal dimension (\"coastline approximation\" - 1)\n",
    "\n",
    "The mean, standard error and \"worst\" or largest (mean of the three\n",
    "largest values) of these features were computed for each image,\n",
    "resulting in 30 features. "
   ]
  },
  {
   "cell_type": "code",
   "execution_count": 4,
   "metadata": {},
   "outputs": [
    {
     "data": {
      "text/plain": [
       "B    357\n",
       "M    212\n",
       "Name: diagnosis, dtype: int64"
      ]
     },
     "execution_count": 4,
     "metadata": {},
     "output_type": "execute_result"
    }
   ],
   "source": [
    "df[\"diagnosis\"].value_counts()"
   ]
  },
  {
   "cell_type": "code",
   "execution_count": 5,
   "metadata": {},
   "outputs": [
    {
     "data": {
      "text/plain": [
       "(569, 33)"
      ]
     },
     "execution_count": 5,
     "metadata": {},
     "output_type": "execute_result"
    }
   ],
   "source": [
    "df.shape"
   ]
  },
  {
   "cell_type": "code",
   "execution_count": 6,
   "metadata": {},
   "outputs": [
    {
     "name": "stdout",
     "output_type": "stream",
     "text": [
      "<class 'pandas.core.frame.DataFrame'>\n",
      "RangeIndex: 569 entries, 0 to 568\n",
      "Data columns (total 33 columns):\n",
      " #   Column                   Non-Null Count  Dtype  \n",
      "---  ------                   --------------  -----  \n",
      " 0   id                       569 non-null    int64  \n",
      " 1   diagnosis                569 non-null    object \n",
      " 2   diagnosis_numeric        569 non-null    int64  \n",
      " 3   radius                   569 non-null    float64\n",
      " 4   texture                  569 non-null    float64\n",
      " 5   perimeter                569 non-null    float64\n",
      " 6   area                     569 non-null    float64\n",
      " 7   smoothness               569 non-null    float64\n",
      " 8   compactness              569 non-null    float64\n",
      " 9   concavity                569 non-null    float64\n",
      " 10  concave_points           569 non-null    float64\n",
      " 11  symmetry                 569 non-null    float64\n",
      " 12  fractal_dimension        569 non-null    float64\n",
      " 13  radius_se                569 non-null    float64\n",
      " 14  texture_se               569 non-null    float64\n",
      " 15  perimeter_se             569 non-null    float64\n",
      " 16  area_se                  569 non-null    float64\n",
      " 17  smoothness_se            569 non-null    float64\n",
      " 18  compactness_se           569 non-null    float64\n",
      " 19  concavity_se             569 non-null    float64\n",
      " 20  concave_points_se        569 non-null    float64\n",
      " 21  symmetry_se              569 non-null    float64\n",
      " 22  fractal_dimension_se     569 non-null    float64\n",
      " 23  radius_worse             569 non-null    float64\n",
      " 24  texture_worst            569 non-null    float64\n",
      " 25  perimeter_worst          569 non-null    float64\n",
      " 26  area_worst               569 non-null    float64\n",
      " 27  smoothness_worst         569 non-null    float64\n",
      " 28  compactness_worst        569 non-null    float64\n",
      " 29  concavity_worst          569 non-null    float64\n",
      " 30  concave_points_worst     569 non-null    float64\n",
      " 31  symmetry_worst           569 non-null    float64\n",
      " 32  fractal_dimension_worst  569 non-null    float64\n",
      "dtypes: float64(30), int64(2), object(1)\n",
      "memory usage: 146.8+ KB\n"
     ]
    }
   ],
   "source": [
    "df.info()"
   ]
  },
  {
   "cell_type": "code",
   "execution_count": 7,
   "metadata": {},
   "outputs": [
    {
     "data": {
      "text/html": [
       "<div>\n",
       "<style scoped>\n",
       "    .dataframe tbody tr th:only-of-type {\n",
       "        vertical-align: middle;\n",
       "    }\n",
       "\n",
       "    .dataframe tbody tr th {\n",
       "        vertical-align: top;\n",
       "    }\n",
       "\n",
       "    .dataframe thead th {\n",
       "        text-align: right;\n",
       "    }\n",
       "</style>\n",
       "<table border=\"1\" class=\"dataframe\">\n",
       "  <thead>\n",
       "    <tr style=\"text-align: right;\">\n",
       "      <th></th>\n",
       "      <th>count</th>\n",
       "      <th>mean</th>\n",
       "      <th>std</th>\n",
       "      <th>min</th>\n",
       "      <th>25%</th>\n",
       "      <th>50%</th>\n",
       "      <th>75%</th>\n",
       "      <th>max</th>\n",
       "    </tr>\n",
       "  </thead>\n",
       "  <tbody>\n",
       "    <tr>\n",
       "      <th>id</th>\n",
       "      <td>569.0</td>\n",
       "      <td>3.037183e+07</td>\n",
       "      <td>1.250206e+08</td>\n",
       "      <td>8670.000000</td>\n",
       "      <td>869218.000000</td>\n",
       "      <td>906024.000000</td>\n",
       "      <td>8.813129e+06</td>\n",
       "      <td>9.113205e+08</td>\n",
       "    </tr>\n",
       "    <tr>\n",
       "      <th>diagnosis_numeric</th>\n",
       "      <td>569.0</td>\n",
       "      <td>3.725835e-01</td>\n",
       "      <td>4.839180e-01</td>\n",
       "      <td>0.000000</td>\n",
       "      <td>0.000000</td>\n",
       "      <td>0.000000</td>\n",
       "      <td>1.000000e+00</td>\n",
       "      <td>1.000000e+00</td>\n",
       "    </tr>\n",
       "    <tr>\n",
       "      <th>radius</th>\n",
       "      <td>569.0</td>\n",
       "      <td>1.412729e+01</td>\n",
       "      <td>3.524049e+00</td>\n",
       "      <td>6.981000</td>\n",
       "      <td>11.700000</td>\n",
       "      <td>13.370000</td>\n",
       "      <td>1.578000e+01</td>\n",
       "      <td>2.811000e+01</td>\n",
       "    </tr>\n",
       "    <tr>\n",
       "      <th>texture</th>\n",
       "      <td>569.0</td>\n",
       "      <td>1.928965e+01</td>\n",
       "      <td>4.301036e+00</td>\n",
       "      <td>9.710000</td>\n",
       "      <td>16.170000</td>\n",
       "      <td>18.840000</td>\n",
       "      <td>2.180000e+01</td>\n",
       "      <td>3.928000e+01</td>\n",
       "    </tr>\n",
       "    <tr>\n",
       "      <th>perimeter</th>\n",
       "      <td>569.0</td>\n",
       "      <td>9.196903e+01</td>\n",
       "      <td>2.429898e+01</td>\n",
       "      <td>43.790000</td>\n",
       "      <td>75.170000</td>\n",
       "      <td>86.240000</td>\n",
       "      <td>1.041000e+02</td>\n",
       "      <td>1.885000e+02</td>\n",
       "    </tr>\n",
       "    <tr>\n",
       "      <th>area</th>\n",
       "      <td>569.0</td>\n",
       "      <td>6.548891e+02</td>\n",
       "      <td>3.519141e+02</td>\n",
       "      <td>143.500000</td>\n",
       "      <td>420.300000</td>\n",
       "      <td>551.100000</td>\n",
       "      <td>7.827000e+02</td>\n",
       "      <td>2.501000e+03</td>\n",
       "    </tr>\n",
       "    <tr>\n",
       "      <th>smoothness</th>\n",
       "      <td>569.0</td>\n",
       "      <td>9.636028e-02</td>\n",
       "      <td>1.406413e-02</td>\n",
       "      <td>0.052630</td>\n",
       "      <td>0.086370</td>\n",
       "      <td>0.095870</td>\n",
       "      <td>1.053000e-01</td>\n",
       "      <td>1.634000e-01</td>\n",
       "    </tr>\n",
       "    <tr>\n",
       "      <th>compactness</th>\n",
       "      <td>569.0</td>\n",
       "      <td>1.043410e-01</td>\n",
       "      <td>5.281276e-02</td>\n",
       "      <td>0.019380</td>\n",
       "      <td>0.064920</td>\n",
       "      <td>0.092630</td>\n",
       "      <td>1.304000e-01</td>\n",
       "      <td>3.454000e-01</td>\n",
       "    </tr>\n",
       "    <tr>\n",
       "      <th>concavity</th>\n",
       "      <td>569.0</td>\n",
       "      <td>8.879932e-02</td>\n",
       "      <td>7.971981e-02</td>\n",
       "      <td>0.000000</td>\n",
       "      <td>0.029560</td>\n",
       "      <td>0.061540</td>\n",
       "      <td>1.307000e-01</td>\n",
       "      <td>4.268000e-01</td>\n",
       "    </tr>\n",
       "    <tr>\n",
       "      <th>concave_points</th>\n",
       "      <td>569.0</td>\n",
       "      <td>4.891915e-02</td>\n",
       "      <td>3.880284e-02</td>\n",
       "      <td>0.000000</td>\n",
       "      <td>0.020310</td>\n",
       "      <td>0.033500</td>\n",
       "      <td>7.400000e-02</td>\n",
       "      <td>2.012000e-01</td>\n",
       "    </tr>\n",
       "    <tr>\n",
       "      <th>symmetry</th>\n",
       "      <td>569.0</td>\n",
       "      <td>1.811619e-01</td>\n",
       "      <td>2.741428e-02</td>\n",
       "      <td>0.106000</td>\n",
       "      <td>0.161900</td>\n",
       "      <td>0.179200</td>\n",
       "      <td>1.957000e-01</td>\n",
       "      <td>3.040000e-01</td>\n",
       "    </tr>\n",
       "    <tr>\n",
       "      <th>fractal_dimension</th>\n",
       "      <td>569.0</td>\n",
       "      <td>6.279761e-02</td>\n",
       "      <td>7.060363e-03</td>\n",
       "      <td>0.049960</td>\n",
       "      <td>0.057700</td>\n",
       "      <td>0.061540</td>\n",
       "      <td>6.612000e-02</td>\n",
       "      <td>9.744000e-02</td>\n",
       "    </tr>\n",
       "    <tr>\n",
       "      <th>radius_se</th>\n",
       "      <td>569.0</td>\n",
       "      <td>4.051721e-01</td>\n",
       "      <td>2.773127e-01</td>\n",
       "      <td>0.111500</td>\n",
       "      <td>0.232400</td>\n",
       "      <td>0.324200</td>\n",
       "      <td>4.789000e-01</td>\n",
       "      <td>2.873000e+00</td>\n",
       "    </tr>\n",
       "    <tr>\n",
       "      <th>texture_se</th>\n",
       "      <td>569.0</td>\n",
       "      <td>1.216853e+00</td>\n",
       "      <td>5.516484e-01</td>\n",
       "      <td>0.360200</td>\n",
       "      <td>0.833900</td>\n",
       "      <td>1.108000</td>\n",
       "      <td>1.474000e+00</td>\n",
       "      <td>4.885000e+00</td>\n",
       "    </tr>\n",
       "    <tr>\n",
       "      <th>perimeter_se</th>\n",
       "      <td>569.0</td>\n",
       "      <td>2.866059e+00</td>\n",
       "      <td>2.021855e+00</td>\n",
       "      <td>0.757000</td>\n",
       "      <td>1.606000</td>\n",
       "      <td>2.287000</td>\n",
       "      <td>3.357000e+00</td>\n",
       "      <td>2.198000e+01</td>\n",
       "    </tr>\n",
       "    <tr>\n",
       "      <th>area_se</th>\n",
       "      <td>569.0</td>\n",
       "      <td>4.033708e+01</td>\n",
       "      <td>4.549101e+01</td>\n",
       "      <td>6.802000</td>\n",
       "      <td>17.850000</td>\n",
       "      <td>24.530000</td>\n",
       "      <td>4.519000e+01</td>\n",
       "      <td>5.422000e+02</td>\n",
       "    </tr>\n",
       "    <tr>\n",
       "      <th>smoothness_se</th>\n",
       "      <td>569.0</td>\n",
       "      <td>7.040979e-03</td>\n",
       "      <td>3.002518e-03</td>\n",
       "      <td>0.001713</td>\n",
       "      <td>0.005169</td>\n",
       "      <td>0.006380</td>\n",
       "      <td>8.146000e-03</td>\n",
       "      <td>3.113000e-02</td>\n",
       "    </tr>\n",
       "    <tr>\n",
       "      <th>compactness_se</th>\n",
       "      <td>569.0</td>\n",
       "      <td>2.547814e-02</td>\n",
       "      <td>1.790818e-02</td>\n",
       "      <td>0.002252</td>\n",
       "      <td>0.013080</td>\n",
       "      <td>0.020450</td>\n",
       "      <td>3.245000e-02</td>\n",
       "      <td>1.354000e-01</td>\n",
       "    </tr>\n",
       "    <tr>\n",
       "      <th>concavity_se</th>\n",
       "      <td>569.0</td>\n",
       "      <td>3.189372e-02</td>\n",
       "      <td>3.018606e-02</td>\n",
       "      <td>0.000000</td>\n",
       "      <td>0.015090</td>\n",
       "      <td>0.025890</td>\n",
       "      <td>4.205000e-02</td>\n",
       "      <td>3.960000e-01</td>\n",
       "    </tr>\n",
       "    <tr>\n",
       "      <th>concave_points_se</th>\n",
       "      <td>569.0</td>\n",
       "      <td>1.179614e-02</td>\n",
       "      <td>6.170285e-03</td>\n",
       "      <td>0.000000</td>\n",
       "      <td>0.007638</td>\n",
       "      <td>0.010930</td>\n",
       "      <td>1.471000e-02</td>\n",
       "      <td>5.279000e-02</td>\n",
       "    </tr>\n",
       "    <tr>\n",
       "      <th>symmetry_se</th>\n",
       "      <td>569.0</td>\n",
       "      <td>2.054230e-02</td>\n",
       "      <td>8.266372e-03</td>\n",
       "      <td>0.007882</td>\n",
       "      <td>0.015160</td>\n",
       "      <td>0.018730</td>\n",
       "      <td>2.348000e-02</td>\n",
       "      <td>7.895000e-02</td>\n",
       "    </tr>\n",
       "    <tr>\n",
       "      <th>fractal_dimension_se</th>\n",
       "      <td>569.0</td>\n",
       "      <td>3.794904e-03</td>\n",
       "      <td>2.646071e-03</td>\n",
       "      <td>0.000895</td>\n",
       "      <td>0.002248</td>\n",
       "      <td>0.003187</td>\n",
       "      <td>4.558000e-03</td>\n",
       "      <td>2.984000e-02</td>\n",
       "    </tr>\n",
       "    <tr>\n",
       "      <th>radius_worse</th>\n",
       "      <td>569.0</td>\n",
       "      <td>1.626919e+01</td>\n",
       "      <td>4.833242e+00</td>\n",
       "      <td>7.930000</td>\n",
       "      <td>13.010000</td>\n",
       "      <td>14.970000</td>\n",
       "      <td>1.879000e+01</td>\n",
       "      <td>3.604000e+01</td>\n",
       "    </tr>\n",
       "    <tr>\n",
       "      <th>texture_worst</th>\n",
       "      <td>569.0</td>\n",
       "      <td>2.567722e+01</td>\n",
       "      <td>6.146258e+00</td>\n",
       "      <td>12.020000</td>\n",
       "      <td>21.080000</td>\n",
       "      <td>25.410000</td>\n",
       "      <td>2.972000e+01</td>\n",
       "      <td>4.954000e+01</td>\n",
       "    </tr>\n",
       "    <tr>\n",
       "      <th>perimeter_worst</th>\n",
       "      <td>569.0</td>\n",
       "      <td>1.072612e+02</td>\n",
       "      <td>3.360254e+01</td>\n",
       "      <td>50.410000</td>\n",
       "      <td>84.110000</td>\n",
       "      <td>97.660000</td>\n",
       "      <td>1.254000e+02</td>\n",
       "      <td>2.512000e+02</td>\n",
       "    </tr>\n",
       "    <tr>\n",
       "      <th>area_worst</th>\n",
       "      <td>569.0</td>\n",
       "      <td>8.805831e+02</td>\n",
       "      <td>5.693570e+02</td>\n",
       "      <td>185.200000</td>\n",
       "      <td>515.300000</td>\n",
       "      <td>686.500000</td>\n",
       "      <td>1.084000e+03</td>\n",
       "      <td>4.254000e+03</td>\n",
       "    </tr>\n",
       "    <tr>\n",
       "      <th>smoothness_worst</th>\n",
       "      <td>569.0</td>\n",
       "      <td>1.323686e-01</td>\n",
       "      <td>2.283243e-02</td>\n",
       "      <td>0.071170</td>\n",
       "      <td>0.116600</td>\n",
       "      <td>0.131300</td>\n",
       "      <td>1.460000e-01</td>\n",
       "      <td>2.226000e-01</td>\n",
       "    </tr>\n",
       "    <tr>\n",
       "      <th>compactness_worst</th>\n",
       "      <td>569.0</td>\n",
       "      <td>2.542650e-01</td>\n",
       "      <td>1.573365e-01</td>\n",
       "      <td>0.027290</td>\n",
       "      <td>0.147200</td>\n",
       "      <td>0.211900</td>\n",
       "      <td>3.391000e-01</td>\n",
       "      <td>1.058000e+00</td>\n",
       "    </tr>\n",
       "    <tr>\n",
       "      <th>concavity_worst</th>\n",
       "      <td>569.0</td>\n",
       "      <td>2.721885e-01</td>\n",
       "      <td>2.086243e-01</td>\n",
       "      <td>0.000000</td>\n",
       "      <td>0.114500</td>\n",
       "      <td>0.226700</td>\n",
       "      <td>3.829000e-01</td>\n",
       "      <td>1.252000e+00</td>\n",
       "    </tr>\n",
       "    <tr>\n",
       "      <th>concave_points_worst</th>\n",
       "      <td>569.0</td>\n",
       "      <td>1.146062e-01</td>\n",
       "      <td>6.573234e-02</td>\n",
       "      <td>0.000000</td>\n",
       "      <td>0.064930</td>\n",
       "      <td>0.099930</td>\n",
       "      <td>1.614000e-01</td>\n",
       "      <td>2.910000e-01</td>\n",
       "    </tr>\n",
       "    <tr>\n",
       "      <th>symmetry_worst</th>\n",
       "      <td>569.0</td>\n",
       "      <td>2.900756e-01</td>\n",
       "      <td>6.186747e-02</td>\n",
       "      <td>0.156500</td>\n",
       "      <td>0.250400</td>\n",
       "      <td>0.282200</td>\n",
       "      <td>3.179000e-01</td>\n",
       "      <td>6.638000e-01</td>\n",
       "    </tr>\n",
       "    <tr>\n",
       "      <th>fractal_dimension_worst</th>\n",
       "      <td>569.0</td>\n",
       "      <td>8.394582e-02</td>\n",
       "      <td>1.806127e-02</td>\n",
       "      <td>0.055040</td>\n",
       "      <td>0.071460</td>\n",
       "      <td>0.080040</td>\n",
       "      <td>9.208000e-02</td>\n",
       "      <td>2.075000e-01</td>\n",
       "    </tr>\n",
       "  </tbody>\n",
       "</table>\n",
       "</div>"
      ],
      "text/plain": [
       "                         count          mean           std          min  \\\n",
       "id                       569.0  3.037183e+07  1.250206e+08  8670.000000   \n",
       "diagnosis_numeric        569.0  3.725835e-01  4.839180e-01     0.000000   \n",
       "radius                   569.0  1.412729e+01  3.524049e+00     6.981000   \n",
       "texture                  569.0  1.928965e+01  4.301036e+00     9.710000   \n",
       "perimeter                569.0  9.196903e+01  2.429898e+01    43.790000   \n",
       "area                     569.0  6.548891e+02  3.519141e+02   143.500000   \n",
       "smoothness               569.0  9.636028e-02  1.406413e-02     0.052630   \n",
       "compactness              569.0  1.043410e-01  5.281276e-02     0.019380   \n",
       "concavity                569.0  8.879932e-02  7.971981e-02     0.000000   \n",
       "concave_points           569.0  4.891915e-02  3.880284e-02     0.000000   \n",
       "symmetry                 569.0  1.811619e-01  2.741428e-02     0.106000   \n",
       "fractal_dimension        569.0  6.279761e-02  7.060363e-03     0.049960   \n",
       "radius_se                569.0  4.051721e-01  2.773127e-01     0.111500   \n",
       "texture_se               569.0  1.216853e+00  5.516484e-01     0.360200   \n",
       "perimeter_se             569.0  2.866059e+00  2.021855e+00     0.757000   \n",
       "area_se                  569.0  4.033708e+01  4.549101e+01     6.802000   \n",
       "smoothness_se            569.0  7.040979e-03  3.002518e-03     0.001713   \n",
       "compactness_se           569.0  2.547814e-02  1.790818e-02     0.002252   \n",
       "concavity_se             569.0  3.189372e-02  3.018606e-02     0.000000   \n",
       "concave_points_se        569.0  1.179614e-02  6.170285e-03     0.000000   \n",
       "symmetry_se              569.0  2.054230e-02  8.266372e-03     0.007882   \n",
       "fractal_dimension_se     569.0  3.794904e-03  2.646071e-03     0.000895   \n",
       "radius_worse             569.0  1.626919e+01  4.833242e+00     7.930000   \n",
       "texture_worst            569.0  2.567722e+01  6.146258e+00    12.020000   \n",
       "perimeter_worst          569.0  1.072612e+02  3.360254e+01    50.410000   \n",
       "area_worst               569.0  8.805831e+02  5.693570e+02   185.200000   \n",
       "smoothness_worst         569.0  1.323686e-01  2.283243e-02     0.071170   \n",
       "compactness_worst        569.0  2.542650e-01  1.573365e-01     0.027290   \n",
       "concavity_worst          569.0  2.721885e-01  2.086243e-01     0.000000   \n",
       "concave_points_worst     569.0  1.146062e-01  6.573234e-02     0.000000   \n",
       "symmetry_worst           569.0  2.900756e-01  6.186747e-02     0.156500   \n",
       "fractal_dimension_worst  569.0  8.394582e-02  1.806127e-02     0.055040   \n",
       "\n",
       "                                   25%            50%           75%  \\\n",
       "id                       869218.000000  906024.000000  8.813129e+06   \n",
       "diagnosis_numeric             0.000000       0.000000  1.000000e+00   \n",
       "radius                       11.700000      13.370000  1.578000e+01   \n",
       "texture                      16.170000      18.840000  2.180000e+01   \n",
       "perimeter                    75.170000      86.240000  1.041000e+02   \n",
       "area                        420.300000     551.100000  7.827000e+02   \n",
       "smoothness                    0.086370       0.095870  1.053000e-01   \n",
       "compactness                   0.064920       0.092630  1.304000e-01   \n",
       "concavity                     0.029560       0.061540  1.307000e-01   \n",
       "concave_points                0.020310       0.033500  7.400000e-02   \n",
       "symmetry                      0.161900       0.179200  1.957000e-01   \n",
       "fractal_dimension             0.057700       0.061540  6.612000e-02   \n",
       "radius_se                     0.232400       0.324200  4.789000e-01   \n",
       "texture_se                    0.833900       1.108000  1.474000e+00   \n",
       "perimeter_se                  1.606000       2.287000  3.357000e+00   \n",
       "area_se                      17.850000      24.530000  4.519000e+01   \n",
       "smoothness_se                 0.005169       0.006380  8.146000e-03   \n",
       "compactness_se                0.013080       0.020450  3.245000e-02   \n",
       "concavity_se                  0.015090       0.025890  4.205000e-02   \n",
       "concave_points_se             0.007638       0.010930  1.471000e-02   \n",
       "symmetry_se                   0.015160       0.018730  2.348000e-02   \n",
       "fractal_dimension_se          0.002248       0.003187  4.558000e-03   \n",
       "radius_worse                 13.010000      14.970000  1.879000e+01   \n",
       "texture_worst                21.080000      25.410000  2.972000e+01   \n",
       "perimeter_worst              84.110000      97.660000  1.254000e+02   \n",
       "area_worst                  515.300000     686.500000  1.084000e+03   \n",
       "smoothness_worst              0.116600       0.131300  1.460000e-01   \n",
       "compactness_worst             0.147200       0.211900  3.391000e-01   \n",
       "concavity_worst               0.114500       0.226700  3.829000e-01   \n",
       "concave_points_worst          0.064930       0.099930  1.614000e-01   \n",
       "symmetry_worst                0.250400       0.282200  3.179000e-01   \n",
       "fractal_dimension_worst       0.071460       0.080040  9.208000e-02   \n",
       "\n",
       "                                  max  \n",
       "id                       9.113205e+08  \n",
       "diagnosis_numeric        1.000000e+00  \n",
       "radius                   2.811000e+01  \n",
       "texture                  3.928000e+01  \n",
       "perimeter                1.885000e+02  \n",
       "area                     2.501000e+03  \n",
       "smoothness               1.634000e-01  \n",
       "compactness              3.454000e-01  \n",
       "concavity                4.268000e-01  \n",
       "concave_points           2.012000e-01  \n",
       "symmetry                 3.040000e-01  \n",
       "fractal_dimension        9.744000e-02  \n",
       "radius_se                2.873000e+00  \n",
       "texture_se               4.885000e+00  \n",
       "perimeter_se             2.198000e+01  \n",
       "area_se                  5.422000e+02  \n",
       "smoothness_se            3.113000e-02  \n",
       "compactness_se           1.354000e-01  \n",
       "concavity_se             3.960000e-01  \n",
       "concave_points_se        5.279000e-02  \n",
       "symmetry_se              7.895000e-02  \n",
       "fractal_dimension_se     2.984000e-02  \n",
       "radius_worse             3.604000e+01  \n",
       "texture_worst            4.954000e+01  \n",
       "perimeter_worst          2.512000e+02  \n",
       "area_worst               4.254000e+03  \n",
       "smoothness_worst         2.226000e-01  \n",
       "compactness_worst        1.058000e+00  \n",
       "concavity_worst          1.252000e+00  \n",
       "concave_points_worst     2.910000e-01  \n",
       "symmetry_worst           6.638000e-01  \n",
       "fractal_dimension_worst  2.075000e-01  "
      ]
     },
     "execution_count": 7,
     "metadata": {},
     "output_type": "execute_result"
    }
   ],
   "source": [
    "df.describe().transpose()"
   ]
  },
  {
   "cell_type": "markdown",
   "metadata": {},
   "source": [
    "## Feature Engineering"
   ]
  },
  {
   "cell_type": "markdown",
   "metadata": {},
   "source": [
    "### Checking for null values"
   ]
  },
  {
   "cell_type": "code",
   "execution_count": 8,
   "metadata": {},
   "outputs": [
    {
     "data": {
      "text/plain": [
       "id                         0\n",
       "diagnosis                  0\n",
       "diagnosis_numeric          0\n",
       "radius                     0\n",
       "texture                    0\n",
       "perimeter                  0\n",
       "area                       0\n",
       "smoothness                 0\n",
       "compactness                0\n",
       "concavity                  0\n",
       "concave_points             0\n",
       "symmetry                   0\n",
       "fractal_dimension          0\n",
       "radius_se                  0\n",
       "texture_se                 0\n",
       "perimeter_se               0\n",
       "area_se                    0\n",
       "smoothness_se              0\n",
       "compactness_se             0\n",
       "concavity_se               0\n",
       "concave_points_se          0\n",
       "symmetry_se                0\n",
       "fractal_dimension_se       0\n",
       "radius_worse               0\n",
       "texture_worst              0\n",
       "perimeter_worst            0\n",
       "area_worst                 0\n",
       "smoothness_worst           0\n",
       "compactness_worst          0\n",
       "concavity_worst            0\n",
       "concave_points_worst       0\n",
       "symmetry_worst             0\n",
       "fractal_dimension_worst    0\n",
       "dtype: int64"
      ]
     },
     "execution_count": 8,
     "metadata": {},
     "output_type": "execute_result"
    }
   ],
   "source": [
    "df.isnull().sum()"
   ]
  },
  {
   "cell_type": "markdown",
   "metadata": {},
   "source": [
    "#### No null values to handle"
   ]
  },
  {
   "cell_type": "markdown",
   "metadata": {},
   "source": [
    "### Checking whether the target class is balanced or not"
   ]
  },
  {
   "cell_type": "code",
   "execution_count": 9,
   "metadata": {},
   "outputs": [
    {
     "data": {
      "text/plain": [
       "0    357\n",
       "1    212\n",
       "Name: diagnosis_numeric, dtype: int64"
      ]
     },
     "execution_count": 9,
     "metadata": {},
     "output_type": "execute_result"
    }
   ],
   "source": [
    "df[\"diagnosis_numeric\"].value_counts()"
   ]
  },
  {
   "cell_type": "code",
   "execution_count": 10,
   "metadata": {},
   "outputs": [
    {
     "data": {
      "text/plain": [
       "[Text(0, 0, 'Benign'), Text(0, 0, 'Malignant')]"
      ]
     },
     "execution_count": 10,
     "metadata": {},
     "output_type": "execute_result"
    },
    {
     "data": {
      "image/png": "[encoded data removed]",
      "text/plain": [
       "<Figure size 720x432 with 1 Axes>"
      ]
     },
     "metadata": {
      "needs_background": "light"
     },
     "output_type": "display_data"
    }
   ],
   "source": [
    "plt.figure(figsize=(10,6))\n",
    "sns.set_style('whitegrid')\n",
    "plot=sns.countplot(x=\"diagnosis_numeric\",data=df)\n",
    "plot.set_xticklabels([\"Benign\",\"Malignant\"])"
   ]
  },
  {
   "cell_type": "markdown",
   "metadata": {},
   "source": [
    "### Feature Selection"
   ]
  },
  {
   "cell_type": "code",
   "execution_count": 11,
   "metadata": {},
   "outputs": [],
   "source": [
    "cols=df.columns\n",
    "columns = [c for c in cols if c not in [\"diagnosis\",\"diagnosis_numeric\",\"id\"]]\n",
    "X=df[columns]\n",
    "y=df[\"diagnosis_numeric\"]"
   ]
  },
  {
   "cell_type": "code",
   "execution_count": 21,
   "metadata": {},
   "outputs": [
    {
     "data": {
      "text/plain": [
       "<matplotlib.axes._subplots.AxesSubplot at 0x193c7919f70>"
      ]
     },
     "execution_count": 21,
     "metadata": {},
     "output_type": "execute_result"
    },
    {
     "data": {
      "image/png": "[encoded data removed]",
      "text/plain": [
       "<Figure size 720x576 with 2 Axes>"
      ]
     },
     "metadata": {},
     "output_type": "display_data"
    }
   ],
   "source": [
    "plt.figure(figsize=(10,8))\n",
    "sns.heatmap(df.drop(\"id\",axis=1).corr())"
   ]
  },
  {
   "cell_type": "code",
   "execution_count": 13,
   "metadata": {},
   "outputs": [
    {
     "data": {
      "text/plain": [
       "ExtraTreesClassifier()"
      ]
     },
     "execution_count": 13,
     "metadata": {},
     "output_type": "execute_result"
    }
   ],
   "source": [
    "from sklearn.ensemble import ExtraTreesClassifier\n",
    "import matplotlib.pyplot as plt\n",
    "model = ExtraTreesClassifier()\n",
    "model.fit(X,y)"
   ]
  },
  {
   "cell_type": "code",
   "execution_count": 14,
   "metadata": {},
   "outputs": [
    {
     "name": "stdout",
     "output_type": "stream",
     "text": [
      "[0.07235833 0.01856875 0.05035088 0.05995879 0.01146978 0.02696377\n",
      " 0.0429133  0.07060195 0.00867518 0.00725323 0.01776663 0.00548353\n",
      " 0.02221423 0.02593874 0.00600983 0.00607286 0.01168685 0.01587457\n",
      " 0.00544967 0.00791237 0.07389984 0.02593689 0.09919341 0.08521582\n",
      " 0.0196077  0.02188014 0.05179517 0.09857629 0.01626666 0.01410484]\n"
     ]
    }
   ],
   "source": [
    "print(model.feature_importances_) #use inbuilt class feature_importances of tree based classifiers"
   ]
  },
  {
   "cell_type": "code",
   "execution_count": 15,
   "metadata": {},
   "outputs": [
    {
     "data": {
      "image/png": "[encoded data removed]",
      "text/plain": [
       "<Figure size 432x288 with 1 Axes>"
      ]
     },
     "metadata": {},
     "output_type": "display_data"
    }
   ],
   "source": [
    "#plot graph of feature importances for better visualization\n",
    "feat_importances = pd.Series(model.feature_importances_, index=X.columns)\n",
    "feat_importances.nlargest(10).plot(kind='barh')\n",
    "plt.show()"
   ]
  },
  {
   "cell_type": "code",
   "execution_count": 25,
   "metadata": {},
   "outputs": [
    {
     "data": {
      "text/plain": [
       "Index(['id', 'diagnosis', 'diagnosis_numeric', 'radius', 'texture',\n",
       "       'perimeter', 'area', 'smoothness', 'compactness', 'concavity',\n",
       "       'concave_points', 'symmetry', 'fractal_dimension', 'radius_se',\n",
       "       'texture_se', 'perimeter_se', 'area_se', 'smoothness_se',\n",
       "       'compactness_se', 'concavity_se', 'concave_points_se', 'symmetry_se',\n",
       "       'fractal_dimension_se', 'radius_worse', 'texture_worst',\n",
       "       'perimeter_worst', 'area_worst', 'smoothness_worst',\n",
       "       'compactness_worst', 'concavity_worst', 'concave_points_worst',\n",
       "       'symmetry_worst', 'fractal_dimension_worst'],\n",
       "      dtype='object')"
      ]
     },
     "execution_count": 25,
     "metadata": {},
     "output_type": "execute_result"
    }
   ],
   "source": [
    "df.columns"
   ]
  },
  {
   "cell_type": "markdown",
   "metadata": {},
   "source": [
    "### Used the greedy approach as well as the above technique to get the best features"
   ]
  },
  {
   "cell_type": "code",
   "execution_count": 45,
   "metadata": {},
   "outputs": [],
   "source": [
    "x=df[[\"area\",\"radius\",\"concavity\",\"perimeter_worst\",\"perimeter\",\"radius_worse\",\"concave_points_worst\"]]"
   ]
  },
  {
   "cell_type": "code",
   "execution_count": 46,
   "metadata": {},
   "outputs": [],
   "source": [
    "y=df[\"diagnosis_numeric\"]"
   ]
  },
  {
   "cell_type": "markdown",
   "metadata": {},
   "source": [
    "## Model Creation"
   ]
  },
  {
   "cell_type": "markdown",
   "metadata": {},
   "source": [
    "### Logisitic Regression"
   ]
  },
  {
   "cell_type": "code",
   "execution_count": 24,
   "metadata": {},
   "outputs": [],
   "source": [
    "from sklearn.linear_model import LogisticRegression\n",
    "model = LogisticRegression()"
   ]
  },
  {
   "cell_type": "code",
   "execution_count": 25,
   "metadata": {},
   "outputs": [],
   "source": [
    "from sklearn.metrics import confusion_matrix,classification_report"
   ]
  },
  {
   "cell_type": "code",
   "execution_count": 47,
   "metadata": {},
   "outputs": [],
   "source": [
    "from sklearn.model_selection import train_test_split\n",
    "x_train, x_test, y_train, y_test = train_test_split(x,y,random_state =101,test_size=0.6)"
   ]
  },
  {
   "cell_type": "code",
   "execution_count": 48,
   "metadata": {},
   "outputs": [
    {
     "name": "stdout",
     "output_type": "stream",
     "text": [
      "Best: 0.948353 using {'C': 100, 'penalty': 'l2', 'solver': 'liblinear'}\n",
      "0.946838 (0.039063) with: {'C': 100, 'penalty': 'l2', 'solver': 'newton-cg'}\n",
      "0.945389 (0.039481) with: {'C': 100, 'penalty': 'l2', 'solver': 'lbfgs'}\n",
      "0.948353 (0.038446) with: {'C': 100, 'penalty': 'l2', 'solver': 'liblinear'}\n",
      "0.943939 (0.042889) with: {'C': 10, 'penalty': 'l2', 'solver': 'newton-cg'}\n",
      "0.945389 (0.044009) with: {'C': 10, 'penalty': 'l2', 'solver': 'lbfgs'}\n",
      "0.943939 (0.047091) with: {'C': 10, 'penalty': 'l2', 'solver': 'liblinear'}\n",
      "0.927931 (0.047698) with: {'C': 1.0, 'penalty': 'l2', 'solver': 'newton-cg'}\n",
      "0.935112 (0.049568) with: {'C': 1.0, 'penalty': 'l2', 'solver': 'lbfgs'}\n",
      "0.930764 (0.048113) with: {'C': 1.0, 'penalty': 'l2', 'solver': 'liblinear'}\n",
      "0.923518 (0.045587) with: {'C': 0.1, 'penalty': 'l2', 'solver': 'newton-cg'}\n",
      "0.926416 (0.044822) with: {'C': 0.1, 'penalty': 'l2', 'solver': 'lbfgs'}\n",
      "0.923452 (0.050889) with: {'C': 0.1, 'penalty': 'l2', 'solver': 'liblinear'}\n",
      "0.917523 (0.051213) with: {'C': 0.01, 'penalty': 'l2', 'solver': 'newton-cg'}\n",
      "0.917523 (0.051213) with: {'C': 0.01, 'penalty': 'l2', 'solver': 'lbfgs'}\n",
      "0.907049 (0.058318) with: {'C': 0.01, 'penalty': 'l2', 'solver': 'liblinear'}\n"
     ]
    }
   ],
   "source": [
    "from sklearn.model_selection import RepeatedStratifiedKFold\n",
    "from sklearn.model_selection import GridSearchCV\n",
    "from sklearn.linear_model import LogisticRegression\n",
    "\n",
    "\n",
    "solvers = ['newton-cg', 'lbfgs', 'liblinear']\n",
    "penalty = ['l2']\n",
    "c_values = [100, 10, 1.0, 0.1, 0.01]\n",
    "\n",
    "# define grid search\n",
    "grid = dict(solver=solvers,penalty=penalty,C=c_values)\n",
    "cv = RepeatedStratifiedKFold(n_splits=10, n_repeats=3, random_state=1)\n",
    "grid_search = GridSearchCV(estimator=model, param_grid=grid, n_jobs=-1, cv=cv, scoring='accuracy',error_score=0)\n",
    "grid_result = grid_search.fit(x_train, y_train)\n",
    "# summarize results\n",
    "print(\"Best: %f using %s\" % (grid_result.best_score_, grid_result.best_params_))\n",
    "means = grid_result.cv_results_['mean_test_score']\n",
    "stds = grid_result.cv_results_['std_test_score']\n",
    "params = grid_result.cv_results_['params']\n",
    "for mean, stdev, param in zip(means, stds, params):\n",
    "    print(\"%f (%f) with: %r\" % (mean, stdev, param))"
   ]
  },
  {
   "cell_type": "code",
   "execution_count": 55,
   "metadata": {},
   "outputs": [],
   "source": [
    "logisticRegr = LogisticRegression(C=100,penalty=\"l2\",solver='liblinear')"
   ]
  },
  {
   "cell_type": "code",
   "execution_count": 56,
   "metadata": {},
   "outputs": [],
   "source": [
    "model=logisticRegr.fit(x_train, y_train)"
   ]
  },
  {
   "cell_type": "code",
   "execution_count": 57,
   "metadata": {},
   "outputs": [],
   "source": [
    "predictions = model.predict(x_test)"
   ]
  },
  {
   "cell_type": "code",
   "execution_count": 37,
   "metadata": {},
   "outputs": [
    {
     "name": "stdout",
     "output_type": "stream",
     "text": [
      "[[217  10]\n",
      " [  4 111]]\n"
     ]
    }
   ],
   "source": [
    "cm=confusion_matrix(y_test, predictions)\n",
    "print(cm)"
   ]
  },
  {
   "cell_type": "code",
   "execution_count": 38,
   "metadata": {},
   "outputs": [
    {
     "name": "stdout",
     "output_type": "stream",
     "text": [
      "              precision    recall  f1-score   support\n",
      "\n",
      "           0       0.98      0.96      0.97       227\n",
      "           1       0.92      0.97      0.94       115\n",
      "\n",
      "    accuracy                           0.96       342\n",
      "   macro avg       0.95      0.96      0.95       342\n",
      "weighted avg       0.96      0.96      0.96       342\n",
      "\n"
     ]
    }
   ],
   "source": [
    "print(classification_report(y_test,predictions))"
   ]
  },
  {
   "cell_type": "code",
   "execution_count": 39,
   "metadata": {},
   "outputs": [
    {
     "data": {
      "text/plain": [
       "LogisticRegression(C=100, solver='liblinear')"
      ]
     },
     "execution_count": 39,
     "metadata": {},
     "output_type": "execute_result"
    }
   ],
   "source": [
    "model"
   ]
  },
  {
   "cell_type": "code",
   "execution_count": 41,
   "metadata": {},
   "outputs": [
    {
     "data": {
      "text/plain": [
       "(342, 7)"
      ]
     },
     "execution_count": 41,
     "metadata": {},
     "output_type": "execute_result"
    }
   ],
   "source": [
    "x_test.shape"
   ]
  },
  {
   "cell_type": "code",
   "execution_count": 56,
   "metadata": {},
   "outputs": [
    {
     "data": {
      "text/html": [
       "<div>\n",
       "<style scoped>\n",
       "    .dataframe tbody tr th:only-of-type {\n",
       "        vertical-align: middle;\n",
       "    }\n",
       "\n",
       "    .dataframe tbody tr th {\n",
       "        vertical-align: top;\n",
       "    }\n",
       "\n",
       "    .dataframe thead th {\n",
       "        text-align: right;\n",
       "    }\n",
       "</style>\n",
       "<table border=\"1\" class=\"dataframe\">\n",
       "  <thead>\n",
       "    <tr style=\"text-align: right;\">\n",
       "      <th></th>\n",
       "      <th>area</th>\n",
       "      <th>radius</th>\n",
       "      <th>concavity</th>\n",
       "      <th>perimeter_worst</th>\n",
       "      <th>perimeter</th>\n",
       "      <th>radius_worse</th>\n",
       "      <th>concave_points_worst</th>\n",
       "    </tr>\n",
       "  </thead>\n",
       "  <tbody>\n",
       "    <tr>\n",
       "      <th>369</th>\n",
       "      <td>1123.0</td>\n",
       "      <td>19.170</td>\n",
       "      <td>0.206500</td>\n",
       "      <td>151.70</td>\n",
       "      <td>132.40</td>\n",
       "      <td>20.960</td>\n",
       "      <td>0.17670</td>\n",
       "    </tr>\n",
       "    <tr>\n",
       "      <th>537</th>\n",
       "      <td>599.5</td>\n",
       "      <td>13.980</td>\n",
       "      <td>0.112600</td>\n",
       "      <td>113.90</td>\n",
       "      <td>91.12</td>\n",
       "      <td>17.040</td>\n",
       "      <td>0.18270</td>\n",
       "    </tr>\n",
       "    <tr>\n",
       "      <th>311</th>\n",
       "      <td>819.8</td>\n",
       "      <td>16.300</td>\n",
       "      <td>0.055260</td>\n",
       "      <td>109.80</td>\n",
       "      <td>104.70</td>\n",
       "      <td>17.320</td>\n",
       "      <td>0.13570</td>\n",
       "    </tr>\n",
       "    <tr>\n",
       "      <th>534</th>\n",
       "      <td>685.0</td>\n",
       "      <td>14.900</td>\n",
       "      <td>0.273300</td>\n",
       "      <td>125.40</td>\n",
       "      <td>102.10</td>\n",
       "      <td>16.350</td>\n",
       "      <td>0.24750</td>\n",
       "    </tr>\n",
       "    <tr>\n",
       "      <th>85</th>\n",
       "      <td>302.4</td>\n",
       "      <td>9.904</td>\n",
       "      <td>0.130700</td>\n",
       "      <td>73.07</td>\n",
       "      <td>64.60</td>\n",
       "      <td>11.260</td>\n",
       "      <td>0.09910</td>\n",
       "    </tr>\n",
       "    <tr>\n",
       "      <th>381</th>\n",
       "      <td>1094.0</td>\n",
       "      <td>18.610</td>\n",
       "      <td>0.149000</td>\n",
       "      <td>139.90</td>\n",
       "      <td>122.10</td>\n",
       "      <td>21.310</td>\n",
       "      <td>0.14900</td>\n",
       "    </tr>\n",
       "    <tr>\n",
       "      <th>159</th>\n",
       "      <td>246.3</td>\n",
       "      <td>9.000</td>\n",
       "      <td>0.003681</td>\n",
       "      <td>60.90</td>\n",
       "      <td>56.36</td>\n",
       "      <td>9.699</td>\n",
       "      <td>0.01389</td>\n",
       "    </tr>\n",
       "    <tr>\n",
       "      <th>177</th>\n",
       "      <td>514.0</td>\n",
       "      <td>12.980</td>\n",
       "      <td>0.071070</td>\n",
       "      <td>99.21</td>\n",
       "      <td>84.52</td>\n",
       "      <td>14.420</td>\n",
       "      <td>0.09858</td>\n",
       "    </tr>\n",
       "    <tr>\n",
       "      <th>108</th>\n",
       "      <td>641.2</td>\n",
       "      <td>14.340</td>\n",
       "      <td>0.057240</td>\n",
       "      <td>110.40</td>\n",
       "      <td>92.51</td>\n",
       "      <td>16.770</td>\n",
       "      <td>0.10870</td>\n",
       "    </tr>\n",
       "    <tr>\n",
       "      <th>242</th>\n",
       "      <td>380.3</td>\n",
       "      <td>11.160</td>\n",
       "      <td>0.008955</td>\n",
       "      <td>79.26</td>\n",
       "      <td>70.95</td>\n",
       "      <td>12.360</td>\n",
       "      <td>0.04306</td>\n",
       "    </tr>\n",
       "    <tr>\n",
       "      <th>172</th>\n",
       "      <td>504.8</td>\n",
       "      <td>12.860</td>\n",
       "      <td>0.038000</td>\n",
       "      <td>92.80</td>\n",
       "      <td>82.82</td>\n",
       "      <td>14.040</td>\n",
       "      <td>0.11550</td>\n",
       "    </tr>\n",
       "    <tr>\n",
       "      <th>115</th>\n",
       "      <td>603.4</td>\n",
       "      <td>14.030</td>\n",
       "      <td>0.014620</td>\n",
       "      <td>98.27</td>\n",
       "      <td>89.79</td>\n",
       "      <td>15.330</td>\n",
       "      <td>0.07963</td>\n",
       "    </tr>\n",
       "  </tbody>\n",
       "</table>\n",
       "</div>"
      ],
      "text/plain": [
       "       area  radius  concavity  perimeter_worst  perimeter  radius_worse  \\\n",
       "369  1123.0  19.170   0.206500           151.70     132.40        20.960   \n",
       "537   599.5  13.980   0.112600           113.90      91.12        17.040   \n",
       "311   819.8  16.300   0.055260           109.80     104.70        17.320   \n",
       "534   685.0  14.900   0.273300           125.40     102.10        16.350   \n",
       "85    302.4   9.904   0.130700            73.07      64.60        11.260   \n",
       "381  1094.0  18.610   0.149000           139.90     122.10        21.310   \n",
       "159   246.3   9.000   0.003681            60.90      56.36         9.699   \n",
       "177   514.0  12.980   0.071070            99.21      84.52        14.420   \n",
       "108   641.2  14.340   0.057240           110.40      92.51        16.770   \n",
       "242   380.3  11.160   0.008955            79.26      70.95        12.360   \n",
       "172   504.8  12.860   0.038000            92.80      82.82        14.040   \n",
       "115   603.4  14.030   0.014620            98.27      89.79        15.330   \n",
       "\n",
       "     concave_points_worst  \n",
       "369               0.17670  \n",
       "537               0.18270  \n",
       "311               0.13570  \n",
       "534               0.24750  \n",
       "85                0.09910  \n",
       "381               0.14900  \n",
       "159               0.01389  \n",
       "177               0.09858  \n",
       "108               0.10870  \n",
       "242               0.04306  \n",
       "172               0.11550  \n",
       "115               0.07963  "
      ]
     },
     "execution_count": 56,
     "metadata": {},
     "output_type": "execute_result"
    }
   ],
   "source": [
    "x_test.iloc[330:342]"
   ]
  },
  {
   "cell_type": "code",
   "execution_count": 53,
   "metadata": {},
   "outputs": [
    {
     "data": {
      "text/plain": [
       "369    1\n",
       "537    1\n",
       "311    0\n",
       "534    1\n",
       "85     0\n",
       "381    1\n",
       "159    0\n",
       "177    0\n",
       "108    0\n",
       "242    0\n",
       "172    0\n",
       "115    0\n",
       "Name: diagnosis_numeric, dtype: int64"
      ]
     },
     "execution_count": 53,
     "metadata": {},
     "output_type": "execute_result"
    }
   ],
   "source": [
    "y_test.iloc[330:342]"
   ]
  },
  {
   "cell_type": "code",
   "execution_count": 54,
   "metadata": {},
   "outputs": [],
   "source": [
    "new_data=x_test.iloc[330:342]"
   ]
  },
  {
   "cell_type": "code",
   "execution_count": 55,
   "metadata": {},
   "outputs": [
    {
     "data": {
      "text/plain": [
       "array([1, 1, 0, 1, 0, 1, 0, 0, 1, 0, 0, 0], dtype=int64)"
      ]
     },
     "execution_count": 55,
     "metadata": {},
     "output_type": "execute_result"
    }
   ],
   "source": [
    "model.predict(new_data)"
   ]
  },
  {
   "cell_type": "code",
   "execution_count": null,
   "metadata": {},
   "outputs": [],
   "source": [
    "#Use this model for further prediction on new data"
   ]
  },
  {
   "cell_type": "code",
   "execution_count": 40,
   "metadata": {},
   "outputs": [],
   "source": [
    "# Saving model to disk\n",
    "pickle.dump(model, open('breastCancer.pkl','wb'))"
   ]
  },
  {
   "cell_type": "code",
   "execution_count": null,
   "metadata": {},
   "outputs": [],
   "source": []
  }
 ],
 "metadata": {
  "kernelspec": {
   "display_name": "Python 3",
   "language": "python",
   "name": "python3"
  },
  "language_info": {
   "codemirror_mode": {
    "name": "ipython",
    "version": 3
   },
   "file_extension": ".py",
   "mimetype": "text/x-python",
   "name": "python",
   "nbconvert_exporter": "python",
   "pygments_lexer": "ipython3",
   "version": "3.8.3"
  }
 },
 "nbformat": 4,
 "nbformat_minor": 4
}
