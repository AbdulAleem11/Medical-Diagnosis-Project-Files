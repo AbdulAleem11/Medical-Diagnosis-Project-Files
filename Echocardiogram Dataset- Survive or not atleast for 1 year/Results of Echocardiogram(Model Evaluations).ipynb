{
 "cells": [
  {
   "cell_type": "code",
   "execution_count": 2,
   "metadata": {},
   "outputs": [],
   "source": [
    "import numpy as np\n",
    "import pandas as pd\n",
    "import matplotlib.pyplot as plt\n",
    "from matplotlib import rcParams\n",
    "from matplotlib.cm import rainbow\n",
    "%matplotlib inline\n",
    "import seaborn as sns\n",
    "import warnings\n",
    "import pandas_profiling\n",
    "warnings.filterwarnings('ignore')"
   ]
  },
  {
   "cell_type": "markdown",
   "metadata": {},
   "source": [
    "## Problem Statement\n",
    "All the patients suffered heart attacks at some point in the past. Some are still alive and some are not. The survival and still-alive variables, when taken together, indicate whether a patient survived for at least one year following the heart attack.\n",
    "\n",
    "The problem addressed by past researchers was to predict from the other variables whether or not the patient will survive at least one year. The most difficult part of this problem is correctly predicting that the patient will NOT survive. (Part of the difficulty seems to be the size of the data set.)"
   ]
  },
  {
   "cell_type": "code",
   "execution_count": 231,
   "metadata": {},
   "outputs": [
    {
     "name": "stderr",
     "output_type": "stream",
     "text": [
      "b'Skipping line 50: expected 13 fields, saw 14\\n'\n"
     ]
    },
    {
     "data": {
      "text/html": [
       "<div>\n",
       "<style scoped>\n",
       "    .dataframe tbody tr th:only-of-type {\n",
       "        vertical-align: middle;\n",
       "    }\n",
       "\n",
       "    .dataframe tbody tr th {\n",
       "        vertical-align: top;\n",
       "    }\n",
       "\n",
       "    .dataframe thead th {\n",
       "        text-align: right;\n",
       "    }\n",
       "</style>\n",
       "<table border=\"1\" class=\"dataframe\">\n",
       "  <thead>\n",
       "    <tr style=\"text-align: right;\">\n",
       "      <th></th>\n",
       "      <th>0</th>\n",
       "      <th>1</th>\n",
       "      <th>2</th>\n",
       "      <th>3</th>\n",
       "      <th>4</th>\n",
       "      <th>5</th>\n",
       "      <th>6</th>\n",
       "      <th>7</th>\n",
       "      <th>8</th>\n",
       "      <th>9</th>\n",
       "      <th>10</th>\n",
       "      <th>11</th>\n",
       "      <th>12</th>\n",
       "    </tr>\n",
       "  </thead>\n",
       "  <tbody>\n",
       "    <tr>\n",
       "      <th>0</th>\n",
       "      <td>11</td>\n",
       "      <td>0</td>\n",
       "      <td>71</td>\n",
       "      <td>0</td>\n",
       "      <td>0.260</td>\n",
       "      <td>9</td>\n",
       "      <td>4.600</td>\n",
       "      <td>14</td>\n",
       "      <td>1</td>\n",
       "      <td>1</td>\n",
       "      <td>name</td>\n",
       "      <td>1</td>\n",
       "      <td>0</td>\n",
       "    </tr>\n",
       "    <tr>\n",
       "      <th>1</th>\n",
       "      <td>19</td>\n",
       "      <td>0</td>\n",
       "      <td>72</td>\n",
       "      <td>0</td>\n",
       "      <td>0.380</td>\n",
       "      <td>6</td>\n",
       "      <td>4.100</td>\n",
       "      <td>14</td>\n",
       "      <td>1.700</td>\n",
       "      <td>0.588</td>\n",
       "      <td>name</td>\n",
       "      <td>1</td>\n",
       "      <td>0</td>\n",
       "    </tr>\n",
       "    <tr>\n",
       "      <th>2</th>\n",
       "      <td>16</td>\n",
       "      <td>0</td>\n",
       "      <td>55</td>\n",
       "      <td>0</td>\n",
       "      <td>0.260</td>\n",
       "      <td>4</td>\n",
       "      <td>3.420</td>\n",
       "      <td>14</td>\n",
       "      <td>1</td>\n",
       "      <td>1</td>\n",
       "      <td>name</td>\n",
       "      <td>1</td>\n",
       "      <td>0</td>\n",
       "    </tr>\n",
       "    <tr>\n",
       "      <th>3</th>\n",
       "      <td>57</td>\n",
       "      <td>0</td>\n",
       "      <td>60</td>\n",
       "      <td>0</td>\n",
       "      <td>0.253</td>\n",
       "      <td>12.062</td>\n",
       "      <td>4.603</td>\n",
       "      <td>16</td>\n",
       "      <td>1.450</td>\n",
       "      <td>0.788</td>\n",
       "      <td>name</td>\n",
       "      <td>1</td>\n",
       "      <td>0</td>\n",
       "    </tr>\n",
       "    <tr>\n",
       "      <th>4</th>\n",
       "      <td>19</td>\n",
       "      <td>1</td>\n",
       "      <td>57</td>\n",
       "      <td>0</td>\n",
       "      <td>0.160</td>\n",
       "      <td>22</td>\n",
       "      <td>5.750</td>\n",
       "      <td>18</td>\n",
       "      <td>2.250</td>\n",
       "      <td>0.571</td>\n",
       "      <td>name</td>\n",
       "      <td>1</td>\n",
       "      <td>0</td>\n",
       "    </tr>\n",
       "  </tbody>\n",
       "</table>\n",
       "</div>"
      ],
      "text/plain": [
       "   0   1   2   3      4       5      6   7      8      9     10 11 12\n",
       "0  11   0  71   0  0.260       9  4.600  14      1      1  name  1  0\n",
       "1  19   0  72   0  0.380       6  4.100  14  1.700  0.588  name  1  0\n",
       "2  16   0  55   0  0.260       4  3.420  14      1      1  name  1  0\n",
       "3  57   0  60   0  0.253  12.062  4.603  16  1.450  0.788  name  1  0\n",
       "4  19   1  57   0  0.160      22  5.750  18  2.250  0.571  name  1  0"
      ]
     },
     "execution_count": 231,
     "metadata": {},
     "output_type": "execute_result"
    }
   ],
   "source": [
    "df = pd.read_csv(\"Echocardiogram.data\", error_bad_lines=False,header=None,sep=\",\")\n",
    "df.head()"
   ]
  },
  {
   "cell_type": "code",
   "execution_count": 232,
   "metadata": {},
   "outputs": [
    {
     "data": {
      "text/plain": [
       "Int64Index([0, 1, 2, 3, 4, 5, 6, 7, 8, 9, 10, 11, 12], dtype='int64')"
      ]
     },
     "execution_count": 232,
     "metadata": {},
     "output_type": "execute_result"
    }
   ],
   "source": [
    "df.columns"
   ]
  },
  {
   "cell_type": "code",
   "execution_count": 233,
   "metadata": {},
   "outputs": [],
   "source": [
    "df=df.rename(columns={0: \"Survival(in months)\", 1: \"Still Alive\",2: \"Age at heart attack\",3: \"pericardial-effusion\",4: \" fractional-shortening\",5: \"epss\",6: \"lvdd\",7: \"wall-motion-score\",8: \"wall-motion-index\",9: \"mult\",10: \"name\",11: \"group\",12: \"alive-at-1\"})"
   ]
  },
  {
   "cell_type": "code",
   "execution_count": 234,
   "metadata": {},
   "outputs": [
    {
     "data": {
      "text/html": [
       "<div>\n",
       "<style scoped>\n",
       "    .dataframe tbody tr th:only-of-type {\n",
       "        vertical-align: middle;\n",
       "    }\n",
       "\n",
       "    .dataframe tbody tr th {\n",
       "        vertical-align: top;\n",
       "    }\n",
       "\n",
       "    .dataframe thead th {\n",
       "        text-align: right;\n",
       "    }\n",
       "</style>\n",
       "<table border=\"1\" class=\"dataframe\">\n",
       "  <thead>\n",
       "    <tr style=\"text-align: right;\">\n",
       "      <th></th>\n",
       "      <th>Survival(in months)</th>\n",
       "      <th>Still Alive</th>\n",
       "      <th>Age at heart attack</th>\n",
       "      <th>pericardial-effusion</th>\n",
       "      <th>fractional-shortening</th>\n",
       "      <th>epss</th>\n",
       "      <th>lvdd</th>\n",
       "      <th>wall-motion-score</th>\n",
       "      <th>wall-motion-index</th>\n",
       "      <th>mult</th>\n",
       "      <th>name</th>\n",
       "      <th>group</th>\n",
       "      <th>alive-at-1</th>\n",
       "    </tr>\n",
       "  </thead>\n",
       "  <tbody>\n",
       "    <tr>\n",
       "      <th>0</th>\n",
       "      <td>11</td>\n",
       "      <td>0</td>\n",
       "      <td>71</td>\n",
       "      <td>0</td>\n",
       "      <td>0.260</td>\n",
       "      <td>9</td>\n",
       "      <td>4.600</td>\n",
       "      <td>14</td>\n",
       "      <td>1</td>\n",
       "      <td>1</td>\n",
       "      <td>name</td>\n",
       "      <td>1</td>\n",
       "      <td>0</td>\n",
       "    </tr>\n",
       "    <tr>\n",
       "      <th>1</th>\n",
       "      <td>19</td>\n",
       "      <td>0</td>\n",
       "      <td>72</td>\n",
       "      <td>0</td>\n",
       "      <td>0.380</td>\n",
       "      <td>6</td>\n",
       "      <td>4.100</td>\n",
       "      <td>14</td>\n",
       "      <td>1.700</td>\n",
       "      <td>0.588</td>\n",
       "      <td>name</td>\n",
       "      <td>1</td>\n",
       "      <td>0</td>\n",
       "    </tr>\n",
       "    <tr>\n",
       "      <th>2</th>\n",
       "      <td>16</td>\n",
       "      <td>0</td>\n",
       "      <td>55</td>\n",
       "      <td>0</td>\n",
       "      <td>0.260</td>\n",
       "      <td>4</td>\n",
       "      <td>3.420</td>\n",
       "      <td>14</td>\n",
       "      <td>1</td>\n",
       "      <td>1</td>\n",
       "      <td>name</td>\n",
       "      <td>1</td>\n",
       "      <td>0</td>\n",
       "    </tr>\n",
       "    <tr>\n",
       "      <th>3</th>\n",
       "      <td>57</td>\n",
       "      <td>0</td>\n",
       "      <td>60</td>\n",
       "      <td>0</td>\n",
       "      <td>0.253</td>\n",
       "      <td>12.062</td>\n",
       "      <td>4.603</td>\n",
       "      <td>16</td>\n",
       "      <td>1.450</td>\n",
       "      <td>0.788</td>\n",
       "      <td>name</td>\n",
       "      <td>1</td>\n",
       "      <td>0</td>\n",
       "    </tr>\n",
       "    <tr>\n",
       "      <th>4</th>\n",
       "      <td>19</td>\n",
       "      <td>1</td>\n",
       "      <td>57</td>\n",
       "      <td>0</td>\n",
       "      <td>0.160</td>\n",
       "      <td>22</td>\n",
       "      <td>5.750</td>\n",
       "      <td>18</td>\n",
       "      <td>2.250</td>\n",
       "      <td>0.571</td>\n",
       "      <td>name</td>\n",
       "      <td>1</td>\n",
       "      <td>0</td>\n",
       "    </tr>\n",
       "  </tbody>\n",
       "</table>\n",
       "</div>"
      ],
      "text/plain": [
       "  Survival(in months)  Still Alive Age at heart attack  pericardial-effusion  \\\n",
       "0                  11            0                  71                     0   \n",
       "1                  19            0                  72                     0   \n",
       "2                  16            0                  55                     0   \n",
       "3                  57            0                  60                     0   \n",
       "4                  19            1                  57                     0   \n",
       "\n",
       "   fractional-shortening    epss   lvdd wall-motion-score wall-motion-index  \\\n",
       "0                  0.260       9  4.600                14                 1   \n",
       "1                  0.380       6  4.100                14             1.700   \n",
       "2                  0.260       4  3.420                14                 1   \n",
       "3                  0.253  12.062  4.603                16             1.450   \n",
       "4                  0.160      22  5.750                18             2.250   \n",
       "\n",
       "    mult  name group alive-at-1  \n",
       "0      1  name     1          0  \n",
       "1  0.588  name     1          0  \n",
       "2      1  name     1          0  \n",
       "3  0.788  name     1          0  \n",
       "4  0.571  name     1          0  "
      ]
     },
     "execution_count": 234,
     "metadata": {},
     "output_type": "execute_result"
    }
   ],
   "source": [
    "df.head(5)"
   ]
  },
  {
   "cell_type": "raw",
   "metadata": {},
   "source": [
    "Attribute Information:\n",
    "\n",
    "1. survival -- the number of months patient survived (has survived, if patient is still alive). Because all the patients had their heart attacks at different times, it is possible that some patients have survived less than one year but they are still alive. Check the second variable to confirm this. Such patients cannot be used for the prediction task mentioned above.\n",
    "2. still-alive -- a binary variable. 0=dead at end of survival period, 1 means still alive\n",
    "3. age-at-heart-attack -- age in years when heart attack occurred\n",
    "4. pericardial-effusion -- binary. Pericardial effusion is fluid around the heart. 0=no fluid, 1=fluid\n",
    "5. fractional-shortening -- a measure of contracility around the heart lower numbers are increasingly abnormal\n",
    "6. epss -- E-point septal separation, another measure of contractility. Larger numbers are increasingly abnormal.\n",
    "7. lvdd -- left ventricular end-diastolic dimension. This is a measure of the size of the heart at end-diastole. Large hearts tend to be sick hearts.\n",
    "8. wall-motion-score -- a measure of how the segments of the left ventricle are moving\n",
    "9. wall-motion-index -- equals wall-motion-score divided by number of segments seen. Usually 12-13 segments are seen in an echocardiogram. Use this variable INSTEAD of the wall motion score.\n",
    "10. mult -- a derivate var which can be ignored\n",
    "11. name -- the name of the patient (I have replaced them with \"name\")\n",
    "12. group -- meaningless, ignore it\n",
    "13. alive-at-1 -- Boolean-valued. Derived from the first two attributes. 0 means patient was either dead after 1 year or had been followed for less than 1 year. 1 means patient was alive at 1 year."
   ]
  },
  {
   "cell_type": "code",
   "execution_count": 186,
   "metadata": {},
   "outputs": [
    {
     "data": {
      "text/plain": [
       "(131, 13)"
      ]
     },
     "execution_count": 186,
     "metadata": {},
     "output_type": "execute_result"
    }
   ],
   "source": [
    "df.shape"
   ]
  },
  {
   "cell_type": "code",
   "execution_count": 187,
   "metadata": {},
   "outputs": [
    {
     "name": "stdout",
     "output_type": "stream",
     "text": [
      "<class 'pandas.core.frame.DataFrame'>\n",
      "RangeIndex: 131 entries, 0 to 130\n",
      "Data columns (total 13 columns):\n",
      " #   Column                  Non-Null Count  Dtype \n",
      "---  ------                  --------------  ----- \n",
      " 0   Survival(in months)     131 non-null    object\n",
      " 1   Still Alive             131 non-null    int64 \n",
      " 2   Age at heart attack     131 non-null    object\n",
      " 3   pericardial-effusion    131 non-null    int64 \n",
      " 4    fractional-shortening  131 non-null    object\n",
      " 5   epss                    131 non-null    object\n",
      " 6   lvdd                    131 non-null    object\n",
      " 7   wall-motion-score       131 non-null    object\n",
      " 8   wall-motion-index       131 non-null    object\n",
      " 9   mult                    131 non-null    object\n",
      " 10  name                    131 non-null    object\n",
      " 11  group                   131 non-null    object\n",
      " 12  alive-at-1              131 non-null    object\n",
      "dtypes: int64(2), object(11)\n",
      "memory usage: 13.4+ KB\n"
     ]
    }
   ],
   "source": [
    "df.info()"
   ]
  },
  {
   "cell_type": "code",
   "execution_count": 235,
   "metadata": {},
   "outputs": [
    {
     "data": {
      "text/plain": [
       "(131, 10)"
      ]
     },
     "execution_count": 235,
     "metadata": {},
     "output_type": "execute_result"
    }
   ],
   "source": [
    "# As mentioned we do not need these three columns\n",
    "df=df.drop([\"name\",\"group\",\"wall-motion-score\"], axis=1)\n",
    "df.shape"
   ]
  },
  {
   "cell_type": "code",
   "execution_count": 237,
   "metadata": {},
   "outputs": [
    {
     "data": {
      "text/plain": [
       "Index(['Survival(in months)', 'Still Alive', 'Age at heart attack',\n",
       "       'pericardial-effusion', ' fractional-shortening', 'epss', 'lvdd',\n",
       "       'wall-motion-index', 'mult', 'alive-at-1'],\n",
       "      dtype='object')"
      ]
     },
     "execution_count": 237,
     "metadata": {},
     "output_type": "execute_result"
    }
   ],
   "source": [
    "df.columns"
   ]
  },
  {
   "cell_type": "code",
   "execution_count": 238,
   "metadata": {},
   "outputs": [],
   "source": [
    "for i in df.columns.tolist():\n",
    "    df[i]=pd.to_numeric(df[i], errors='coerce')"
   ]
  },
  {
   "cell_type": "code",
   "execution_count": 239,
   "metadata": {},
   "outputs": [
    {
     "name": "stdout",
     "output_type": "stream",
     "text": [
      "<class 'pandas.core.frame.DataFrame'>\n",
      "RangeIndex: 131 entries, 0 to 130\n",
      "Data columns (total 10 columns):\n",
      " #   Column                  Non-Null Count  Dtype  \n",
      "---  ------                  --------------  -----  \n",
      " 0   Survival(in months)     130 non-null    float64\n",
      " 1   Still Alive             131 non-null    int64  \n",
      " 2   Age at heart attack     126 non-null    float64\n",
      " 3   pericardial-effusion    131 non-null    int64  \n",
      " 4    fractional-shortening  124 non-null    float64\n",
      " 5   epss                    117 non-null    float64\n",
      " 6   lvdd                    121 non-null    float64\n",
      " 7   wall-motion-index       130 non-null    float64\n",
      " 8   mult                    128 non-null    float64\n",
      " 9   alive-at-1              74 non-null     float64\n",
      "dtypes: float64(8), int64(2)\n",
      "memory usage: 10.4 KB\n"
     ]
    }
   ],
   "source": [
    "df.info()"
   ]
  },
  {
   "cell_type": "code",
   "execution_count": 240,
   "metadata": {},
   "outputs": [],
   "source": [
    "df.drop(df[df[\"Survival(in months)\"]<12].index, inplace = True)  #Point number 2 of the problem statement"
   ]
  },
  {
   "cell_type": "code",
   "execution_count": 241,
   "metadata": {},
   "outputs": [
    {
     "data": {
      "text/plain": [
       "(93, 10)"
      ]
     },
     "execution_count": 241,
     "metadata": {},
     "output_type": "execute_result"
    }
   ],
   "source": [
    "df.shape"
   ]
  },
  {
   "cell_type": "code",
   "execution_count": 242,
   "metadata": {},
   "outputs": [
    {
     "data": {
      "text/html": [
       "<div>\n",
       "<style scoped>\n",
       "    .dataframe tbody tr th:only-of-type {\n",
       "        vertical-align: middle;\n",
       "    }\n",
       "\n",
       "    .dataframe tbody tr th {\n",
       "        vertical-align: top;\n",
       "    }\n",
       "\n",
       "    .dataframe thead th {\n",
       "        text-align: right;\n",
       "    }\n",
       "</style>\n",
       "<table border=\"1\" class=\"dataframe\">\n",
       "  <thead>\n",
       "    <tr style=\"text-align: right;\">\n",
       "      <th></th>\n",
       "      <th>Survival(in months)</th>\n",
       "      <th>Still Alive</th>\n",
       "      <th>Age at heart attack</th>\n",
       "      <th>pericardial-effusion</th>\n",
       "      <th>fractional-shortening</th>\n",
       "      <th>epss</th>\n",
       "      <th>lvdd</th>\n",
       "      <th>wall-motion-index</th>\n",
       "      <th>mult</th>\n",
       "      <th>alive-at-1</th>\n",
       "    </tr>\n",
       "  </thead>\n",
       "  <tbody>\n",
       "    <tr>\n",
       "      <th>1</th>\n",
       "      <td>19.0</td>\n",
       "      <td>0</td>\n",
       "      <td>72.0</td>\n",
       "      <td>0</td>\n",
       "      <td>0.380</td>\n",
       "      <td>6.000</td>\n",
       "      <td>4.100</td>\n",
       "      <td>1.70</td>\n",
       "      <td>0.588</td>\n",
       "      <td>0.0</td>\n",
       "    </tr>\n",
       "    <tr>\n",
       "      <th>2</th>\n",
       "      <td>16.0</td>\n",
       "      <td>0</td>\n",
       "      <td>55.0</td>\n",
       "      <td>0</td>\n",
       "      <td>0.260</td>\n",
       "      <td>4.000</td>\n",
       "      <td>3.420</td>\n",
       "      <td>1.00</td>\n",
       "      <td>1.000</td>\n",
       "      <td>0.0</td>\n",
       "    </tr>\n",
       "    <tr>\n",
       "      <th>3</th>\n",
       "      <td>57.0</td>\n",
       "      <td>0</td>\n",
       "      <td>60.0</td>\n",
       "      <td>0</td>\n",
       "      <td>0.253</td>\n",
       "      <td>12.062</td>\n",
       "      <td>4.603</td>\n",
       "      <td>1.45</td>\n",
       "      <td>0.788</td>\n",
       "      <td>0.0</td>\n",
       "    </tr>\n",
       "    <tr>\n",
       "      <th>4</th>\n",
       "      <td>19.0</td>\n",
       "      <td>1</td>\n",
       "      <td>57.0</td>\n",
       "      <td>0</td>\n",
       "      <td>0.160</td>\n",
       "      <td>22.000</td>\n",
       "      <td>5.750</td>\n",
       "      <td>2.25</td>\n",
       "      <td>0.571</td>\n",
       "      <td>0.0</td>\n",
       "    </tr>\n",
       "    <tr>\n",
       "      <th>5</th>\n",
       "      <td>26.0</td>\n",
       "      <td>0</td>\n",
       "      <td>68.0</td>\n",
       "      <td>0</td>\n",
       "      <td>0.260</td>\n",
       "      <td>5.000</td>\n",
       "      <td>4.310</td>\n",
       "      <td>1.00</td>\n",
       "      <td>0.857</td>\n",
       "      <td>0.0</td>\n",
       "    </tr>\n",
       "  </tbody>\n",
       "</table>\n",
       "</div>"
      ],
      "text/plain": [
       "   Survival(in months)  Still Alive  Age at heart attack  \\\n",
       "1                 19.0            0                 72.0   \n",
       "2                 16.0            0                 55.0   \n",
       "3                 57.0            0                 60.0   \n",
       "4                 19.0            1                 57.0   \n",
       "5                 26.0            0                 68.0   \n",
       "\n",
       "   pericardial-effusion   fractional-shortening    epss   lvdd  \\\n",
       "1                     0                   0.380   6.000  4.100   \n",
       "2                     0                   0.260   4.000  3.420   \n",
       "3                     0                   0.253  12.062  4.603   \n",
       "4                     0                   0.160  22.000  5.750   \n",
       "5                     0                   0.260   5.000  4.310   \n",
       "\n",
       "   wall-motion-index   mult  alive-at-1  \n",
       "1               1.70  0.588         0.0  \n",
       "2               1.00  1.000         0.0  \n",
       "3               1.45  0.788         0.0  \n",
       "4               2.25  0.571         0.0  \n",
       "5               1.00  0.857         0.0  "
      ]
     },
     "execution_count": 242,
     "metadata": {},
     "output_type": "execute_result"
    }
   ],
   "source": [
    "df.head()"
   ]
  },
  {
   "cell_type": "code",
   "execution_count": 243,
   "metadata": {},
   "outputs": [
    {
     "data": {
      "text/html": [
       "<div>\n",
       "<style scoped>\n",
       "    .dataframe tbody tr th:only-of-type {\n",
       "        vertical-align: middle;\n",
       "    }\n",
       "\n",
       "    .dataframe tbody tr th {\n",
       "        vertical-align: top;\n",
       "    }\n",
       "\n",
       "    .dataframe thead th {\n",
       "        text-align: right;\n",
       "    }\n",
       "</style>\n",
       "<table border=\"1\" class=\"dataframe\">\n",
       "  <thead>\n",
       "    <tr style=\"text-align: right;\">\n",
       "      <th></th>\n",
       "      <th>count</th>\n",
       "      <th>mean</th>\n",
       "      <th>std</th>\n",
       "      <th>min</th>\n",
       "      <th>25%</th>\n",
       "      <th>50%</th>\n",
       "      <th>75%</th>\n",
       "      <th>max</th>\n",
       "    </tr>\n",
       "  </thead>\n",
       "  <tbody>\n",
       "    <tr>\n",
       "      <th>Survival(in months)</th>\n",
       "      <td>92.0</td>\n",
       "      <td>30.211957</td>\n",
       "      <td>11.351583</td>\n",
       "      <td>12.000</td>\n",
       "      <td>22.00</td>\n",
       "      <td>29.0000</td>\n",
       "      <td>36.250</td>\n",
       "      <td>57.00</td>\n",
       "    </tr>\n",
       "    <tr>\n",
       "      <th>Still Alive</th>\n",
       "      <td>93.0</td>\n",
       "      <td>0.096774</td>\n",
       "      <td>0.297252</td>\n",
       "      <td>0.000</td>\n",
       "      <td>0.00</td>\n",
       "      <td>0.0000</td>\n",
       "      <td>0.000</td>\n",
       "      <td>1.00</td>\n",
       "    </tr>\n",
       "    <tr>\n",
       "      <th>Age at heart attack</th>\n",
       "      <td>90.0</td>\n",
       "      <td>61.300000</td>\n",
       "      <td>7.944258</td>\n",
       "      <td>35.000</td>\n",
       "      <td>57.00</td>\n",
       "      <td>61.0000</td>\n",
       "      <td>65.000</td>\n",
       "      <td>81.00</td>\n",
       "    </tr>\n",
       "    <tr>\n",
       "      <th>pericardial-effusion</th>\n",
       "      <td>93.0</td>\n",
       "      <td>0.150538</td>\n",
       "      <td>0.359536</td>\n",
       "      <td>0.000</td>\n",
       "      <td>0.00</td>\n",
       "      <td>0.0000</td>\n",
       "      <td>0.000</td>\n",
       "      <td>1.00</td>\n",
       "    </tr>\n",
       "    <tr>\n",
       "      <th>fractional-shortening</th>\n",
       "      <td>90.0</td>\n",
       "      <td>0.230056</td>\n",
       "      <td>0.110800</td>\n",
       "      <td>0.030</td>\n",
       "      <td>0.15</td>\n",
       "      <td>0.2185</td>\n",
       "      <td>0.290</td>\n",
       "      <td>0.61</td>\n",
       "    </tr>\n",
       "    <tr>\n",
       "      <th>epss</th>\n",
       "      <td>85.0</td>\n",
       "      <td>10.973471</td>\n",
       "      <td>7.018651</td>\n",
       "      <td>0.000</td>\n",
       "      <td>6.00</td>\n",
       "      <td>9.4000</td>\n",
       "      <td>13.200</td>\n",
       "      <td>31.00</td>\n",
       "    </tr>\n",
       "    <tr>\n",
       "      <th>lvdd</th>\n",
       "      <td>89.0</td>\n",
       "      <td>4.633393</td>\n",
       "      <td>0.793993</td>\n",
       "      <td>2.320</td>\n",
       "      <td>4.16</td>\n",
       "      <td>4.5100</td>\n",
       "      <td>5.200</td>\n",
       "      <td>6.74</td>\n",
       "    </tr>\n",
       "    <tr>\n",
       "      <th>wall-motion-index</th>\n",
       "      <td>93.0</td>\n",
       "      <td>1.274247</td>\n",
       "      <td>0.349541</td>\n",
       "      <td>1.000</td>\n",
       "      <td>1.00</td>\n",
       "      <td>1.1400</td>\n",
       "      <td>1.409</td>\n",
       "      <td>2.39</td>\n",
       "    </tr>\n",
       "    <tr>\n",
       "      <th>mult</th>\n",
       "      <td>92.0</td>\n",
       "      <td>0.784793</td>\n",
       "      <td>0.196385</td>\n",
       "      <td>0.357</td>\n",
       "      <td>0.71</td>\n",
       "      <td>0.7860</td>\n",
       "      <td>0.857</td>\n",
       "      <td>2.00</td>\n",
       "    </tr>\n",
       "    <tr>\n",
       "      <th>alive-at-1</th>\n",
       "      <td>49.0</td>\n",
       "      <td>0.020408</td>\n",
       "      <td>0.142857</td>\n",
       "      <td>0.000</td>\n",
       "      <td>0.00</td>\n",
       "      <td>0.0000</td>\n",
       "      <td>0.000</td>\n",
       "      <td>1.00</td>\n",
       "    </tr>\n",
       "  </tbody>\n",
       "</table>\n",
       "</div>"
      ],
      "text/plain": [
       "                        count       mean        std     min    25%      50%  \\\n",
       "Survival(in months)      92.0  30.211957  11.351583  12.000  22.00  29.0000   \n",
       "Still Alive              93.0   0.096774   0.297252   0.000   0.00   0.0000   \n",
       "Age at heart attack      90.0  61.300000   7.944258  35.000  57.00  61.0000   \n",
       "pericardial-effusion     93.0   0.150538   0.359536   0.000   0.00   0.0000   \n",
       " fractional-shortening   90.0   0.230056   0.110800   0.030   0.15   0.2185   \n",
       "epss                     85.0  10.973471   7.018651   0.000   6.00   9.4000   \n",
       "lvdd                     89.0   4.633393   0.793993   2.320   4.16   4.5100   \n",
       "wall-motion-index        93.0   1.274247   0.349541   1.000   1.00   1.1400   \n",
       "mult                     92.0   0.784793   0.196385   0.357   0.71   0.7860   \n",
       "alive-at-1               49.0   0.020408   0.142857   0.000   0.00   0.0000   \n",
       "\n",
       "                           75%    max  \n",
       "Survival(in months)     36.250  57.00  \n",
       "Still Alive              0.000   1.00  \n",
       "Age at heart attack     65.000  81.00  \n",
       "pericardial-effusion     0.000   1.00  \n",
       " fractional-shortening   0.290   0.61  \n",
       "epss                    13.200  31.00  \n",
       "lvdd                     5.200   6.74  \n",
       "wall-motion-index        1.409   2.39  \n",
       "mult                     0.857   2.00  \n",
       "alive-at-1               0.000   1.00  "
      ]
     },
     "execution_count": 243,
     "metadata": {},
     "output_type": "execute_result"
    }
   ],
   "source": [
    "df.describe().transpose()"
   ]
  },
  {
   "cell_type": "markdown",
   "metadata": {},
   "source": [
    "## Feature Engineering"
   ]
  },
  {
   "cell_type": "markdown",
   "metadata": {},
   "source": [
    "### Checking for null values"
   ]
  },
  {
   "cell_type": "code",
   "execution_count": 244,
   "metadata": {},
   "outputs": [
    {
     "data": {
      "text/plain": [
       "Survival(in months)        1\n",
       "Still Alive                0\n",
       "Age at heart attack        3\n",
       "pericardial-effusion       0\n",
       " fractional-shortening     3\n",
       "epss                       8\n",
       "lvdd                       4\n",
       "wall-motion-index          0\n",
       "mult                       1\n",
       "alive-at-1                44\n",
       "dtype: int64"
      ]
     },
     "execution_count": 244,
     "metadata": {},
     "output_type": "execute_result"
    }
   ],
   "source": [
    "df.isnull().sum()"
   ]
  },
  {
   "cell_type": "markdown",
   "metadata": {},
   "source": [
    "#### 44/93=47.3%  records do not have any value for their  output feature "
   ]
  },
  {
   "cell_type": "markdown",
   "metadata": {},
   "source": [
    "##### We shall use the first two columns to predict the O/P here"
   ]
  },
  {
   "cell_type": "code",
   "execution_count": 245,
   "metadata": {},
   "outputs": [
    {
     "data": {
      "text/html": [
       "<div>\n",
       "<style scoped>\n",
       "    .dataframe tbody tr th:only-of-type {\n",
       "        vertical-align: middle;\n",
       "    }\n",
       "\n",
       "    .dataframe tbody tr th {\n",
       "        vertical-align: top;\n",
       "    }\n",
       "\n",
       "    .dataframe thead th {\n",
       "        text-align: right;\n",
       "    }\n",
       "</style>\n",
       "<table border=\"1\" class=\"dataframe\">\n",
       "  <thead>\n",
       "    <tr style=\"text-align: right;\">\n",
       "      <th></th>\n",
       "      <th>Survival(in months)</th>\n",
       "      <th>Still Alive</th>\n",
       "      <th>Age at heart attack</th>\n",
       "      <th>pericardial-effusion</th>\n",
       "      <th>fractional-shortening</th>\n",
       "      <th>epss</th>\n",
       "      <th>lvdd</th>\n",
       "      <th>wall-motion-index</th>\n",
       "      <th>mult</th>\n",
       "      <th>alive-at-1</th>\n",
       "    </tr>\n",
       "  </thead>\n",
       "  <tbody>\n",
       "    <tr>\n",
       "      <th>24</th>\n",
       "      <td>48.0</td>\n",
       "      <td>0</td>\n",
       "      <td>64.0</td>\n",
       "      <td>0</td>\n",
       "      <td>0.19</td>\n",
       "      <td>5.90</td>\n",
       "      <td>3.48</td>\n",
       "      <td>1.110</td>\n",
       "      <td>0.640</td>\n",
       "      <td>NaN</td>\n",
       "    </tr>\n",
       "    <tr>\n",
       "      <th>25</th>\n",
       "      <td>29.0</td>\n",
       "      <td>0</td>\n",
       "      <td>54.0</td>\n",
       "      <td>0</td>\n",
       "      <td>0.30</td>\n",
       "      <td>7.00</td>\n",
       "      <td>3.85</td>\n",
       "      <td>1.667</td>\n",
       "      <td>0.430</td>\n",
       "      <td>NaN</td>\n",
       "    </tr>\n",
       "    <tr>\n",
       "      <th>26</th>\n",
       "      <td>29.0</td>\n",
       "      <td>0</td>\n",
       "      <td>35.0</td>\n",
       "      <td>0</td>\n",
       "      <td>0.30</td>\n",
       "      <td>5.00</td>\n",
       "      <td>4.17</td>\n",
       "      <td>1.000</td>\n",
       "      <td>1.000</td>\n",
       "      <td>NaN</td>\n",
       "    </tr>\n",
       "    <tr>\n",
       "      <th>27</th>\n",
       "      <td>29.0</td>\n",
       "      <td>0</td>\n",
       "      <td>55.0</td>\n",
       "      <td>0</td>\n",
       "      <td>NaN</td>\n",
       "      <td>7.00</td>\n",
       "      <td>NaN</td>\n",
       "      <td>1.000</td>\n",
       "      <td>2.000</td>\n",
       "      <td>NaN</td>\n",
       "    </tr>\n",
       "    <tr>\n",
       "      <th>33</th>\n",
       "      <td>27.0</td>\n",
       "      <td>0</td>\n",
       "      <td>47.0</td>\n",
       "      <td>0</td>\n",
       "      <td>0.40</td>\n",
       "      <td>5.12</td>\n",
       "      <td>3.10</td>\n",
       "      <td>1.000</td>\n",
       "      <td>0.857</td>\n",
       "      <td>NaN</td>\n",
       "    </tr>\n",
       "  </tbody>\n",
       "</table>\n",
       "</div>"
      ],
      "text/plain": [
       "    Survival(in months)  Still Alive  Age at heart attack  \\\n",
       "24                 48.0            0                 64.0   \n",
       "25                 29.0            0                 54.0   \n",
       "26                 29.0            0                 35.0   \n",
       "27                 29.0            0                 55.0   \n",
       "33                 27.0            0                 47.0   \n",
       "\n",
       "    pericardial-effusion   fractional-shortening  epss  lvdd  \\\n",
       "24                     0                    0.19  5.90  3.48   \n",
       "25                     0                    0.30  7.00  3.85   \n",
       "26                     0                    0.30  5.00  4.17   \n",
       "27                     0                     NaN  7.00   NaN   \n",
       "33                     0                    0.40  5.12  3.10   \n",
       "\n",
       "    wall-motion-index   mult  alive-at-1  \n",
       "24              1.110  0.640         NaN  \n",
       "25              1.667  0.430         NaN  \n",
       "26              1.000  1.000         NaN  \n",
       "27              1.000  2.000         NaN  \n",
       "33              1.000  0.857         NaN  "
      ]
     },
     "execution_count": 245,
     "metadata": {},
     "output_type": "execute_result"
    }
   ],
   "source": [
    "df[df[\"alive-at-1\"].isnull()].head()"
   ]
  },
  {
   "cell_type": "code",
   "execution_count": 246,
   "metadata": {},
   "outputs": [],
   "source": [
    "indices=df[(df[\"Survival(in months)\"]>=12) & (df[\"Still Alive\"]==1)].index"
   ]
  },
  {
   "cell_type": "code",
   "execution_count": 247,
   "metadata": {},
   "outputs": [],
   "source": [
    "for i in indices.tolist():\n",
    "    df['alive-at-1'][i]=1"
   ]
  },
  {
   "cell_type": "code",
   "execution_count": 248,
   "metadata": {},
   "outputs": [],
   "source": [
    "indices=df[(df[\"Survival(in months)\"]>=12) & (df[\"Still Alive\"]==0)].index"
   ]
  },
  {
   "cell_type": "code",
   "execution_count": 249,
   "metadata": {},
   "outputs": [],
   "source": [
    "for i in indices.tolist():\n",
    "    df['alive-at-1'][i]=0"
   ]
  },
  {
   "cell_type": "markdown",
   "metadata": {},
   "source": [
    "### Checking whether the target class is balanced or not"
   ]
  },
  {
   "cell_type": "code",
   "execution_count": 250,
   "metadata": {},
   "outputs": [
    {
     "data": {
      "text/plain": [
       "0.0    84\n",
       "1.0     9\n",
       "Name: alive-at-1, dtype: int64"
      ]
     },
     "execution_count": 250,
     "metadata": {},
     "output_type": "execute_result"
    }
   ],
   "source": [
    "df[\"alive-at-1\"].value_counts()"
   ]
  },
  {
   "cell_type": "code",
   "execution_count": 251,
   "metadata": {},
   "outputs": [
    {
     "data": {
      "text/plain": [
       "[Text(0, 0, 'Dead or no followup'), Text(0, 0, 'Alive')]"
      ]
     },
     "execution_count": 251,
     "metadata": {},
     "output_type": "execute_result"
    },
    {
     "data": {
      "image/png": "[encoded data removed]",
      "text/plain": [
       "<Figure size 720x432 with 1 Axes>"
      ]
     },
     "metadata": {},
     "output_type": "display_data"
    }
   ],
   "source": [
    "plt.figure(figsize=(10,6))\n",
    "sns.set_style('whitegrid')\n",
    "plot=sns.countplot(x=\"alive-at-1\",data=df,palette=\"mako\")\n",
    "plot.set_xticklabels([\"Dead or no followup\",\"Alive\"])"
   ]
  },
  {
   "cell_type": "markdown",
   "metadata": {},
   "source": [
    "#### Seems to be very unblanced going ahead with Over Sampling Technique"
   ]
  },
  {
   "cell_type": "markdown",
   "metadata": {},
   "source": [
    "### Over Sampling"
   ]
  },
  {
   "cell_type": "code",
   "execution_count": 252,
   "metadata": {},
   "outputs": [],
   "source": [
    "X=df[['Survival(in months)',\n",
    " 'Still Alive',\n",
    " 'Age at heart attack',\n",
    " 'pericardial-effusion',\n",
    " ' fractional-shortening',\n",
    " 'epss',\n",
    " 'lvdd',\n",
    " 'wall-motion-index',\n",
    " 'mult']]\n",
    "Y=df['alive-at-1']"
   ]
  },
  {
   "cell_type": "code",
   "execution_count": 253,
   "metadata": {},
   "outputs": [
    {
     "name": "stdout",
     "output_type": "stream",
     "text": [
      "(93, 9)\n",
      "(93,)\n"
     ]
    }
   ],
   "source": [
    "print(X.shape)\n",
    "print(Y.shape)"
   ]
  },
  {
   "cell_type": "code",
   "execution_count": 254,
   "metadata": {},
   "outputs": [],
   "source": [
    "## RandomOverSampler to handle imbalanced data\n",
    "from imblearn.over_sampling import RandomOverSampler\n",
    "from collections import Counter"
   ]
  },
  {
   "cell_type": "code",
   "execution_count": 255,
   "metadata": {},
   "outputs": [],
   "source": [
    "os =RandomOverSampler(sampling_strategy=0.8)\n",
    "# Ratio factor of 1 means since 0 has 50 and 1 has 24 , it find the class with majority count and since the ratio factor is 0.8 it means it will find the total 80%  of the majority class here 84 and will decide the amount of points to be added to other class to make it totally balance from 9 to 67"
   ]
  },
  {
   "cell_type": "code",
   "execution_count": 256,
   "metadata": {},
   "outputs": [],
   "source": [
    "X_train_res, y_train_res = os.fit_resample(X, Y)"
   ]
  },
  {
   "cell_type": "code",
   "execution_count": 263,
   "metadata": {},
   "outputs": [
    {
     "data": {
      "text/plain": [
       "((151, 10), (151,))"
      ]
     },
     "execution_count": 263,
     "metadata": {},
     "output_type": "execute_result"
    }
   ],
   "source": [
    "X_train_res.shape,y_train_res.shape  # Original 93 points of dataset + new 58 points"
   ]
  },
  {
   "cell_type": "code",
   "execution_count": 258,
   "metadata": {},
   "outputs": [
    {
     "name": "stdout",
     "output_type": "stream",
     "text": [
      "Original dataset shape Counter({0.0: 84, 1.0: 9})\n",
      "Resampled dataset shape Counter({0.0: 84, 1.0: 67})\n"
     ]
    }
   ],
   "source": [
    "print('Original dataset shape {}'.format(Counter(Y)))\n",
    "print('Resampled dataset shape {}'.format(Counter(y_train_res)))"
   ]
  },
  {
   "cell_type": "code",
   "execution_count": 259,
   "metadata": {},
   "outputs": [],
   "source": [
    "df=X_train_res\n",
    "df['alive-at-1']=y_train_res"
   ]
  },
  {
   "cell_type": "code",
   "execution_count": 260,
   "metadata": {},
   "outputs": [
    {
     "data": {
      "text/html": [
       "<div>\n",
       "<style scoped>\n",
       "    .dataframe tbody tr th:only-of-type {\n",
       "        vertical-align: middle;\n",
       "    }\n",
       "\n",
       "    .dataframe tbody tr th {\n",
       "        vertical-align: top;\n",
       "    }\n",
       "\n",
       "    .dataframe thead th {\n",
       "        text-align: right;\n",
       "    }\n",
       "</style>\n",
       "<table border=\"1\" class=\"dataframe\">\n",
       "  <thead>\n",
       "    <tr style=\"text-align: right;\">\n",
       "      <th></th>\n",
       "      <th>Survival(in months)</th>\n",
       "      <th>Still Alive</th>\n",
       "      <th>Age at heart attack</th>\n",
       "      <th>pericardial-effusion</th>\n",
       "      <th>fractional-shortening</th>\n",
       "      <th>epss</th>\n",
       "      <th>lvdd</th>\n",
       "      <th>wall-motion-index</th>\n",
       "      <th>mult</th>\n",
       "      <th>alive-at-1</th>\n",
       "    </tr>\n",
       "  </thead>\n",
       "  <tbody>\n",
       "    <tr>\n",
       "      <th>0</th>\n",
       "      <td>19.0</td>\n",
       "      <td>0</td>\n",
       "      <td>72.0</td>\n",
       "      <td>0</td>\n",
       "      <td>0.380</td>\n",
       "      <td>6.000</td>\n",
       "      <td>4.100</td>\n",
       "      <td>1.70</td>\n",
       "      <td>0.588</td>\n",
       "      <td>0.0</td>\n",
       "    </tr>\n",
       "    <tr>\n",
       "      <th>1</th>\n",
       "      <td>16.0</td>\n",
       "      <td>0</td>\n",
       "      <td>55.0</td>\n",
       "      <td>0</td>\n",
       "      <td>0.260</td>\n",
       "      <td>4.000</td>\n",
       "      <td>3.420</td>\n",
       "      <td>1.00</td>\n",
       "      <td>1.000</td>\n",
       "      <td>0.0</td>\n",
       "    </tr>\n",
       "    <tr>\n",
       "      <th>2</th>\n",
       "      <td>57.0</td>\n",
       "      <td>0</td>\n",
       "      <td>60.0</td>\n",
       "      <td>0</td>\n",
       "      <td>0.253</td>\n",
       "      <td>12.062</td>\n",
       "      <td>4.603</td>\n",
       "      <td>1.45</td>\n",
       "      <td>0.788</td>\n",
       "      <td>0.0</td>\n",
       "    </tr>\n",
       "    <tr>\n",
       "      <th>3</th>\n",
       "      <td>19.0</td>\n",
       "      <td>1</td>\n",
       "      <td>57.0</td>\n",
       "      <td>0</td>\n",
       "      <td>0.160</td>\n",
       "      <td>22.000</td>\n",
       "      <td>5.750</td>\n",
       "      <td>2.25</td>\n",
       "      <td>0.571</td>\n",
       "      <td>1.0</td>\n",
       "    </tr>\n",
       "    <tr>\n",
       "      <th>4</th>\n",
       "      <td>26.0</td>\n",
       "      <td>0</td>\n",
       "      <td>68.0</td>\n",
       "      <td>0</td>\n",
       "      <td>0.260</td>\n",
       "      <td>5.000</td>\n",
       "      <td>4.310</td>\n",
       "      <td>1.00</td>\n",
       "      <td>0.857</td>\n",
       "      <td>0.0</td>\n",
       "    </tr>\n",
       "  </tbody>\n",
       "</table>\n",
       "</div>"
      ],
      "text/plain": [
       "   Survival(in months)  Still Alive  Age at heart attack  \\\n",
       "0                 19.0            0                 72.0   \n",
       "1                 16.0            0                 55.0   \n",
       "2                 57.0            0                 60.0   \n",
       "3                 19.0            1                 57.0   \n",
       "4                 26.0            0                 68.0   \n",
       "\n",
       "   pericardial-effusion   fractional-shortening    epss   lvdd  \\\n",
       "0                     0                   0.380   6.000  4.100   \n",
       "1                     0                   0.260   4.000  3.420   \n",
       "2                     0                   0.253  12.062  4.603   \n",
       "3                     0                   0.160  22.000  5.750   \n",
       "4                     0                   0.260   5.000  4.310   \n",
       "\n",
       "   wall-motion-index   mult  alive-at-1  \n",
       "0               1.70  0.588         0.0  \n",
       "1               1.00  1.000         0.0  \n",
       "2               1.45  0.788         0.0  \n",
       "3               2.25  0.571         1.0  \n",
       "4               1.00  0.857         0.0  "
      ]
     },
     "execution_count": 260,
     "metadata": {},
     "output_type": "execute_result"
    }
   ],
   "source": [
    "df.head()"
   ]
  },
  {
   "cell_type": "code",
   "execution_count": 261,
   "metadata": {},
   "outputs": [
    {
     "data": {
      "text/plain": [
       "[Text(0, 0, 'Dead or no followup'), Text(0, 0, 'Alive')]"
      ]
     },
     "execution_count": 261,
     "metadata": {},
     "output_type": "execute_result"
    },
    {
     "data": {
      "image/png": "[encoded data removed]",
      "text/plain": [
       "<Figure size 720x432 with 1 Axes>"
      ]
     },
     "metadata": {},
     "output_type": "display_data"
    }
   ],
   "source": [
    "plt.figure(figsize=(10,6))\n",
    "sns.set_style('whitegrid')\n",
    "plot=sns.countplot(x=\"alive-at-1\",data=df,palette=\"mako\")\n",
    "plot.set_xticklabels([\"Dead or no followup\",\"Alive\"])"
   ]
  },
  {
   "cell_type": "markdown",
   "metadata": {},
   "source": [
    "## Performing EDA using Panda Profiling"
   ]
  },
  {
   "cell_type": "code",
   "execution_count": 262,
   "metadata": {},
   "outputs": [
    {
     "data": {
      "application/vnd.jupyter.widget-view+json": {
       "model_id": "eb30b33efd4c4c6da15ac54fa4525464",
       "version_major": 2,
       "version_minor": 0
      },
      "text/plain": [
       "HBox(children=(FloatProgress(value=0.0, description='Summarize dataset', max=24.0, style=ProgressStyle(descrip…"
      ]
     },
     "metadata": {},
     "output_type": "display_data"
    },
    {
     "name": "stdout",
     "output_type": "stream",
     "text": [
      "\n"
     ]
    },
    {
     "data": {
      "application/vnd.jupyter.widget-view+json": {
       "model_id": "7288a0dc5ec94c01a04a586d2a00422b",
       "version_major": 2,
       "version_minor": 0
      },
      "text/plain": [
       "HBox(children=(FloatProgress(value=0.0, description='Generate report structure', max=1.0, style=ProgressStyle(…"
      ]
     },
     "metadata": {},
     "output_type": "display_data"
    },
    {
     "name": "stdout",
     "output_type": "stream",
     "text": [
      "\n"
     ]
    },
    {
     "data": {
      "application/vnd.jupyter.widget-view+json": {
       "model_id": "",
       "version_major": 2,
       "version_minor": 0
      },
      "text/plain": [
       "HBox(children=(FloatProgress(value=0.0, description='Render widgets', max=1.0, style=ProgressStyle(description…"
      ]
     },
     "metadata": {},
     "output_type": "display_data"
    },
    {
     "data": {
      "application/vnd.jupyter.widget-view+json": {
       "model_id": "ea2cbb6a23874462b248792f32f4921b",
       "version_major": 2,
       "version_minor": 0
      },
      "text/plain": [
       "VBox(children=(Tab(children=(Tab(children=(GridBox(children=(VBox(children=(GridspecLayout(children=(HTML(valu…"
      ]
     },
     "metadata": {},
     "output_type": "display_data"
    }
   ],
   "source": [
    "prof_report = pandas_profiling.ProfileReport(df , title = 'Echocardiogram Results')\n",
    "prof_report.to_widgets()"
   ]
  },
  {
   "cell_type": "markdown",
   "metadata": {},
   "source": [
    "## Feature Selection"
   ]
  },
  {
   "cell_type": "code",
   "execution_count": 274,
   "metadata": {},
   "outputs": [
    {
     "data": {
      "text/plain": [
       "Index(['Survival(in months)', 'Still Alive', 'Age at heart attack',\n",
       "       'pericardial-effusion', ' fractional-shortening', 'epss', 'lvdd',\n",
       "       'wall-motion-index', 'mult', 'alive-at-1'],\n",
       "      dtype='object')"
      ]
     },
     "execution_count": 274,
     "metadata": {},
     "output_type": "execute_result"
    }
   ],
   "source": [
    "df.columns"
   ]
  },
  {
   "cell_type": "code",
   "execution_count": 279,
   "metadata": {},
   "outputs": [
    {
     "data": {
      "text/plain": [
       "<matplotlib.axes._subplots.AxesSubplot at 0x15d8373a760>"
      ]
     },
     "execution_count": 279,
     "metadata": {},
     "output_type": "execute_result"
    },
    {
     "data": {
      "image/png": "[encoded data removed]",
      "text/plain": [
       "<Figure size 720x576 with 2 Axes>"
      ]
     },
     "metadata": {},
     "output_type": "display_data"
    }
   ],
   "source": [
    "plt.figure(figsize=(10,8))\n",
    "sns.heatmap(df[['Age at heart attack',\n",
    "       'pericardial-effusion', ' fractional-shortening', 'epss', 'lvdd',\n",
    "       'wall-motion-index', 'mult', 'alive-at-1']].corr(),annot=True,cmap=\"YlGnBu\")"
   ]
  },
  {
   "cell_type": "markdown",
   "metadata": {},
   "source": [
    "#### using Karl Pearson Correlation and Spearman's Rank correlation (From Panda's Profiling) we see that \n",
    "#### Age, fractional-shortening, epss, lvdd,wall-motion-index are the continuous features that affect the O/P"
   ]
  },
  {
   "cell_type": "markdown",
   "metadata": {},
   "source": [
    "#### Using Filter method ( X-Square technique) - For the  categorical attribute"
   ]
  },
  {
   "cell_type": "code",
   "execution_count": 282,
   "metadata": {},
   "outputs": [],
   "source": [
    "from sklearn.feature_selection import SelectKBest\n",
    "from sklearn.feature_selection import chi2\n",
    "\n",
    "X = df[['pericardial-effusion']]  #independent column\n",
    "y = df['alive-at-1']    #target column"
   ]
  },
  {
   "cell_type": "code",
   "execution_count": 283,
   "metadata": {},
   "outputs": [],
   "source": [
    "#apply SelectKBest class to extract top 10 best features\n",
    "bestfeatures = SelectKBest(score_func=chi2, k=1)\n",
    "fit = bestfeatures.fit(X,y)"
   ]
  },
  {
   "cell_type": "raw",
   "metadata": {},
   "source": [
    "Null hypothesis: Assumes that there is no association between the two variables.\n",
    "\n",
    "Alternative hypothesis: Assumes that there is an association between the two variables.\n",
    "\n",
    "\n",
    "p<0.05 Reject Ho"
   ]
  },
  {
   "cell_type": "code",
   "execution_count": 284,
   "metadata": {},
   "outputs": [],
   "source": [
    "dfscores = pd.DataFrame(fit.scores_)\n",
    "dfpvalues=pd.DataFrame(fit.pvalues_)\n",
    "dfcolumns = pd.DataFrame(X.columns)"
   ]
  },
  {
   "cell_type": "code",
   "execution_count": 285,
   "metadata": {},
   "outputs": [],
   "source": [
    "#concat two dataframes for better visualization \n",
    "featureScores = pd.concat([dfcolumns,dfscores,dfpvalues],axis=1)\n",
    "featureScores.columns = ['Specs','Score',\"P-Values\"]  #naming the dataframe columns"
   ]
  },
  {
   "cell_type": "code",
   "execution_count": 286,
   "metadata": {
    "scrolled": true
   },
   "outputs": [
    {
     "data": {
      "text/html": [
       "<div>\n",
       "<style scoped>\n",
       "    .dataframe tbody tr th:only-of-type {\n",
       "        vertical-align: middle;\n",
       "    }\n",
       "\n",
       "    .dataframe tbody tr th {\n",
       "        vertical-align: top;\n",
       "    }\n",
       "\n",
       "    .dataframe thead th {\n",
       "        text-align: right;\n",
       "    }\n",
       "</style>\n",
       "<table border=\"1\" class=\"dataframe\">\n",
       "  <thead>\n",
       "    <tr style=\"text-align: right;\">\n",
       "      <th></th>\n",
       "      <th>Specs</th>\n",
       "      <th>Score</th>\n",
       "      <th>P-Values</th>\n",
       "    </tr>\n",
       "  </thead>\n",
       "  <tbody>\n",
       "    <tr>\n",
       "      <th>0</th>\n",
       "      <td>pericardial-effusion</td>\n",
       "      <td>0.945711</td>\n",
       "      <td>0.330813</td>\n",
       "    </tr>\n",
       "  </tbody>\n",
       "</table>\n",
       "</div>"
      ],
      "text/plain": [
       "                  Specs     Score  P-Values\n",
       "0  pericardial-effusion  0.945711  0.330813"
      ]
     },
     "execution_count": 286,
     "metadata": {},
     "output_type": "execute_result"
    }
   ],
   "source": [
    "featureScores"
   ]
  },
  {
   "cell_type": "markdown",
   "metadata": {},
   "source": [
    "#### Since p-vaue > 0.05 we fail to Reject H0 at 95% significance level, Hence pericardial-effusion is associated with the O/P"
   ]
  },
  {
   "cell_type": "code",
   "execution_count": 288,
   "metadata": {},
   "outputs": [
    {
     "data": {
      "text/plain": [
       "Index(['Survival(in months)', 'Still Alive', 'Age at heart attack',\n",
       "       'pericardial-effusion', ' fractional-shortening', 'epss', 'lvdd',\n",
       "       'wall-motion-index', 'mult', 'alive-at-1'],\n",
       "      dtype='object')"
      ]
     },
     "execution_count": 288,
     "metadata": {},
     "output_type": "execute_result"
    }
   ],
   "source": [
    "df.columns"
   ]
  },
  {
   "cell_type": "code",
   "execution_count": 289,
   "metadata": {},
   "outputs": [],
   "source": [
    "x = df[['Age at heart attack',\n",
    "       'pericardial-effusion', ' fractional-shortening', 'epss', 'lvdd',\n",
    "       'wall-motion-index']]"
   ]
  },
  {
   "cell_type": "code",
   "execution_count": 290,
   "metadata": {},
   "outputs": [],
   "source": [
    "y=df['alive-at-1']"
   ]
  },
  {
   "cell_type": "code",
   "execution_count": 291,
   "metadata": {},
   "outputs": [
    {
     "data": {
      "text/html": [
       "<div>\n",
       "<style scoped>\n",
       "    .dataframe tbody tr th:only-of-type {\n",
       "        vertical-align: middle;\n",
       "    }\n",
       "\n",
       "    .dataframe tbody tr th {\n",
       "        vertical-align: top;\n",
       "    }\n",
       "\n",
       "    .dataframe thead th {\n",
       "        text-align: right;\n",
       "    }\n",
       "</style>\n",
       "<table border=\"1\" class=\"dataframe\">\n",
       "  <thead>\n",
       "    <tr style=\"text-align: right;\">\n",
       "      <th></th>\n",
       "      <th>Survival(in months)</th>\n",
       "      <th>Still Alive</th>\n",
       "      <th>Age at heart attack</th>\n",
       "      <th>pericardial-effusion</th>\n",
       "      <th>fractional-shortening</th>\n",
       "      <th>epss</th>\n",
       "      <th>lvdd</th>\n",
       "      <th>wall-motion-index</th>\n",
       "      <th>mult</th>\n",
       "      <th>alive-at-1</th>\n",
       "    </tr>\n",
       "  </thead>\n",
       "  <tbody>\n",
       "    <tr>\n",
       "      <th>0</th>\n",
       "      <td>19.0</td>\n",
       "      <td>0</td>\n",
       "      <td>72.0</td>\n",
       "      <td>0</td>\n",
       "      <td>0.380</td>\n",
       "      <td>6.000</td>\n",
       "      <td>4.100</td>\n",
       "      <td>1.70</td>\n",
       "      <td>0.588</td>\n",
       "      <td>0.0</td>\n",
       "    </tr>\n",
       "    <tr>\n",
       "      <th>1</th>\n",
       "      <td>16.0</td>\n",
       "      <td>0</td>\n",
       "      <td>55.0</td>\n",
       "      <td>0</td>\n",
       "      <td>0.260</td>\n",
       "      <td>4.000</td>\n",
       "      <td>3.420</td>\n",
       "      <td>1.00</td>\n",
       "      <td>1.000</td>\n",
       "      <td>0.0</td>\n",
       "    </tr>\n",
       "    <tr>\n",
       "      <th>2</th>\n",
       "      <td>57.0</td>\n",
       "      <td>0</td>\n",
       "      <td>60.0</td>\n",
       "      <td>0</td>\n",
       "      <td>0.253</td>\n",
       "      <td>12.062</td>\n",
       "      <td>4.603</td>\n",
       "      <td>1.45</td>\n",
       "      <td>0.788</td>\n",
       "      <td>0.0</td>\n",
       "    </tr>\n",
       "    <tr>\n",
       "      <th>3</th>\n",
       "      <td>19.0</td>\n",
       "      <td>1</td>\n",
       "      <td>57.0</td>\n",
       "      <td>0</td>\n",
       "      <td>0.160</td>\n",
       "      <td>22.000</td>\n",
       "      <td>5.750</td>\n",
       "      <td>2.25</td>\n",
       "      <td>0.571</td>\n",
       "      <td>1.0</td>\n",
       "    </tr>\n",
       "    <tr>\n",
       "      <th>4</th>\n",
       "      <td>26.0</td>\n",
       "      <td>0</td>\n",
       "      <td>68.0</td>\n",
       "      <td>0</td>\n",
       "      <td>0.260</td>\n",
       "      <td>5.000</td>\n",
       "      <td>4.310</td>\n",
       "      <td>1.00</td>\n",
       "      <td>0.857</td>\n",
       "      <td>0.0</td>\n",
       "    </tr>\n",
       "  </tbody>\n",
       "</table>\n",
       "</div>"
      ],
      "text/plain": [
       "   Survival(in months)  Still Alive  Age at heart attack  \\\n",
       "0                 19.0            0                 72.0   \n",
       "1                 16.0            0                 55.0   \n",
       "2                 57.0            0                 60.0   \n",
       "3                 19.0            1                 57.0   \n",
       "4                 26.0            0                 68.0   \n",
       "\n",
       "   pericardial-effusion   fractional-shortening    epss   lvdd  \\\n",
       "0                     0                   0.380   6.000  4.100   \n",
       "1                     0                   0.260   4.000  3.420   \n",
       "2                     0                   0.253  12.062  4.603   \n",
       "3                     0                   0.160  22.000  5.750   \n",
       "4                     0                   0.260   5.000  4.310   \n",
       "\n",
       "   wall-motion-index   mult  alive-at-1  \n",
       "0               1.70  0.588         0.0  \n",
       "1               1.00  1.000         0.0  \n",
       "2               1.45  0.788         0.0  \n",
       "3               2.25  0.571         1.0  \n",
       "4               1.00  0.857         0.0  "
      ]
     },
     "execution_count": 291,
     "metadata": {},
     "output_type": "execute_result"
    }
   ],
   "source": [
    "df.head()"
   ]
  },
  {
   "cell_type": "markdown",
   "metadata": {},
   "source": [
    "## Model Selection"
   ]
  },
  {
   "cell_type": "markdown",
   "metadata": {},
   "source": [
    "Here we will be experimenting with 3 algorithms \n",
    "1. KNeighborsClassifier\n",
    "2. DecisionTreeClassifier\n",
    "3. RandomForestClassifier\n",
    "4. XG Boost Classifier\n",
    "5. SVM Classifier\n",
    "6. Logistic Regression\n",
    "7. Artificial Neural Network"
   ]
  },
  {
   "cell_type": "code",
   "execution_count": 423,
   "metadata": {},
   "outputs": [],
   "source": [
    "from sklearn.model_selection import train_test_split"
   ]
  },
  {
   "cell_type": "code",
   "execution_count": 424,
   "metadata": {},
   "outputs": [],
   "source": [
    "x_train, x_test, y_train, y_test = train_test_split(x, y, random_state=101)"
   ]
  },
  {
   "cell_type": "code",
   "execution_count": 425,
   "metadata": {},
   "outputs": [],
   "source": [
    "mean_age=x_train[\"Age at heart attack\"].mean()\n",
    "\n",
    "x_train[\"Age at heart attack\"]=x_train[\"Age at heart attack\"].fillna(value=mean_age)\n",
    "x_test[\"Age at heart attack\"]=x_test[\"Age at heart attack\"].fillna(value=mean_age)"
   ]
  },
  {
   "cell_type": "code",
   "execution_count": 426,
   "metadata": {},
   "outputs": [],
   "source": [
    "mean_fracshorten=x_train[' fractional-shortening'].mean()\n",
    "\n",
    "x_train[' fractional-shortening']=x_train[' fractional-shortening'].fillna(value=mean_fracshorten)\n",
    "x_test[' fractional-shortening']=x_test[' fractional-shortening'].fillna(value=mean_fracshorten)"
   ]
  },
  {
   "cell_type": "code",
   "execution_count": 427,
   "metadata": {},
   "outputs": [],
   "source": [
    "mean_epss=x_train['epss'].mean()\n",
    "\n",
    "x_train['epss']=x_train['epss'].fillna(value=mean_epss)\n",
    "x_test['epss']=x_test['epss'].fillna(value=mean_epss)"
   ]
  },
  {
   "cell_type": "code",
   "execution_count": 428,
   "metadata": {},
   "outputs": [],
   "source": [
    "mean_lvdd=x_train['lvdd'].mean()\n",
    "\n",
    "x_train['lvdd']=x_train['lvdd'].fillna(value=mean_lvdd)\n",
    "x_test['lvdd']=x_test['lvdd'].fillna(value=mean_lvdd)"
   ]
  },
  {
   "cell_type": "code",
   "execution_count": 429,
   "metadata": {},
   "outputs": [
    {
     "data": {
      "text/plain": [
       "Age at heart attack       0\n",
       "pericardial-effusion      0\n",
       " fractional-shortening    0\n",
       "epss                      0\n",
       "lvdd                      0\n",
       "wall-motion-index         0\n",
       "dtype: int64"
      ]
     },
     "execution_count": 429,
     "metadata": {},
     "output_type": "execute_result"
    }
   ],
   "source": [
    "x_train.isnull().sum()"
   ]
  },
  {
   "cell_type": "markdown",
   "metadata": {},
   "source": [
    "### K Neighbors Classifier"
   ]
  },
  {
   "cell_type": "code",
   "execution_count": 292,
   "metadata": {},
   "outputs": [],
   "source": [
    "\n",
    "from sklearn.neighbors import KNeighborsClassifier\n",
    "from sklearn.model_selection import cross_val_score\n",
    "from sklearn.preprocessing import StandardScaler\n",
    "from sklearn.metrics import classification_report,confusion_matrix\n",
    "from sklearn import metrics"
   ]
  },
  {
   "cell_type": "code",
   "execution_count": 329,
   "metadata": {},
   "outputs": [],
   "source": [
    "standardScaler = StandardScaler()\n",
    "columns_to_scale = ['Age at heart attack','epss', 'lvdd','wall-motion-index']\n",
    "x_train[columns_to_scale] = standardScaler.fit_transform(x_train[columns_to_scale])\n",
    "x_train.head()\n",
    "x_test[columns_to_scale] = standardScaler.transform(x_test[columns_to_scale])"
   ]
  },
  {
   "cell_type": "code",
   "execution_count": 330,
   "metadata": {},
   "outputs": [
    {
     "data": {
      "text/html": [
       "<div>\n",
       "<style scoped>\n",
       "    .dataframe tbody tr th:only-of-type {\n",
       "        vertical-align: middle;\n",
       "    }\n",
       "\n",
       "    .dataframe tbody tr th {\n",
       "        vertical-align: top;\n",
       "    }\n",
       "\n",
       "    .dataframe thead th {\n",
       "        text-align: right;\n",
       "    }\n",
       "</style>\n",
       "<table border=\"1\" class=\"dataframe\">\n",
       "  <thead>\n",
       "    <tr style=\"text-align: right;\">\n",
       "      <th></th>\n",
       "      <th>Age at heart attack</th>\n",
       "      <th>pericardial-effusion</th>\n",
       "      <th>fractional-shortening</th>\n",
       "      <th>epss</th>\n",
       "      <th>lvdd</th>\n",
       "      <th>wall-motion-index</th>\n",
       "    </tr>\n",
       "  </thead>\n",
       "  <tbody>\n",
       "    <tr>\n",
       "      <th>53</th>\n",
       "      <td>-0.132592</td>\n",
       "      <td>0</td>\n",
       "      <td>0.250000</td>\n",
       "      <td>-9.561612e-01</td>\n",
       "      <td>-0.466643</td>\n",
       "      <td>-0.838248</td>\n",
       "    </tr>\n",
       "    <tr>\n",
       "      <th>123</th>\n",
       "      <td>0.856833</td>\n",
       "      <td>1</td>\n",
       "      <td>0.160000</td>\n",
       "      <td>8.295964e-01</td>\n",
       "      <td>0.527736</td>\n",
       "      <td>-0.838248</td>\n",
       "    </tr>\n",
       "    <tr>\n",
       "      <th>41</th>\n",
       "      <td>0.856833</td>\n",
       "      <td>1</td>\n",
       "      <td>0.250000</td>\n",
       "      <td>-4.556080e-01</td>\n",
       "      <td>0.940984</td>\n",
       "      <td>-0.588038</td>\n",
       "    </tr>\n",
       "    <tr>\n",
       "      <th>21</th>\n",
       "      <td>-0.256270</td>\n",
       "      <td>0</td>\n",
       "      <td>0.610000</td>\n",
       "      <td>4.359917e-03</td>\n",
       "      <td>-0.996117</td>\n",
       "      <td>0.725565</td>\n",
       "    </tr>\n",
       "    <tr>\n",
       "      <th>22</th>\n",
       "      <td>-0.008914</td>\n",
       "      <td>1</td>\n",
       "      <td>0.203255</td>\n",
       "      <td>-4.806277e-16</td>\n",
       "      <td>0.605220</td>\n",
       "      <td>-0.838248</td>\n",
       "    </tr>\n",
       "  </tbody>\n",
       "</table>\n",
       "</div>"
      ],
      "text/plain": [
       "     Age at heart attack  pericardial-effusion   fractional-shortening  \\\n",
       "53             -0.132592                     0                0.250000   \n",
       "123             0.856833                     1                0.160000   \n",
       "41              0.856833                     1                0.250000   \n",
       "21             -0.256270                     0                0.610000   \n",
       "22             -0.008914                     1                0.203255   \n",
       "\n",
       "             epss      lvdd  wall-motion-index  \n",
       "53  -9.561612e-01 -0.466643          -0.838248  \n",
       "123  8.295964e-01  0.527736          -0.838248  \n",
       "41  -4.556080e-01  0.940984          -0.588038  \n",
       "21   4.359917e-03 -0.996117           0.725565  \n",
       "22  -4.806277e-16  0.605220          -0.838248  "
      ]
     },
     "execution_count": 330,
     "metadata": {},
     "output_type": "execute_result"
    }
   ],
   "source": [
    "x_train.head()"
   ]
  },
  {
   "cell_type": "markdown",
   "metadata": {},
   "source": [
    "#### Filling the missing values for the required features in the original dataset just for cross validation and not for any predictive purpose"
   ]
  },
  {
   "cell_type": "code",
   "execution_count": null,
   "metadata": {},
   "outputs": [],
   "source": [
    "mean_age=df[\"Age at heart attack\"].mean()\n",
    "df[\"Age at heart attack\"]=df[\"Age at heart attack\"].fillna(value=mean_age)\n",
    "\n",
    "mean_fracshorten=df[' fractional-shortening'].mean()\n",
    "df[' fractional-shortening']=df[' fractional-shortening'].fillna(value=mean_fracshorten)\n",
    "\n",
    "mean_epss=df['epss'].mean()\n",
    "df['epss']=df['epss'].fillna(value=mean_epss)\n",
    "\n",
    "mean_lvdd=df['lvdd'].mean()\n",
    "df['lvdd']=df['lvdd'].fillna(value=mean_lvdd)"
   ]
  },
  {
   "cell_type": "code",
   "execution_count": null,
   "metadata": {},
   "outputs": [],
   "source": [
    "x_train.isnull().sum()"
   ]
  },
  {
   "cell_type": "code",
   "execution_count": 331,
   "metadata": {},
   "outputs": [],
   "source": [
    "knn_scores = []\n",
    "for k in range(1,20):\n",
    "    knn_classifier = KNeighborsClassifier(n_neighbors = k)\n",
    "    score=cross_val_score(knn_classifier,x,y,cv=10)\n",
    "    knn_scores.append(score.mean())"
   ]
  },
  {
   "cell_type": "code",
   "execution_count": 333,
   "metadata": {},
   "outputs": [
    {
     "data": {
      "text/plain": [
       "[0.9015151515151514,\n",
       " 0.9106060606060605,\n",
       " 0.831060606060606,\n",
       " 0.7946969696969697,\n",
       " 0.7075757575757576,\n",
       " 0.7871212121212121,\n",
       " 0.7606060606060606,\n",
       " 0.7696969696969698,\n",
       " 0.7431818181818183,\n",
       " 0.7166666666666667,\n",
       " 0.6704545454545456,\n",
       " 0.5636363636363635,\n",
       " 0.5636363636363636,\n",
       " 0.6439393939393939,\n",
       " 0.6537878787878789,\n",
       " 0.6810606060606061,\n",
       " 0.662878787878788,\n",
       " 0.6886363636363637,\n",
       " 0.6803030303030304]"
      ]
     },
     "execution_count": 333,
     "metadata": {},
     "output_type": "execute_result"
    }
   ],
   "source": [
    "knn_scores"
   ]
  },
  {
   "cell_type": "code",
   "execution_count": 332,
   "metadata": {},
   "outputs": [],
   "source": [
    "error_rate = []\n",
    "\n",
    "# Will take some time\n",
    "for i in range(1,20):\n",
    "    \n",
    "    knn = KNeighborsClassifier(n_neighbors=i)\n",
    "    knn.fit(x_train,y_train)\n",
    "    pred_i = knn.predict(x_test)\n",
    "    error_rate.append(np.mean(pred_i != y_test))"
   ]
  },
  {
   "cell_type": "code",
   "execution_count": 334,
   "metadata": {},
   "outputs": [
    {
     "data": {
      "text/plain": [
       "[0.05263157894736842,\n",
       " 0.05263157894736842,\n",
       " 0.15789473684210525,\n",
       " 0.15789473684210525,\n",
       " 0.18421052631578946,\n",
       " 0.18421052631578946,\n",
       " 0.18421052631578946,\n",
       " 0.23684210526315788,\n",
       " 0.2894736842105263,\n",
       " 0.2894736842105263,\n",
       " 0.2631578947368421,\n",
       " 0.2631578947368421,\n",
       " 0.2631578947368421,\n",
       " 0.39473684210526316,\n",
       " 0.42105263157894735,\n",
       " 0.34210526315789475,\n",
       " 0.3684210526315789,\n",
       " 0.3684210526315789,\n",
       " 0.39473684210526316]"
      ]
     },
     "execution_count": 334,
     "metadata": {},
     "output_type": "execute_result"
    }
   ],
   "source": [
    "error_rate"
   ]
  },
  {
   "cell_type": "markdown",
   "metadata": {},
   "source": [
    "#### k=2 could be an ideal choice as it gives less error rate and more accuracy"
   ]
  },
  {
   "cell_type": "code",
   "execution_count": 338,
   "metadata": {},
   "outputs": [
    {
     "data": {
      "text/plain": [
       "0.9473684210526315"
      ]
     },
     "execution_count": 338,
     "metadata": {},
     "output_type": "execute_result"
    }
   ],
   "source": [
    "knnclassifier = KNeighborsClassifier(n_neighbors=2)\n",
    "knnclassifier.fit(x_train,y_train)\n",
    "predictions = knnclassifier.predict(x_test)\n",
    "metrics.accuracy_score(y_test,predictions)"
   ]
  },
  {
   "cell_type": "code",
   "execution_count": 339,
   "metadata": {},
   "outputs": [
    {
     "name": "stdout",
     "output_type": "stream",
     "text": [
      "[[18  2]\n",
      " [ 0 18]]\n"
     ]
    }
   ],
   "source": [
    "print(confusion_matrix(y_test,predictions))"
   ]
  },
  {
   "cell_type": "code",
   "execution_count": 340,
   "metadata": {},
   "outputs": [
    {
     "name": "stdout",
     "output_type": "stream",
     "text": [
      "              precision    recall  f1-score   support\n",
      "\n",
      "         0.0       1.00      0.90      0.95        20\n",
      "         1.0       0.90      1.00      0.95        18\n",
      "\n",
      "    accuracy                           0.95        38\n",
      "   macro avg       0.95      0.95      0.95        38\n",
      "weighted avg       0.95      0.95      0.95        38\n",
      "\n"
     ]
    }
   ],
   "source": [
    "print(classification_report(y_test,predictions))"
   ]
  },
  {
   "cell_type": "markdown",
   "metadata": {},
   "source": [
    "### Decision Tree"
   ]
  },
  {
   "cell_type": "code",
   "execution_count": 341,
   "metadata": {},
   "outputs": [],
   "source": [
    "from sklearn.tree import DecisionTreeClassifier"
   ]
  },
  {
   "cell_type": "code",
   "execution_count": null,
   "metadata": {},
   "outputs": [],
   "source": [
    "#Run the split cell again "
   ]
  },
  {
   "cell_type": "code",
   "execution_count": 350,
   "metadata": {},
   "outputs": [
    {
     "data": {
      "text/plain": [
       "DecisionTreeClassifier(random_state=101)"
      ]
     },
     "execution_count": 350,
     "metadata": {},
     "output_type": "execute_result"
    }
   ],
   "source": [
    "#No need for standardization for this algorithm\n",
    "\n",
    "clf = DecisionTreeClassifier(random_state=101)\n",
    "clf.fit(x_train,y_train)"
   ]
  },
  {
   "cell_type": "code",
   "execution_count": 351,
   "metadata": {},
   "outputs": [
    {
     "data": {
      "text/plain": [
       "0.9210526315789473"
      ]
     },
     "execution_count": 351,
     "metadata": {},
     "output_type": "execute_result"
    }
   ],
   "source": [
    "pred=clf.predict(x_test)\n",
    "from sklearn.metrics import accuracy_score\n",
    "accuracy_score(y_test, pred)"
   ]
  },
  {
   "cell_type": "code",
   "execution_count": 352,
   "metadata": {},
   "outputs": [],
   "source": [
    "path = clf.cost_complexity_pruning_path(x, y_train)\n",
    "ccp_alphas, impurities = path.ccp_alphas, path.impurities"
   ]
  },
  {
   "cell_type": "code",
   "execution_count": 354,
   "metadata": {},
   "outputs": [
    {
     "name": "stdout",
     "output_type": "stream",
     "text": [
      "Number of nodes in the last tree is: 1 with ccp_alpha: 0.13592784482750492\n"
     ]
    }
   ],
   "source": [
    "clfs = []\n",
    "for ccp_alpha in ccp_alphas:\n",
    "    clf = DecisionTreeClassifier(random_state=0, ccp_alpha=ccp_alpha)\n",
    "    clf.fit(x_train, y_train)\n",
    "    clfs.append(clf)\n",
    "print(\"Number of nodes in the last tree is: {} with ccp_alpha: {}\".format(\n",
    "      clfs[-1].tree_.node_count, ccp_alphas[-1]))"
   ]
  },
  {
   "cell_type": "code",
   "execution_count": 356,
   "metadata": {},
   "outputs": [
    {
     "data": {
      "image/png": "[encoded data removed]",
      "text/plain": [
       "<Figure size 432x288 with 1 Axes>"
      ]
     },
     "metadata": {},
     "output_type": "display_data"
    }
   ],
   "source": [
    "train_scores = [clf.score(x_train, y_train) for clf in clfs]\n",
    "test_scores = [clf.score(x_test, y_test) for clf in clfs]\n",
    "\n",
    "fig, ax = plt.subplots()\n",
    "ax.set_xlabel(\"alpha\")\n",
    "ax.set_ylabel(\"accuracy\")\n",
    "ax.set_title(\"Accuracy vs alpha for training and testing sets\")\n",
    "ax.plot(ccp_alphas, train_scores, marker='o', label=\"train\",\n",
    "        drawstyle=\"steps-post\")\n",
    "ax.plot(ccp_alphas, test_scores, marker='o', label=\"test\",\n",
    "        drawstyle=\"steps-post\")\n",
    "ax.legend()\n",
    "plt.show()"
   ]
  },
  {
   "cell_type": "code",
   "execution_count": 366,
   "metadata": {},
   "outputs": [
    {
     "data": {
      "text/plain": [
       "DecisionTreeClassifier(ccp_alpha=0.02, random_state=0)"
      ]
     },
     "execution_count": 366,
     "metadata": {},
     "output_type": "execute_result"
    }
   ],
   "source": [
    "clf = DecisionTreeClassifier(random_state=0, ccp_alpha=0.02)\n",
    "clf.fit(x_train,y_train)"
   ]
  },
  {
   "cell_type": "code",
   "execution_count": 367,
   "metadata": {},
   "outputs": [
    {
     "data": {
      "text/plain": [
       "0.8947368421052632"
      ]
     },
     "execution_count": 367,
     "metadata": {},
     "output_type": "execute_result"
    }
   ],
   "source": [
    "pred=clf.predict(x_test)\n",
    "from sklearn.metrics import accuracy_score\n",
    "accuracy_score(y_test, pred)"
   ]
  },
  {
   "cell_type": "code",
   "execution_count": 368,
   "metadata": {},
   "outputs": [
    {
     "name": "stdout",
     "output_type": "stream",
     "text": [
      "[[16  4]\n",
      " [ 0 18]]\n"
     ]
    }
   ],
   "source": [
    "print(confusion_matrix(y_test,pred))"
   ]
  },
  {
   "cell_type": "code",
   "execution_count": 369,
   "metadata": {},
   "outputs": [
    {
     "name": "stdout",
     "output_type": "stream",
     "text": [
      "              precision    recall  f1-score   support\n",
      "\n",
      "         0.0       1.00      0.80      0.89        20\n",
      "         1.0       0.82      1.00      0.90        18\n",
      "\n",
      "    accuracy                           0.89        38\n",
      "   macro avg       0.91      0.90      0.89        38\n",
      "weighted avg       0.91      0.89      0.89        38\n",
      "\n"
     ]
    }
   ],
   "source": [
    "print(classification_report(y_test,pred))"
   ]
  },
  {
   "cell_type": "markdown",
   "metadata": {},
   "source": [
    "### RandomForestClassifier"
   ]
  },
  {
   "cell_type": "code",
   "execution_count": 370,
   "metadata": {},
   "outputs": [],
   "source": [
    "from sklearn.ensemble import RandomForestClassifier\n",
    "#Run the split cell again "
   ]
  },
  {
   "cell_type": "code",
   "execution_count": 381,
   "metadata": {},
   "outputs": [
    {
     "data": {
      "text/plain": [
       "Index(['Age at heart attack', 'pericardial-effusion', ' fractional-shortening',\n",
       "       'epss', 'lvdd', 'wall-motion-index'],\n",
       "      dtype='object')"
      ]
     },
     "execution_count": 381,
     "metadata": {},
     "output_type": "execute_result"
    }
   ],
   "source": [
    "x_train.columns"
   ]
  },
  {
   "cell_type": "code",
   "execution_count": 382,
   "metadata": {},
   "outputs": [],
   "source": [
    "from sklearn.model_selection import RandomizedSearchCV\n",
    "from scipy.stats import randint\n",
    "\n",
    "est = RandomForestClassifier(n_jobs=-1)     #Utilizes all the cores of the CPU\n",
    "rf_p_dist={'max_depth':[3,5,10,None],    #None means till full depth\n",
    "              'n_estimators':[10,100,200,300,400,500],   # Number of Decision Trees\n",
    "              'max_features':randint(1,7),   # AS I have 6 features\n",
    "               'criterion':['gini','entropy'],\n",
    "               'bootstrap':[True,False],\n",
    "               'min_samples_leaf':randint(1,4),\n",
    "              }"
   ]
  },
  {
   "cell_type": "code",
   "execution_count": 383,
   "metadata": {},
   "outputs": [],
   "source": [
    "def hypertuning_rscv(est, p_distr, nbr_iter,X,y):   #p_distr is the different set of parameters\n",
    "    rdmsearch = RandomizedSearchCV(est, param_distributions=p_distr,\n",
    "                                  n_jobs=-1, n_iter=nbr_iter, cv=9)\n",
    "    rdmsearch.fit(X,y)\n",
    "    ht_params = rdmsearch.best_params_\n",
    "    ht_score = rdmsearch.best_score_\n",
    "    return ht_params, ht_score"
   ]
  },
  {
   "cell_type": "code",
   "execution_count": 387,
   "metadata": {},
   "outputs": [],
   "source": [
    "rf_parameters, rf_ht_score = hypertuning_rscv(est, rf_p_dist, 6, x, y)"
   ]
  },
  {
   "cell_type": "code",
   "execution_count": 395,
   "metadata": {},
   "outputs": [],
   "source": [
    "classifier=RandomForestClassifier(n_jobs=-1, n_estimators=100,bootstrap= False,criterion='gini',max_depth=None,max_features=3,min_samples_leaf= 1)"
   ]
  },
  {
   "cell_type": "code",
   "execution_count": 396,
   "metadata": {},
   "outputs": [
    {
     "data": {
      "text/plain": [
       "RandomForestClassifier(bootstrap=False, max_features=3, n_jobs=-1)"
      ]
     },
     "execution_count": 396,
     "metadata": {},
     "output_type": "execute_result"
    }
   ],
   "source": [
    "classifier.fit(x_train, y_train)"
   ]
  },
  {
   "cell_type": "code",
   "execution_count": 397,
   "metadata": {},
   "outputs": [
    {
     "name": "stdout",
     "output_type": "stream",
     "text": [
      "[[18  2]\n",
      " [ 0 18]]\n",
      "0.9473684210526315\n"
     ]
    }
   ],
   "source": [
    "# Predicting the Test set results\n",
    "y_pred = classifier.predict(x_test)\n",
    "\n",
    "# Making the Confusion Matrix\n",
    "from sklearn.metrics import confusion_matrix,accuracy_score\n",
    "cm = confusion_matrix(y_test, y_pred)\n",
    "\n",
    "accuracy_score=accuracy_score(y_test,y_pred)\n",
    "print(cm)\n",
    "print(accuracy_score)"
   ]
  },
  {
   "cell_type": "code",
   "execution_count": 398,
   "metadata": {},
   "outputs": [
    {
     "name": "stdout",
     "output_type": "stream",
     "text": [
      "              precision    recall  f1-score   support\n",
      "\n",
      "         0.0       1.00      0.90      0.95        20\n",
      "         1.0       0.90      1.00      0.95        18\n",
      "\n",
      "    accuracy                           0.95        38\n",
      "   macro avg       0.95      0.95      0.95        38\n",
      "weighted avg       0.95      0.95      0.95        38\n",
      "\n"
     ]
    }
   ],
   "source": [
    "print(classification_report(y_test,y_pred))"
   ]
  },
  {
   "cell_type": "markdown",
   "metadata": {},
   "source": [
    "### XG Boost"
   ]
  },
  {
   "cell_type": "code",
   "execution_count": 399,
   "metadata": {},
   "outputs": [],
   "source": [
    "from sklearn.model_selection import RandomizedSearchCV, GridSearchCV\n",
    "import xgboost"
   ]
  },
  {
   "cell_type": "code",
   "execution_count": 400,
   "metadata": {},
   "outputs": [],
   "source": [
    "classifier=xgboost.XGBClassifier()"
   ]
  },
  {
   "cell_type": "code",
   "execution_count": 401,
   "metadata": {},
   "outputs": [],
   "source": [
    "## Hyper Parameter Optimization\n",
    "\n",
    "params={\n",
    " \"learning_rate\"    : [0.05, 0.10, 0.15, 0.20, 0.25, 0.30 ] ,\n",
    " \"max_depth\"        : [ 3, 4, 5, 6, 8, 10, 12, 15],\n",
    " \"min_child_weight\" : [ 1, 3, 5, 7 ],\n",
    " \"gamma\"            : [ 0.0, 0.1, 0.2 , 0.3, 0.4 ],\n",
    " \"colsample_bytree\" : [ 0.3, 0.4, 0.5 , 0.7 ]\n",
    "    \n",
    "}"
   ]
  },
  {
   "cell_type": "code",
   "execution_count": 409,
   "metadata": {},
   "outputs": [],
   "source": [
    "random_search=RandomizedSearchCV(classifier,param_distributions=params,n_iter=5,scoring='roc_auc',n_jobs=-1,cv=5,verbose=3)"
   ]
  },
  {
   "cell_type": "code",
   "execution_count": 338,
   "metadata": {},
   "outputs": [],
   "source": [
    "#Run the data split cell"
   ]
  },
  {
   "cell_type": "code",
   "execution_count": 419,
   "metadata": {},
   "outputs": [
    {
     "name": "stdout",
     "output_type": "stream",
     "text": [
      "Fitting 5 folds for each of 5 candidates, totalling 25 fits\n",
      "[11:33:56] WARNING: C:/Users/Administrator/workspace/xgboost-win64_release_1.4.0/src/learner.cc:1095: Starting in XGBoost 1.3.0, the default evaluation metric used with the objective 'binary:logistic' was changed from 'error' to 'logloss'. Explicitly set eval_metric if you'd like to restore the old behavior.\n"
     ]
    },
    {
     "data": {
      "text/plain": [
       "RandomizedSearchCV(cv=5,\n",
       "                   estimator=XGBClassifier(base_score=0.5, booster='gbtree',\n",
       "                                           colsample_bylevel=1,\n",
       "                                           colsample_bynode=1,\n",
       "                                           colsample_bytree=0.3, gamma=0.0,\n",
       "                                           gpu_id=None, importance_type='gain',\n",
       "                                           interaction_constraints=None,\n",
       "                                           learning_rate=0.2, max_delta_step=0,\n",
       "                                           max_depth=3, min_child_weight=7,\n",
       "                                           missing=None,\n",
       "                                           monotone_constraints=None,\n",
       "                                           n_estimators=100, n_jobs=1,\n",
       "                                           nthre...\n",
       "                                           reg_lambda=1, scale_pos_weight=1,\n",
       "                                           seed=None, silent=None, subsample=1,\n",
       "                                           tree_method=None,\n",
       "                                           validate_parameters=None,\n",
       "                                           verbosity=1),\n",
       "                   n_iter=5, n_jobs=-1,\n",
       "                   param_distributions={'colsample_bytree': [0.3, 0.4, 0.5,\n",
       "                                                             0.7],\n",
       "                                        'gamma': [0.0, 0.1, 0.2, 0.3, 0.4],\n",
       "                                        'learning_rate': [0.05, 0.1, 0.15, 0.2,\n",
       "                                                          0.25, 0.3],\n",
       "                                        'max_depth': [3, 4, 5, 6, 8, 10, 12,\n",
       "                                                      15],\n",
       "                                        'min_child_weight': [1, 3, 5, 7]},\n",
       "                   scoring='roc_auc', verbose=3)"
      ]
     },
     "execution_count": 419,
     "metadata": {},
     "output_type": "execute_result"
    }
   ],
   "source": [
    "random_search.fit(x_train,y_train)"
   ]
  },
  {
   "cell_type": "code",
   "execution_count": 420,
   "metadata": {},
   "outputs": [],
   "source": [
    "classifier=xgboost.XGBClassifier(max_depth=3,subsample=1,n_estimators=100,learning_rate=0.2,min_child_weight=7, random_state=0,reg_alpha=0, reg_lambda=1)"
   ]
  },
  {
   "cell_type": "code",
   "execution_count": 421,
   "metadata": {},
   "outputs": [
    {
     "name": "stdout",
     "output_type": "stream",
     "text": [
      "[11:34:52] WARNING: C:/Users/Administrator/workspace/xgboost-win64_release_1.4.0/src/learner.cc:1095: Starting in XGBoost 1.3.0, the default evaluation metric used with the objective 'binary:logistic' was changed from 'error' to 'logloss'. Explicitly set eval_metric if you'd like to restore the old behavior.\n"
     ]
    },
    {
     "data": {
      "text/plain": [
       "XGBClassifier(base_score=0.5, booster='gbtree', colsample_bylevel=1,\n",
       "              colsample_bynode=1, colsample_bytree=1, gamma=0, gpu_id=-1,\n",
       "              importance_type='gain', interaction_constraints='',\n",
       "              learning_rate=0.2, max_delta_step=0, max_depth=3,\n",
       "              min_child_weight=7, missing=nan, monotone_constraints='()',\n",
       "              n_estimators=100, n_jobs=2, num_parallel_tree=1, random_state=0,\n",
       "              reg_alpha=0, reg_lambda=1, scale_pos_weight=1, subsample=1,\n",
       "              tree_method='exact', validate_parameters=1, verbosity=None)"
      ]
     },
     "execution_count": 421,
     "metadata": {},
     "output_type": "execute_result"
    }
   ],
   "source": [
    "classifier.fit(x_train, y_train)"
   ]
  },
  {
   "cell_type": "code",
   "execution_count": 422,
   "metadata": {},
   "outputs": [
    {
     "name": "stdout",
     "output_type": "stream",
     "text": [
      "[[14  6]\n",
      " [ 0 18]]\n",
      "0.8421052631578947\n"
     ]
    }
   ],
   "source": [
    "# Predicting the Test set results\n",
    "y_pred = classifier.predict(x_test)\n",
    "\n",
    "# Making the Confusion Matrix\n",
    "from sklearn.metrics import confusion_matrix,accuracy_score\n",
    "cm = confusion_matrix(y_test, y_pred)\n",
    "\n",
    "accuracy_score=accuracy_score(y_test,y_pred)\n",
    "print(cm)\n",
    "print(accuracy_score)"
   ]
  },
  {
   "cell_type": "code",
   "execution_count": 416,
   "metadata": {},
   "outputs": [
    {
     "name": "stdout",
     "output_type": "stream",
     "text": [
      "              precision    recall  f1-score   support\n",
      "\n",
      "         0.0       0.85      0.85      0.85        20\n",
      "         1.0       0.83      0.83      0.83        18\n",
      "\n",
      "    accuracy                           0.84        38\n",
      "   macro avg       0.84      0.84      0.84        38\n",
      "weighted avg       0.84      0.84      0.84        38\n",
      "\n"
     ]
    }
   ],
   "source": [
    "print(classification_report(y_test,y_pred))"
   ]
  },
  {
   "cell_type": "markdown",
   "metadata": {},
   "source": [
    "## FINAL MODEL SELECTED- KNN Algorithm"
   ]
  },
  {
   "cell_type": "code",
   "execution_count": 430,
   "metadata": {},
   "outputs": [
    {
     "name": "stdout",
     "output_type": "stream",
     "text": [
      "[[19  1]\n",
      " [ 0 18]]\n",
      "              precision    recall  f1-score   support\n",
      "\n",
      "         0.0       1.00      0.95      0.97        20\n",
      "         1.0       0.95      1.00      0.97        18\n",
      "\n",
      "    accuracy                           0.97        38\n",
      "   macro avg       0.97      0.97      0.97        38\n",
      "weighted avg       0.98      0.97      0.97        38\n",
      "\n"
     ]
    }
   ],
   "source": [
    "knnclassifier = KNeighborsClassifier(n_neighbors=2)\n",
    "knnclassifier.fit(x_train,y_train)\n",
    "predictions = knnclassifier.predict(x_test)\n",
    "metrics.accuracy_score(y_test,predictions)\n",
    "print(confusion_matrix(y_test,predictions))\n",
    "print(classification_report(y_test,predictions))"
   ]
  },
  {
   "cell_type": "code",
   "execution_count": null,
   "metadata": {},
   "outputs": [],
   "source": []
  }
 ],
 "metadata": {
  "kernelspec": {
   "display_name": "Python 3",
   "language": "python",
   "name": "python3"
  },
  "language_info": {
   "codemirror_mode": {
    "name": "ipython",
    "version": 3
   },
   "file_extension": ".py",
   "mimetype": "text/x-python",
   "name": "python",
   "nbconvert_exporter": "python",
   "pygments_lexer": "ipython3",
   "version": "3.8.3"
  }
 },
 "nbformat": 4,
 "nbformat_minor": 4
}
