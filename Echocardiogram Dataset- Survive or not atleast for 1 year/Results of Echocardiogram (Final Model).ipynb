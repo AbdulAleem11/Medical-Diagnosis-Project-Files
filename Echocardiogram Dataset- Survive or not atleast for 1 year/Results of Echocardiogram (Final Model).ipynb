{
 "cells": [
  {
   "cell_type": "code",
   "execution_count": 1,
   "metadata": {},
   "outputs": [],
   "source": [
    "import numpy as np\n",
    "import pandas as pd\n",
    "import matplotlib.pyplot as plt\n",
    "%matplotlib inline\n",
    "import seaborn as sns\n",
    "import warnings\n",
    "import pandas_profiling\n",
    "warnings.filterwarnings('ignore')\n",
    "\n",
    "import pickle"
   ]
  },
  {
   "cell_type": "markdown",
   "metadata": {},
   "source": [
    "## Problem Statement\n",
    "All the patients suffered heart attacks at some point in the past. Some are still alive and some are not. The survival and still-alive variables, when taken together, indicate whether a patient survived for at least one year following the heart attack.\n",
    "\n",
    "The problem addressed by past researchers was to predict from the other variables whether or not the patient will survive at least one year. The most difficult part of this problem is correctly predicting that the patient will NOT survive. (Part of the difficulty seems to be the size of the data set.)"
   ]
  },
  {
   "cell_type": "code",
   "execution_count": 2,
   "metadata": {},
   "outputs": [
    {
     "name": "stderr",
     "output_type": "stream",
     "text": [
      "b'Skipping line 50: expected 13 fields, saw 14\\n'\n"
     ]
    },
    {
     "data": {
      "text/html": [
       "<div>\n",
       "<style scoped>\n",
       "    .dataframe tbody tr th:only-of-type {\n",
       "        vertical-align: middle;\n",
       "    }\n",
       "\n",
       "    .dataframe tbody tr th {\n",
       "        vertical-align: top;\n",
       "    }\n",
       "\n",
       "    .dataframe thead th {\n",
       "        text-align: right;\n",
       "    }\n",
       "</style>\n",
       "<table border=\"1\" class=\"dataframe\">\n",
       "  <thead>\n",
       "    <tr style=\"text-align: right;\">\n",
       "      <th></th>\n",
       "      <th>0</th>\n",
       "      <th>1</th>\n",
       "      <th>2</th>\n",
       "      <th>3</th>\n",
       "      <th>4</th>\n",
       "      <th>5</th>\n",
       "      <th>6</th>\n",
       "      <th>7</th>\n",
       "      <th>8</th>\n",
       "      <th>9</th>\n",
       "      <th>10</th>\n",
       "      <th>11</th>\n",
       "      <th>12</th>\n",
       "    </tr>\n",
       "  </thead>\n",
       "  <tbody>\n",
       "    <tr>\n",
       "      <th>0</th>\n",
       "      <td>11</td>\n",
       "      <td>0</td>\n",
       "      <td>71</td>\n",
       "      <td>0</td>\n",
       "      <td>0.260</td>\n",
       "      <td>9</td>\n",
       "      <td>4.600</td>\n",
       "      <td>14</td>\n",
       "      <td>1</td>\n",
       "      <td>1</td>\n",
       "      <td>name</td>\n",
       "      <td>1</td>\n",
       "      <td>0</td>\n",
       "    </tr>\n",
       "    <tr>\n",
       "      <th>1</th>\n",
       "      <td>19</td>\n",
       "      <td>0</td>\n",
       "      <td>72</td>\n",
       "      <td>0</td>\n",
       "      <td>0.380</td>\n",
       "      <td>6</td>\n",
       "      <td>4.100</td>\n",
       "      <td>14</td>\n",
       "      <td>1.700</td>\n",
       "      <td>0.588</td>\n",
       "      <td>name</td>\n",
       "      <td>1</td>\n",
       "      <td>0</td>\n",
       "    </tr>\n",
       "    <tr>\n",
       "      <th>2</th>\n",
       "      <td>16</td>\n",
       "      <td>0</td>\n",
       "      <td>55</td>\n",
       "      <td>0</td>\n",
       "      <td>0.260</td>\n",
       "      <td>4</td>\n",
       "      <td>3.420</td>\n",
       "      <td>14</td>\n",
       "      <td>1</td>\n",
       "      <td>1</td>\n",
       "      <td>name</td>\n",
       "      <td>1</td>\n",
       "      <td>0</td>\n",
       "    </tr>\n",
       "    <tr>\n",
       "      <th>3</th>\n",
       "      <td>57</td>\n",
       "      <td>0</td>\n",
       "      <td>60</td>\n",
       "      <td>0</td>\n",
       "      <td>0.253</td>\n",
       "      <td>12.062</td>\n",
       "      <td>4.603</td>\n",
       "      <td>16</td>\n",
       "      <td>1.450</td>\n",
       "      <td>0.788</td>\n",
       "      <td>name</td>\n",
       "      <td>1</td>\n",
       "      <td>0</td>\n",
       "    </tr>\n",
       "    <tr>\n",
       "      <th>4</th>\n",
       "      <td>19</td>\n",
       "      <td>1</td>\n",
       "      <td>57</td>\n",
       "      <td>0</td>\n",
       "      <td>0.160</td>\n",
       "      <td>22</td>\n",
       "      <td>5.750</td>\n",
       "      <td>18</td>\n",
       "      <td>2.250</td>\n",
       "      <td>0.571</td>\n",
       "      <td>name</td>\n",
       "      <td>1</td>\n",
       "      <td>0</td>\n",
       "    </tr>\n",
       "  </tbody>\n",
       "</table>\n",
       "</div>"
      ],
      "text/plain": [
       "   0   1   2   3      4       5      6   7      8      9     10 11 12\n",
       "0  11   0  71   0  0.260       9  4.600  14      1      1  name  1  0\n",
       "1  19   0  72   0  0.380       6  4.100  14  1.700  0.588  name  1  0\n",
       "2  16   0  55   0  0.260       4  3.420  14      1      1  name  1  0\n",
       "3  57   0  60   0  0.253  12.062  4.603  16  1.450  0.788  name  1  0\n",
       "4  19   1  57   0  0.160      22  5.750  18  2.250  0.571  name  1  0"
      ]
     },
     "execution_count": 2,
     "metadata": {},
     "output_type": "execute_result"
    }
   ],
   "source": [
    "df = pd.read_csv(\"Echocardiogram.data\", error_bad_lines=False,header=None,sep=\",\")\n",
    "df.head()"
   ]
  },
  {
   "cell_type": "code",
   "execution_count": 3,
   "metadata": {},
   "outputs": [
    {
     "data": {
      "text/plain": [
       "Int64Index([0, 1, 2, 3, 4, 5, 6, 7, 8, 9, 10, 11, 12], dtype='int64')"
      ]
     },
     "execution_count": 3,
     "metadata": {},
     "output_type": "execute_result"
    }
   ],
   "source": [
    "df.columns"
   ]
  },
  {
   "cell_type": "code",
   "execution_count": 4,
   "metadata": {},
   "outputs": [],
   "source": [
    "df=df.rename(columns={0: \"Survival(in months)\", 1: \"Still Alive\",2: \"Age at heart attack\",3: \"pericardial-effusion\",4: \" fractional-shortening\",5: \"epss\",6: \"lvdd\",7: \"wall-motion-score\",8: \"wall-motion-index\",9: \"mult\",10: \"name\",11: \"group\",12: \"alive-at-1\"})"
   ]
  },
  {
   "cell_type": "code",
   "execution_count": 5,
   "metadata": {},
   "outputs": [
    {
     "data": {
      "text/html": [
       "<div>\n",
       "<style scoped>\n",
       "    .dataframe tbody tr th:only-of-type {\n",
       "        vertical-align: middle;\n",
       "    }\n",
       "\n",
       "    .dataframe tbody tr th {\n",
       "        vertical-align: top;\n",
       "    }\n",
       "\n",
       "    .dataframe thead th {\n",
       "        text-align: right;\n",
       "    }\n",
       "</style>\n",
       "<table border=\"1\" class=\"dataframe\">\n",
       "  <thead>\n",
       "    <tr style=\"text-align: right;\">\n",
       "      <th></th>\n",
       "      <th>Survival(in months)</th>\n",
       "      <th>Still Alive</th>\n",
       "      <th>Age at heart attack</th>\n",
       "      <th>pericardial-effusion</th>\n",
       "      <th>fractional-shortening</th>\n",
       "      <th>epss</th>\n",
       "      <th>lvdd</th>\n",
       "      <th>wall-motion-score</th>\n",
       "      <th>wall-motion-index</th>\n",
       "      <th>mult</th>\n",
       "      <th>name</th>\n",
       "      <th>group</th>\n",
       "      <th>alive-at-1</th>\n",
       "    </tr>\n",
       "  </thead>\n",
       "  <tbody>\n",
       "    <tr>\n",
       "      <th>0</th>\n",
       "      <td>11</td>\n",
       "      <td>0</td>\n",
       "      <td>71</td>\n",
       "      <td>0</td>\n",
       "      <td>0.260</td>\n",
       "      <td>9</td>\n",
       "      <td>4.600</td>\n",
       "      <td>14</td>\n",
       "      <td>1</td>\n",
       "      <td>1</td>\n",
       "      <td>name</td>\n",
       "      <td>1</td>\n",
       "      <td>0</td>\n",
       "    </tr>\n",
       "    <tr>\n",
       "      <th>1</th>\n",
       "      <td>19</td>\n",
       "      <td>0</td>\n",
       "      <td>72</td>\n",
       "      <td>0</td>\n",
       "      <td>0.380</td>\n",
       "      <td>6</td>\n",
       "      <td>4.100</td>\n",
       "      <td>14</td>\n",
       "      <td>1.700</td>\n",
       "      <td>0.588</td>\n",
       "      <td>name</td>\n",
       "      <td>1</td>\n",
       "      <td>0</td>\n",
       "    </tr>\n",
       "    <tr>\n",
       "      <th>2</th>\n",
       "      <td>16</td>\n",
       "      <td>0</td>\n",
       "      <td>55</td>\n",
       "      <td>0</td>\n",
       "      <td>0.260</td>\n",
       "      <td>4</td>\n",
       "      <td>3.420</td>\n",
       "      <td>14</td>\n",
       "      <td>1</td>\n",
       "      <td>1</td>\n",
       "      <td>name</td>\n",
       "      <td>1</td>\n",
       "      <td>0</td>\n",
       "    </tr>\n",
       "    <tr>\n",
       "      <th>3</th>\n",
       "      <td>57</td>\n",
       "      <td>0</td>\n",
       "      <td>60</td>\n",
       "      <td>0</td>\n",
       "      <td>0.253</td>\n",
       "      <td>12.062</td>\n",
       "      <td>4.603</td>\n",
       "      <td>16</td>\n",
       "      <td>1.450</td>\n",
       "      <td>0.788</td>\n",
       "      <td>name</td>\n",
       "      <td>1</td>\n",
       "      <td>0</td>\n",
       "    </tr>\n",
       "    <tr>\n",
       "      <th>4</th>\n",
       "      <td>19</td>\n",
       "      <td>1</td>\n",
       "      <td>57</td>\n",
       "      <td>0</td>\n",
       "      <td>0.160</td>\n",
       "      <td>22</td>\n",
       "      <td>5.750</td>\n",
       "      <td>18</td>\n",
       "      <td>2.250</td>\n",
       "      <td>0.571</td>\n",
       "      <td>name</td>\n",
       "      <td>1</td>\n",
       "      <td>0</td>\n",
       "    </tr>\n",
       "  </tbody>\n",
       "</table>\n",
       "</div>"
      ],
      "text/plain": [
       "  Survival(in months)  Still Alive Age at heart attack  pericardial-effusion  \\\n",
       "0                  11            0                  71                     0   \n",
       "1                  19            0                  72                     0   \n",
       "2                  16            0                  55                     0   \n",
       "3                  57            0                  60                     0   \n",
       "4                  19            1                  57                     0   \n",
       "\n",
       "   fractional-shortening    epss   lvdd wall-motion-score wall-motion-index  \\\n",
       "0                  0.260       9  4.600                14                 1   \n",
       "1                  0.380       6  4.100                14             1.700   \n",
       "2                  0.260       4  3.420                14                 1   \n",
       "3                  0.253  12.062  4.603                16             1.450   \n",
       "4                  0.160      22  5.750                18             2.250   \n",
       "\n",
       "    mult  name group alive-at-1  \n",
       "0      1  name     1          0  \n",
       "1  0.588  name     1          0  \n",
       "2      1  name     1          0  \n",
       "3  0.788  name     1          0  \n",
       "4  0.571  name     1          0  "
      ]
     },
     "execution_count": 5,
     "metadata": {},
     "output_type": "execute_result"
    }
   ],
   "source": [
    "df.head(5)"
   ]
  },
  {
   "cell_type": "raw",
   "metadata": {},
   "source": [
    "Attribute Information:\n",
    "\n",
    "1. survival -- the number of months patient survived (has survived, if patient is still alive). Because all the patients had their heart attacks at different times, it is possible that some patients have survived less than one year but they are still alive. Check the second variable to confirm this. Such patients cannot be used for the prediction task mentioned above.\n",
    "2. still-alive -- a binary variable. 0=dead at end of survival period, 1 means still alive\n",
    "3. age-at-heart-attack -- age in years when heart attack occurred\n",
    "4. pericardial-effusion -- binary. Pericardial effusion is fluid around the heart. 0=no fluid, 1=fluid\n",
    "5. fractional-shortening -- a measure of contracility around the heart lower numbers are increasingly abnormal\n",
    "6. epss -- E-point septal separation, another measure of contractility. Larger numbers are increasingly abnormal.\n",
    "7. lvdd -- left ventricular end-diastolic dimension. This is a measure of the size of the heart at end-diastole. Large hearts tend to be sick hearts.\n",
    "8. wall-motion-score -- a measure of how the segments of the left ventricle are moving\n",
    "9. wall-motion-index -- equals wall-motion-score divided by number of segments seen. Usually 12-13 segments are seen in an echocardiogram. Use this variable INSTEAD of the wall motion score.\n",
    "10. mult -- a derivate var which can be ignored\n",
    "11. name -- the name of the patient (I have replaced them with \"name\")\n",
    "12. group -- meaningless, ignore it\n",
    "13. alive-at-1 -- Boolean-valued. Derived from the first two attributes. 0 means patient was either dead after 1 year or had been followed for less than 1 year. 1 means patient was alive at 1 year."
   ]
  },
  {
   "cell_type": "code",
   "execution_count": 6,
   "metadata": {},
   "outputs": [
    {
     "data": {
      "text/plain": [
       "(131, 13)"
      ]
     },
     "execution_count": 6,
     "metadata": {},
     "output_type": "execute_result"
    }
   ],
   "source": [
    "df.shape"
   ]
  },
  {
   "cell_type": "code",
   "execution_count": 426,
   "metadata": {},
   "outputs": [
    {
     "name": "stdout",
     "output_type": "stream",
     "text": [
      "<class 'pandas.core.frame.DataFrame'>\n",
      "RangeIndex: 131 entries, 0 to 130\n",
      "Data columns (total 13 columns):\n",
      " #   Column                  Non-Null Count  Dtype \n",
      "---  ------                  --------------  ----- \n",
      " 0   Survival(in months)     131 non-null    object\n",
      " 1   Still Alive             131 non-null    int64 \n",
      " 2   Age at heart attack     131 non-null    object\n",
      " 3   pericardial-effusion    131 non-null    int64 \n",
      " 4    fractional-shortening  131 non-null    object\n",
      " 5   epss                    131 non-null    object\n",
      " 6   lvdd                    131 non-null    object\n",
      " 7   wall-motion-score       131 non-null    object\n",
      " 8   wall-motion-index       131 non-null    object\n",
      " 9   mult                    131 non-null    object\n",
      " 10  name                    131 non-null    object\n",
      " 11  group                   131 non-null    object\n",
      " 12  alive-at-1              131 non-null    object\n",
      "dtypes: int64(2), object(11)\n",
      "memory usage: 13.4+ KB\n"
     ]
    }
   ],
   "source": [
    "df.info()"
   ]
  },
  {
   "cell_type": "code",
   "execution_count": 7,
   "metadata": {},
   "outputs": [
    {
     "data": {
      "text/plain": [
       "(131, 10)"
      ]
     },
     "execution_count": 7,
     "metadata": {},
     "output_type": "execute_result"
    }
   ],
   "source": [
    "# As mentioned we do not need these three columns\n",
    "df=df.drop([\"name\",\"group\",\"wall-motion-score\"], axis=1)\n",
    "df.shape"
   ]
  },
  {
   "cell_type": "code",
   "execution_count": 8,
   "metadata": {},
   "outputs": [
    {
     "data": {
      "text/plain": [
       "Index(['Survival(in months)', 'Still Alive', 'Age at heart attack',\n",
       "       'pericardial-effusion', ' fractional-shortening', 'epss', 'lvdd',\n",
       "       'wall-motion-index', 'mult', 'alive-at-1'],\n",
       "      dtype='object')"
      ]
     },
     "execution_count": 8,
     "metadata": {},
     "output_type": "execute_result"
    }
   ],
   "source": [
    "df.columns"
   ]
  },
  {
   "cell_type": "code",
   "execution_count": 9,
   "metadata": {},
   "outputs": [],
   "source": [
    "for i in df.columns.tolist():\n",
    "    df[i]=pd.to_numeric(df[i], errors='coerce')"
   ]
  },
  {
   "cell_type": "code",
   "execution_count": 429,
   "metadata": {},
   "outputs": [
    {
     "name": "stdout",
     "output_type": "stream",
     "text": [
      "<class 'pandas.core.frame.DataFrame'>\n",
      "RangeIndex: 131 entries, 0 to 130\n",
      "Data columns (total 10 columns):\n",
      " #   Column                  Non-Null Count  Dtype  \n",
      "---  ------                  --------------  -----  \n",
      " 0   Survival(in months)     130 non-null    float64\n",
      " 1   Still Alive             131 non-null    int64  \n",
      " 2   Age at heart attack     126 non-null    float64\n",
      " 3   pericardial-effusion    131 non-null    int64  \n",
      " 4    fractional-shortening  124 non-null    float64\n",
      " 5   epss                    117 non-null    float64\n",
      " 6   lvdd                    121 non-null    float64\n",
      " 7   wall-motion-index       130 non-null    float64\n",
      " 8   mult                    128 non-null    float64\n",
      " 9   alive-at-1              74 non-null     float64\n",
      "dtypes: float64(8), int64(2)\n",
      "memory usage: 10.4 KB\n"
     ]
    }
   ],
   "source": [
    "df.info()"
   ]
  },
  {
   "cell_type": "code",
   "execution_count": 10,
   "metadata": {},
   "outputs": [],
   "source": [
    "df.drop(df[df[\"Survival(in months)\"]<12].index, inplace = True)  #Point number 2 of the problem statement"
   ]
  },
  {
   "cell_type": "code",
   "execution_count": 11,
   "metadata": {},
   "outputs": [
    {
     "data": {
      "text/plain": [
       "(93, 10)"
      ]
     },
     "execution_count": 11,
     "metadata": {},
     "output_type": "execute_result"
    }
   ],
   "source": [
    "df.shape"
   ]
  },
  {
   "cell_type": "code",
   "execution_count": 432,
   "metadata": {},
   "outputs": [
    {
     "data": {
      "text/html": [
       "<div>\n",
       "<style scoped>\n",
       "    .dataframe tbody tr th:only-of-type {\n",
       "        vertical-align: middle;\n",
       "    }\n",
       "\n",
       "    .dataframe tbody tr th {\n",
       "        vertical-align: top;\n",
       "    }\n",
       "\n",
       "    .dataframe thead th {\n",
       "        text-align: right;\n",
       "    }\n",
       "</style>\n",
       "<table border=\"1\" class=\"dataframe\">\n",
       "  <thead>\n",
       "    <tr style=\"text-align: right;\">\n",
       "      <th></th>\n",
       "      <th>Survival(in months)</th>\n",
       "      <th>Still Alive</th>\n",
       "      <th>Age at heart attack</th>\n",
       "      <th>pericardial-effusion</th>\n",
       "      <th>fractional-shortening</th>\n",
       "      <th>epss</th>\n",
       "      <th>lvdd</th>\n",
       "      <th>wall-motion-index</th>\n",
       "      <th>mult</th>\n",
       "      <th>alive-at-1</th>\n",
       "    </tr>\n",
       "  </thead>\n",
       "  <tbody>\n",
       "    <tr>\n",
       "      <th>1</th>\n",
       "      <td>19.0</td>\n",
       "      <td>0</td>\n",
       "      <td>72.0</td>\n",
       "      <td>0</td>\n",
       "      <td>0.380</td>\n",
       "      <td>6.000</td>\n",
       "      <td>4.100</td>\n",
       "      <td>1.70</td>\n",
       "      <td>0.588</td>\n",
       "      <td>0.0</td>\n",
       "    </tr>\n",
       "    <tr>\n",
       "      <th>2</th>\n",
       "      <td>16.0</td>\n",
       "      <td>0</td>\n",
       "      <td>55.0</td>\n",
       "      <td>0</td>\n",
       "      <td>0.260</td>\n",
       "      <td>4.000</td>\n",
       "      <td>3.420</td>\n",
       "      <td>1.00</td>\n",
       "      <td>1.000</td>\n",
       "      <td>0.0</td>\n",
       "    </tr>\n",
       "    <tr>\n",
       "      <th>3</th>\n",
       "      <td>57.0</td>\n",
       "      <td>0</td>\n",
       "      <td>60.0</td>\n",
       "      <td>0</td>\n",
       "      <td>0.253</td>\n",
       "      <td>12.062</td>\n",
       "      <td>4.603</td>\n",
       "      <td>1.45</td>\n",
       "      <td>0.788</td>\n",
       "      <td>0.0</td>\n",
       "    </tr>\n",
       "    <tr>\n",
       "      <th>4</th>\n",
       "      <td>19.0</td>\n",
       "      <td>1</td>\n",
       "      <td>57.0</td>\n",
       "      <td>0</td>\n",
       "      <td>0.160</td>\n",
       "      <td>22.000</td>\n",
       "      <td>5.750</td>\n",
       "      <td>2.25</td>\n",
       "      <td>0.571</td>\n",
       "      <td>0.0</td>\n",
       "    </tr>\n",
       "    <tr>\n",
       "      <th>5</th>\n",
       "      <td>26.0</td>\n",
       "      <td>0</td>\n",
       "      <td>68.0</td>\n",
       "      <td>0</td>\n",
       "      <td>0.260</td>\n",
       "      <td>5.000</td>\n",
       "      <td>4.310</td>\n",
       "      <td>1.00</td>\n",
       "      <td>0.857</td>\n",
       "      <td>0.0</td>\n",
       "    </tr>\n",
       "  </tbody>\n",
       "</table>\n",
       "</div>"
      ],
      "text/plain": [
       "   Survival(in months)  Still Alive  Age at heart attack  \\\n",
       "1                 19.0            0                 72.0   \n",
       "2                 16.0            0                 55.0   \n",
       "3                 57.0            0                 60.0   \n",
       "4                 19.0            1                 57.0   \n",
       "5                 26.0            0                 68.0   \n",
       "\n",
       "   pericardial-effusion   fractional-shortening    epss   lvdd  \\\n",
       "1                     0                   0.380   6.000  4.100   \n",
       "2                     0                   0.260   4.000  3.420   \n",
       "3                     0                   0.253  12.062  4.603   \n",
       "4                     0                   0.160  22.000  5.750   \n",
       "5                     0                   0.260   5.000  4.310   \n",
       "\n",
       "   wall-motion-index   mult  alive-at-1  \n",
       "1               1.70  0.588         0.0  \n",
       "2               1.00  1.000         0.0  \n",
       "3               1.45  0.788         0.0  \n",
       "4               2.25  0.571         0.0  \n",
       "5               1.00  0.857         0.0  "
      ]
     },
     "execution_count": 432,
     "metadata": {},
     "output_type": "execute_result"
    }
   ],
   "source": [
    "df.head()"
   ]
  },
  {
   "cell_type": "code",
   "execution_count": 12,
   "metadata": {},
   "outputs": [
    {
     "data": {
      "text/html": [
       "<div>\n",
       "<style scoped>\n",
       "    .dataframe tbody tr th:only-of-type {\n",
       "        vertical-align: middle;\n",
       "    }\n",
       "\n",
       "    .dataframe tbody tr th {\n",
       "        vertical-align: top;\n",
       "    }\n",
       "\n",
       "    .dataframe thead th {\n",
       "        text-align: right;\n",
       "    }\n",
       "</style>\n",
       "<table border=\"1\" class=\"dataframe\">\n",
       "  <thead>\n",
       "    <tr style=\"text-align: right;\">\n",
       "      <th></th>\n",
       "      <th>count</th>\n",
       "      <th>mean</th>\n",
       "      <th>std</th>\n",
       "      <th>min</th>\n",
       "      <th>25%</th>\n",
       "      <th>50%</th>\n",
       "      <th>75%</th>\n",
       "      <th>max</th>\n",
       "    </tr>\n",
       "  </thead>\n",
       "  <tbody>\n",
       "    <tr>\n",
       "      <th>Survival(in months)</th>\n",
       "      <td>92.0</td>\n",
       "      <td>30.211957</td>\n",
       "      <td>11.351583</td>\n",
       "      <td>12.000</td>\n",
       "      <td>22.00</td>\n",
       "      <td>29.0000</td>\n",
       "      <td>36.250</td>\n",
       "      <td>57.00</td>\n",
       "    </tr>\n",
       "    <tr>\n",
       "      <th>Still Alive</th>\n",
       "      <td>93.0</td>\n",
       "      <td>0.096774</td>\n",
       "      <td>0.297252</td>\n",
       "      <td>0.000</td>\n",
       "      <td>0.00</td>\n",
       "      <td>0.0000</td>\n",
       "      <td>0.000</td>\n",
       "      <td>1.00</td>\n",
       "    </tr>\n",
       "    <tr>\n",
       "      <th>Age at heart attack</th>\n",
       "      <td>90.0</td>\n",
       "      <td>61.300000</td>\n",
       "      <td>7.944258</td>\n",
       "      <td>35.000</td>\n",
       "      <td>57.00</td>\n",
       "      <td>61.0000</td>\n",
       "      <td>65.000</td>\n",
       "      <td>81.00</td>\n",
       "    </tr>\n",
       "    <tr>\n",
       "      <th>pericardial-effusion</th>\n",
       "      <td>93.0</td>\n",
       "      <td>0.150538</td>\n",
       "      <td>0.359536</td>\n",
       "      <td>0.000</td>\n",
       "      <td>0.00</td>\n",
       "      <td>0.0000</td>\n",
       "      <td>0.000</td>\n",
       "      <td>1.00</td>\n",
       "    </tr>\n",
       "    <tr>\n",
       "      <th>fractional-shortening</th>\n",
       "      <td>90.0</td>\n",
       "      <td>0.230056</td>\n",
       "      <td>0.110800</td>\n",
       "      <td>0.030</td>\n",
       "      <td>0.15</td>\n",
       "      <td>0.2185</td>\n",
       "      <td>0.290</td>\n",
       "      <td>0.61</td>\n",
       "    </tr>\n",
       "    <tr>\n",
       "      <th>epss</th>\n",
       "      <td>85.0</td>\n",
       "      <td>10.973471</td>\n",
       "      <td>7.018651</td>\n",
       "      <td>0.000</td>\n",
       "      <td>6.00</td>\n",
       "      <td>9.4000</td>\n",
       "      <td>13.200</td>\n",
       "      <td>31.00</td>\n",
       "    </tr>\n",
       "    <tr>\n",
       "      <th>lvdd</th>\n",
       "      <td>89.0</td>\n",
       "      <td>4.633393</td>\n",
       "      <td>0.793993</td>\n",
       "      <td>2.320</td>\n",
       "      <td>4.16</td>\n",
       "      <td>4.5100</td>\n",
       "      <td>5.200</td>\n",
       "      <td>6.74</td>\n",
       "    </tr>\n",
       "    <tr>\n",
       "      <th>wall-motion-index</th>\n",
       "      <td>93.0</td>\n",
       "      <td>1.274247</td>\n",
       "      <td>0.349541</td>\n",
       "      <td>1.000</td>\n",
       "      <td>1.00</td>\n",
       "      <td>1.1400</td>\n",
       "      <td>1.409</td>\n",
       "      <td>2.39</td>\n",
       "    </tr>\n",
       "    <tr>\n",
       "      <th>mult</th>\n",
       "      <td>92.0</td>\n",
       "      <td>0.784793</td>\n",
       "      <td>0.196385</td>\n",
       "      <td>0.357</td>\n",
       "      <td>0.71</td>\n",
       "      <td>0.7860</td>\n",
       "      <td>0.857</td>\n",
       "      <td>2.00</td>\n",
       "    </tr>\n",
       "    <tr>\n",
       "      <th>alive-at-1</th>\n",
       "      <td>49.0</td>\n",
       "      <td>0.020408</td>\n",
       "      <td>0.142857</td>\n",
       "      <td>0.000</td>\n",
       "      <td>0.00</td>\n",
       "      <td>0.0000</td>\n",
       "      <td>0.000</td>\n",
       "      <td>1.00</td>\n",
       "    </tr>\n",
       "  </tbody>\n",
       "</table>\n",
       "</div>"
      ],
      "text/plain": [
       "                        count       mean        std     min    25%      50%  \\\n",
       "Survival(in months)      92.0  30.211957  11.351583  12.000  22.00  29.0000   \n",
       "Still Alive              93.0   0.096774   0.297252   0.000   0.00   0.0000   \n",
       "Age at heart attack      90.0  61.300000   7.944258  35.000  57.00  61.0000   \n",
       "pericardial-effusion     93.0   0.150538   0.359536   0.000   0.00   0.0000   \n",
       " fractional-shortening   90.0   0.230056   0.110800   0.030   0.15   0.2185   \n",
       "epss                     85.0  10.973471   7.018651   0.000   6.00   9.4000   \n",
       "lvdd                     89.0   4.633393   0.793993   2.320   4.16   4.5100   \n",
       "wall-motion-index        93.0   1.274247   0.349541   1.000   1.00   1.1400   \n",
       "mult                     92.0   0.784793   0.196385   0.357   0.71   0.7860   \n",
       "alive-at-1               49.0   0.020408   0.142857   0.000   0.00   0.0000   \n",
       "\n",
       "                           75%    max  \n",
       "Survival(in months)     36.250  57.00  \n",
       "Still Alive              0.000   1.00  \n",
       "Age at heart attack     65.000  81.00  \n",
       "pericardial-effusion     0.000   1.00  \n",
       " fractional-shortening   0.290   0.61  \n",
       "epss                    13.200  31.00  \n",
       "lvdd                     5.200   6.74  \n",
       "wall-motion-index        1.409   2.39  \n",
       "mult                     0.857   2.00  \n",
       "alive-at-1               0.000   1.00  "
      ]
     },
     "execution_count": 12,
     "metadata": {},
     "output_type": "execute_result"
    }
   ],
   "source": [
    "df.describe().transpose()"
   ]
  },
  {
   "cell_type": "markdown",
   "metadata": {},
   "source": [
    "## Feature Engineering"
   ]
  },
  {
   "cell_type": "markdown",
   "metadata": {},
   "source": [
    "### Checking for null values"
   ]
  },
  {
   "cell_type": "code",
   "execution_count": 361,
   "metadata": {},
   "outputs": [
    {
     "data": {
      "text/plain": [
       "Survival(in months)        1\n",
       "Still Alive                0\n",
       "Age at heart attack        3\n",
       "pericardial-effusion       0\n",
       " fractional-shortening     3\n",
       "epss                       8\n",
       "lvdd                       4\n",
       "wall-motion-index          0\n",
       "mult                       1\n",
       "alive-at-1                44\n",
       "dtype: int64"
      ]
     },
     "execution_count": 361,
     "metadata": {},
     "output_type": "execute_result"
    }
   ],
   "source": [
    "df.isnull().sum()"
   ]
  },
  {
   "cell_type": "markdown",
   "metadata": {},
   "source": [
    "#### 44/93=47.3%  records do not have any value for their  output feature "
   ]
  },
  {
   "cell_type": "markdown",
   "metadata": {},
   "source": [
    "##### We shall use the first two columns to predict the O/P here"
   ]
  },
  {
   "cell_type": "code",
   "execution_count": 13,
   "metadata": {},
   "outputs": [
    {
     "data": {
      "text/html": [
       "<div>\n",
       "<style scoped>\n",
       "    .dataframe tbody tr th:only-of-type {\n",
       "        vertical-align: middle;\n",
       "    }\n",
       "\n",
       "    .dataframe tbody tr th {\n",
       "        vertical-align: top;\n",
       "    }\n",
       "\n",
       "    .dataframe thead th {\n",
       "        text-align: right;\n",
       "    }\n",
       "</style>\n",
       "<table border=\"1\" class=\"dataframe\">\n",
       "  <thead>\n",
       "    <tr style=\"text-align: right;\">\n",
       "      <th></th>\n",
       "      <th>Survival(in months)</th>\n",
       "      <th>Still Alive</th>\n",
       "      <th>Age at heart attack</th>\n",
       "      <th>pericardial-effusion</th>\n",
       "      <th>fractional-shortening</th>\n",
       "      <th>epss</th>\n",
       "      <th>lvdd</th>\n",
       "      <th>wall-motion-index</th>\n",
       "      <th>mult</th>\n",
       "      <th>alive-at-1</th>\n",
       "    </tr>\n",
       "  </thead>\n",
       "  <tbody>\n",
       "    <tr>\n",
       "      <th>24</th>\n",
       "      <td>48.0</td>\n",
       "      <td>0</td>\n",
       "      <td>64.0</td>\n",
       "      <td>0</td>\n",
       "      <td>0.19</td>\n",
       "      <td>5.90</td>\n",
       "      <td>3.48</td>\n",
       "      <td>1.110</td>\n",
       "      <td>0.640</td>\n",
       "      <td>NaN</td>\n",
       "    </tr>\n",
       "    <tr>\n",
       "      <th>25</th>\n",
       "      <td>29.0</td>\n",
       "      <td>0</td>\n",
       "      <td>54.0</td>\n",
       "      <td>0</td>\n",
       "      <td>0.30</td>\n",
       "      <td>7.00</td>\n",
       "      <td>3.85</td>\n",
       "      <td>1.667</td>\n",
       "      <td>0.430</td>\n",
       "      <td>NaN</td>\n",
       "    </tr>\n",
       "    <tr>\n",
       "      <th>26</th>\n",
       "      <td>29.0</td>\n",
       "      <td>0</td>\n",
       "      <td>35.0</td>\n",
       "      <td>0</td>\n",
       "      <td>0.30</td>\n",
       "      <td>5.00</td>\n",
       "      <td>4.17</td>\n",
       "      <td>1.000</td>\n",
       "      <td>1.000</td>\n",
       "      <td>NaN</td>\n",
       "    </tr>\n",
       "    <tr>\n",
       "      <th>27</th>\n",
       "      <td>29.0</td>\n",
       "      <td>0</td>\n",
       "      <td>55.0</td>\n",
       "      <td>0</td>\n",
       "      <td>NaN</td>\n",
       "      <td>7.00</td>\n",
       "      <td>NaN</td>\n",
       "      <td>1.000</td>\n",
       "      <td>2.000</td>\n",
       "      <td>NaN</td>\n",
       "    </tr>\n",
       "    <tr>\n",
       "      <th>33</th>\n",
       "      <td>27.0</td>\n",
       "      <td>0</td>\n",
       "      <td>47.0</td>\n",
       "      <td>0</td>\n",
       "      <td>0.40</td>\n",
       "      <td>5.12</td>\n",
       "      <td>3.10</td>\n",
       "      <td>1.000</td>\n",
       "      <td>0.857</td>\n",
       "      <td>NaN</td>\n",
       "    </tr>\n",
       "  </tbody>\n",
       "</table>\n",
       "</div>"
      ],
      "text/plain": [
       "    Survival(in months)  Still Alive  Age at heart attack  \\\n",
       "24                 48.0            0                 64.0   \n",
       "25                 29.0            0                 54.0   \n",
       "26                 29.0            0                 35.0   \n",
       "27                 29.0            0                 55.0   \n",
       "33                 27.0            0                 47.0   \n",
       "\n",
       "    pericardial-effusion   fractional-shortening  epss  lvdd  \\\n",
       "24                     0                    0.19  5.90  3.48   \n",
       "25                     0                    0.30  7.00  3.85   \n",
       "26                     0                    0.30  5.00  4.17   \n",
       "27                     0                     NaN  7.00   NaN   \n",
       "33                     0                    0.40  5.12  3.10   \n",
       "\n",
       "    wall-motion-index   mult  alive-at-1  \n",
       "24              1.110  0.640         NaN  \n",
       "25              1.667  0.430         NaN  \n",
       "26              1.000  1.000         NaN  \n",
       "27              1.000  2.000         NaN  \n",
       "33              1.000  0.857         NaN  "
      ]
     },
     "execution_count": 13,
     "metadata": {},
     "output_type": "execute_result"
    }
   ],
   "source": [
    "df[df[\"alive-at-1\"].isnull()].head()"
   ]
  },
  {
   "cell_type": "code",
   "execution_count": 14,
   "metadata": {},
   "outputs": [],
   "source": [
    "indices=df[(df[\"Survival(in months)\"]>=12) & (df[\"Still Alive\"]==1)].index"
   ]
  },
  {
   "cell_type": "code",
   "execution_count": 15,
   "metadata": {},
   "outputs": [],
   "source": [
    "for i in indices.tolist():\n",
    "    df['alive-at-1'][i]=1"
   ]
  },
  {
   "cell_type": "code",
   "execution_count": 16,
   "metadata": {},
   "outputs": [],
   "source": [
    "indices=df[(df[\"Survival(in months)\"]>=12) & (df[\"Still Alive\"]==0)].index"
   ]
  },
  {
   "cell_type": "code",
   "execution_count": 17,
   "metadata": {},
   "outputs": [],
   "source": [
    "for i in indices.tolist():\n",
    "    df['alive-at-1'][i]=0"
   ]
  },
  {
   "cell_type": "markdown",
   "metadata": {},
   "source": [
    "### Checking whether the target class is balanced or not"
   ]
  },
  {
   "cell_type": "code",
   "execution_count": 18,
   "metadata": {},
   "outputs": [
    {
     "data": {
      "text/plain": [
       "0.0    84\n",
       "1.0     9\n",
       "Name: alive-at-1, dtype: int64"
      ]
     },
     "execution_count": 18,
     "metadata": {},
     "output_type": "execute_result"
    }
   ],
   "source": [
    "df[\"alive-at-1\"].value_counts()"
   ]
  },
  {
   "cell_type": "code",
   "execution_count": 19,
   "metadata": {},
   "outputs": [
    {
     "data": {
      "text/plain": [
       "[Text(0, 0, 'Dead or no followup'), Text(0, 0, 'Alive')]"
      ]
     },
     "execution_count": 19,
     "metadata": {},
     "output_type": "execute_result"
    },
    {
     "data": {
      "image/png": "[encoded data removed]",
      "text/plain": [
       "<Figure size 720x432 with 1 Axes>"
      ]
     },
     "metadata": {
      "needs_background": "light"
     },
     "output_type": "display_data"
    }
   ],
   "source": [
    "plt.figure(figsize=(10,6))\n",
    "sns.set_style('whitegrid')\n",
    "plot=sns.countplot(x=\"alive-at-1\",data=df,palette=\"mako\")\n",
    "plot.set_xticklabels([\"Dead or no followup\",\"Alive\"])"
   ]
  },
  {
   "cell_type": "markdown",
   "metadata": {},
   "source": [
    "#### Seems to be very unblanced going ahead with Over Sampling Technique"
   ]
  },
  {
   "cell_type": "markdown",
   "metadata": {},
   "source": [
    "### Over Sampling"
   ]
  },
  {
   "cell_type": "code",
   "execution_count": 21,
   "metadata": {},
   "outputs": [],
   "source": [
    "X=df[['Survival(in months)',\n",
    " 'Still Alive',\n",
    " 'Age at heart attack',\n",
    " 'pericardial-effusion',\n",
    " ' fractional-shortening',\n",
    " 'epss',\n",
    " 'lvdd',\n",
    " 'wall-motion-index',\n",
    " 'mult']]\n",
    "Y=df['alive-at-1']"
   ]
  },
  {
   "cell_type": "code",
   "execution_count": 22,
   "metadata": {},
   "outputs": [
    {
     "name": "stdout",
     "output_type": "stream",
     "text": [
      "(93, 9)\n",
      "(93,)\n"
     ]
    }
   ],
   "source": [
    "print(X.shape)\n",
    "print(Y.shape)"
   ]
  },
  {
   "cell_type": "code",
   "execution_count": 23,
   "metadata": {},
   "outputs": [],
   "source": [
    "## RandomOverSampler to handle imbalanced data\n",
    "from imblearn.over_sampling import RandomOverSampler\n",
    "from collections import Counter"
   ]
  },
  {
   "cell_type": "code",
   "execution_count": 24,
   "metadata": {},
   "outputs": [],
   "source": [
    "os =RandomOverSampler(sampling_strategy=0.6)\n",
    "# Ratio factor of 1 means since 0 has 50 and 1 has 24 , it find the class with majority count and since the ratio factor is 0.6 it means it will find the total 60%  of the majority class (here 64) and will decide the amount of points to be added to other class to make it totally balance from 9 to 50"
   ]
  },
  {
   "cell_type": "code",
   "execution_count": 25,
   "metadata": {},
   "outputs": [],
   "source": [
    "X_train_res, y_train_res = os.fit_resample(X, Y)"
   ]
  },
  {
   "cell_type": "code",
   "execution_count": 26,
   "metadata": {},
   "outputs": [
    {
     "data": {
      "text/plain": [
       "((134, 9), (134,))"
      ]
     },
     "execution_count": 26,
     "metadata": {},
     "output_type": "execute_result"
    }
   ],
   "source": [
    "X_train_res.shape,y_train_res.shape  # Original 93 points of dataset + new 41 points"
   ]
  },
  {
   "cell_type": "code",
   "execution_count": 27,
   "metadata": {},
   "outputs": [
    {
     "name": "stdout",
     "output_type": "stream",
     "text": [
      "Original dataset shape Counter({0.0: 84, 1.0: 9})\n",
      "Resampled dataset shape Counter({0.0: 84, 1.0: 50})\n"
     ]
    }
   ],
   "source": [
    "print('Original dataset shape {}'.format(Counter(Y)))\n",
    "print('Resampled dataset shape {}'.format(Counter(y_train_res)))"
   ]
  },
  {
   "cell_type": "code",
   "execution_count": 28,
   "metadata": {},
   "outputs": [],
   "source": [
    "df=X_train_res\n",
    "df['alive-at-1']=y_train_res"
   ]
  },
  {
   "cell_type": "code",
   "execution_count": 29,
   "metadata": {},
   "outputs": [
    {
     "data": {
      "text/html": [
       "<div>\n",
       "<style scoped>\n",
       "    .dataframe tbody tr th:only-of-type {\n",
       "        vertical-align: middle;\n",
       "    }\n",
       "\n",
       "    .dataframe tbody tr th {\n",
       "        vertical-align: top;\n",
       "    }\n",
       "\n",
       "    .dataframe thead th {\n",
       "        text-align: right;\n",
       "    }\n",
       "</style>\n",
       "<table border=\"1\" class=\"dataframe\">\n",
       "  <thead>\n",
       "    <tr style=\"text-align: right;\">\n",
       "      <th></th>\n",
       "      <th>Survival(in months)</th>\n",
       "      <th>Still Alive</th>\n",
       "      <th>Age at heart attack</th>\n",
       "      <th>pericardial-effusion</th>\n",
       "      <th>fractional-shortening</th>\n",
       "      <th>epss</th>\n",
       "      <th>lvdd</th>\n",
       "      <th>wall-motion-index</th>\n",
       "      <th>mult</th>\n",
       "      <th>alive-at-1</th>\n",
       "    </tr>\n",
       "  </thead>\n",
       "  <tbody>\n",
       "    <tr>\n",
       "      <th>0</th>\n",
       "      <td>19.0</td>\n",
       "      <td>0</td>\n",
       "      <td>72.0</td>\n",
       "      <td>0</td>\n",
       "      <td>0.380</td>\n",
       "      <td>6.000</td>\n",
       "      <td>4.100</td>\n",
       "      <td>1.70</td>\n",
       "      <td>0.588</td>\n",
       "      <td>0.0</td>\n",
       "    </tr>\n",
       "    <tr>\n",
       "      <th>1</th>\n",
       "      <td>16.0</td>\n",
       "      <td>0</td>\n",
       "      <td>55.0</td>\n",
       "      <td>0</td>\n",
       "      <td>0.260</td>\n",
       "      <td>4.000</td>\n",
       "      <td>3.420</td>\n",
       "      <td>1.00</td>\n",
       "      <td>1.000</td>\n",
       "      <td>0.0</td>\n",
       "    </tr>\n",
       "    <tr>\n",
       "      <th>2</th>\n",
       "      <td>57.0</td>\n",
       "      <td>0</td>\n",
       "      <td>60.0</td>\n",
       "      <td>0</td>\n",
       "      <td>0.253</td>\n",
       "      <td>12.062</td>\n",
       "      <td>4.603</td>\n",
       "      <td>1.45</td>\n",
       "      <td>0.788</td>\n",
       "      <td>0.0</td>\n",
       "    </tr>\n",
       "    <tr>\n",
       "      <th>3</th>\n",
       "      <td>19.0</td>\n",
       "      <td>1</td>\n",
       "      <td>57.0</td>\n",
       "      <td>0</td>\n",
       "      <td>0.160</td>\n",
       "      <td>22.000</td>\n",
       "      <td>5.750</td>\n",
       "      <td>2.25</td>\n",
       "      <td>0.571</td>\n",
       "      <td>1.0</td>\n",
       "    </tr>\n",
       "    <tr>\n",
       "      <th>4</th>\n",
       "      <td>26.0</td>\n",
       "      <td>0</td>\n",
       "      <td>68.0</td>\n",
       "      <td>0</td>\n",
       "      <td>0.260</td>\n",
       "      <td>5.000</td>\n",
       "      <td>4.310</td>\n",
       "      <td>1.00</td>\n",
       "      <td>0.857</td>\n",
       "      <td>0.0</td>\n",
       "    </tr>\n",
       "  </tbody>\n",
       "</table>\n",
       "</div>"
      ],
      "text/plain": [
       "   Survival(in months)  Still Alive  Age at heart attack  \\\n",
       "0                 19.0            0                 72.0   \n",
       "1                 16.0            0                 55.0   \n",
       "2                 57.0            0                 60.0   \n",
       "3                 19.0            1                 57.0   \n",
       "4                 26.0            0                 68.0   \n",
       "\n",
       "   pericardial-effusion   fractional-shortening    epss   lvdd  \\\n",
       "0                     0                   0.380   6.000  4.100   \n",
       "1                     0                   0.260   4.000  3.420   \n",
       "2                     0                   0.253  12.062  4.603   \n",
       "3                     0                   0.160  22.000  5.750   \n",
       "4                     0                   0.260   5.000  4.310   \n",
       "\n",
       "   wall-motion-index   mult  alive-at-1  \n",
       "0               1.70  0.588         0.0  \n",
       "1               1.00  1.000         0.0  \n",
       "2               1.45  0.788         0.0  \n",
       "3               2.25  0.571         1.0  \n",
       "4               1.00  0.857         0.0  "
      ]
     },
     "execution_count": 29,
     "metadata": {},
     "output_type": "execute_result"
    }
   ],
   "source": [
    "df.head()"
   ]
  },
  {
   "cell_type": "code",
   "execution_count": 30,
   "metadata": {},
   "outputs": [
    {
     "data": {
      "text/plain": [
       "[Text(0, 0, 'Dead or no followup'), Text(0, 0, 'Alive')]"
      ]
     },
     "execution_count": 30,
     "metadata": {},
     "output_type": "execute_result"
    },
    {
     "data": {
      "image/png": "[encoded data removed]",
      "text/plain": [
       "<Figure size 720x432 with 1 Axes>"
      ]
     },
     "metadata": {},
     "output_type": "display_data"
    }
   ],
   "source": [
    "plt.figure(figsize=(10,6))\n",
    "sns.set_style('whitegrid')\n",
    "plot=sns.countplot(x=\"alive-at-1\",data=df,palette=\"mako\")\n",
    "plot.set_xticklabels([\"Dead or no followup\",\"Alive\"])"
   ]
  },
  {
   "cell_type": "markdown",
   "metadata": {},
   "source": [
    "## Performing EDA using Panda Profiling"
   ]
  },
  {
   "cell_type": "code",
   "execution_count": 31,
   "metadata": {},
   "outputs": [
    {
     "data": {
      "application/vnd.jupyter.widget-view+json": {
       "model_id": "6341951242bc48ff9940950d255d5ae9",
       "version_major": 2,
       "version_minor": 0
      },
      "text/plain": [
       "HBox(children=(FloatProgress(value=0.0, description='Summarize dataset', max=24.0, style=ProgressStyle(descrip…"
      ]
     },
     "metadata": {},
     "output_type": "display_data"
    },
    {
     "name": "stdout",
     "output_type": "stream",
     "text": [
      "\n"
     ]
    },
    {
     "data": {
      "application/vnd.jupyter.widget-view+json": {
       "model_id": "6580e71d1ddf4e48a6907e89245ceaa2",
       "version_major": 2,
       "version_minor": 0
      },
      "text/plain": [
       "HBox(children=(FloatProgress(value=0.0, description='Generate report structure', max=1.0, style=ProgressStyle(…"
      ]
     },
     "metadata": {},
     "output_type": "display_data"
    },
    {
     "name": "stdout",
     "output_type": "stream",
     "text": [
      "\n"
     ]
    },
    {
     "data": {
      "application/vnd.jupyter.widget-view+json": {
       "model_id": "",
       "version_major": 2,
       "version_minor": 0
      },
      "text/plain": [
       "HBox(children=(FloatProgress(value=0.0, description='Render widgets', max=1.0, style=ProgressStyle(description…"
      ]
     },
     "metadata": {},
     "output_type": "display_data"
    },
    {
     "data": {
      "application/vnd.jupyter.widget-view+json": {
       "model_id": "2cd8b4ee62e84b94a76a97584a3ff9d6",
       "version_major": 2,
       "version_minor": 0
      },
      "text/plain": [
       "VBox(children=(Tab(children=(Tab(children=(GridBox(children=(VBox(children=(GridspecLayout(children=(HTML(valu…"
      ]
     },
     "metadata": {},
     "output_type": "display_data"
    }
   ],
   "source": [
    "prof_report = pandas_profiling.ProfileReport(df , title = 'Echocardiogram Results')\n",
    "prof_report.to_widgets()"
   ]
  },
  {
   "cell_type": "code",
   "execution_count": 228,
   "metadata": {},
   "outputs": [
    {
     "data": {
      "text/plain": [
       "Index(['Survival(in months)', 'Still Alive', 'Age at heart attack',\n",
       "       'pericardial-effusion', ' fractional-shortening', 'epss', 'lvdd',\n",
       "       'wall-motion-index', 'mult', 'alive-at-1'],\n",
       "      dtype='object')"
      ]
     },
     "execution_count": 228,
     "metadata": {},
     "output_type": "execute_result"
    }
   ],
   "source": [
    "df.columns"
   ]
  },
  {
   "cell_type": "markdown",
   "metadata": {},
   "source": [
    "## Checking for outliers"
   ]
  },
  {
   "cell_type": "code",
   "execution_count": 379,
   "metadata": {},
   "outputs": [
    {
     "data": {
      "text/plain": [
       "<matplotlib.axes._subplots.AxesSubplot at 0x186fa9e8e20>"
      ]
     },
     "execution_count": 379,
     "metadata": {},
     "output_type": "execute_result"
    },
    {
     "data": {
      "image/png": "[encoded data removed]",
      "text/plain": [
       "<Figure size 1440x1584 with 7 Axes>"
      ]
     },
     "metadata": {},
     "output_type": "display_data"
    }
   ],
   "source": [
    "fig, axes = plt.subplots(7,1, sharex=False, figsize=(20,22))\n",
    "df.boxplot(ax=axes[0],column='Age at heart attack')\n",
    "df.boxplot(ax=axes[1],column='pericardial-effusion')\n",
    "df.boxplot(ax=axes[2],column=' fractional-shortening')\n",
    "df.boxplot(ax=axes[3],column='epss')\n",
    "df.boxplot(ax=axes[4],column='lvdd')\n",
    "df.boxplot(ax=axes[5],column='wall-motion-index')\n",
    "df.boxplot(ax=axes[6],column='mult')"
   ]
  },
  {
   "cell_type": "code",
   "execution_count": 380,
   "metadata": {},
   "outputs": [],
   "source": [
    "IQR=df[' fractional-shortening'].quantile(0.75)-df[' fractional-shortening'].quantile(0.25)\n",
    "upper_bridge=df[' fractional-shortening'].quantile(0.75)+(IQR*1.5)\n",
    "indices=df[df[' fractional-shortening']>upper_bridge].index\n",
    "for i in indices.tolist():\n",
    "    df[' fractional-shortening'][i]=upper_bridge"
   ]
  },
  {
   "cell_type": "code",
   "execution_count": 381,
   "metadata": {},
   "outputs": [],
   "source": [
    "IQR=df['wall-motion-index'].quantile(0.75)-df['wall-motion-index'].quantile(0.25)\n",
    "upper_bridge=df['wall-motion-index'].quantile(0.75)+(IQR*1.5)\n",
    "indices=df[df['wall-motion-index']>upper_bridge].index\n",
    "for i in indices.tolist():\n",
    "    df['wall-motion-index'][i]=upper_bridge"
   ]
  },
  {
   "cell_type": "code",
   "execution_count": 324,
   "metadata": {},
   "outputs": [
    {
     "data": {
      "text/plain": [
       "<matplotlib.axes._subplots.AxesSubplot at 0x186f94e0340>"
      ]
     },
     "execution_count": 324,
     "metadata": {},
     "output_type": "execute_result"
    },
    {
     "data": {
      "image/png": "[encoded data removed]",
      "text/plain": [
       "<Figure size 1440x1584 with 7 Axes>"
      ]
     },
     "metadata": {},
     "output_type": "display_data"
    }
   ],
   "source": [
    "fig, axes = plt.subplots(7,1, sharex=False, figsize=(20,22))\n",
    "df.boxplot(ax=axes[0],column='Age at heart attack')\n",
    "df.boxplot(ax=axes[1],column='pericardial-effusion')\n",
    "df.boxplot(ax=axes[2],column=' fractional-shortening')\n",
    "df.boxplot(ax=axes[3],column='epss')\n",
    "df.boxplot(ax=axes[4],column='lvdd')\n",
    "df.boxplot(ax=axes[5],column='wall-motion-index')\n",
    "df.boxplot(ax=axes[6],column='mult')"
   ]
  },
  {
   "cell_type": "code",
   "execution_count": null,
   "metadata": {},
   "outputs": [],
   "source": []
  },
  {
   "cell_type": "markdown",
   "metadata": {},
   "source": [
    "## Feature Selection"
   ]
  },
  {
   "cell_type": "code",
   "execution_count": 382,
   "metadata": {},
   "outputs": [
    {
     "data": {
      "text/plain": [
       "<matplotlib.axes._subplots.AxesSubplot at 0x186f7d2fb50>"
      ]
     },
     "execution_count": 382,
     "metadata": {},
     "output_type": "execute_result"
    },
    {
     "data": {
      "image/png": "[encoded data removed]",
      "text/plain": [
       "<Figure size 720x576 with 2 Axes>"
      ]
     },
     "metadata": {},
     "output_type": "display_data"
    }
   ],
   "source": [
    "plt.figure(figsize=(10,8))\n",
    "sns.heatmap(df[['Age at heart attack',\n",
    "       'pericardial-effusion', ' fractional-shortening', 'epss', 'lvdd',\n",
    "       'wall-motion-index', 'mult', 'alive-at-1']].corr(),annot=True,cmap=\"YlGnBu\")"
   ]
  },
  {
   "cell_type": "markdown",
   "metadata": {},
   "source": [
    "#### using Karl Pearson Correlation and Spearman's Rank correlation (From Panda's Profiling) we see that \n",
    "#### Age, fractional-shortening, epss, lvdd,wall-motion-index are the continuous features that affect the O/P"
   ]
  },
  {
   "cell_type": "markdown",
   "metadata": {},
   "source": [
    "#### Using Filter method ( X-Square technique) - For the  categorical attribute"
   ]
  },
  {
   "cell_type": "code",
   "execution_count": 383,
   "metadata": {},
   "outputs": [],
   "source": [
    "from sklearn.feature_selection import SelectKBest\n",
    "from sklearn.feature_selection import chi2\n",
    "\n",
    "X = df[['pericardial-effusion']]  #independent column\n",
    "y = df['alive-at-1']    #target column"
   ]
  },
  {
   "cell_type": "code",
   "execution_count": 384,
   "metadata": {},
   "outputs": [],
   "source": [
    "#apply SelectKBest class to extract the best features\n",
    "bestfeatures = SelectKBest(score_func=chi2, k=1)\n",
    "fit = bestfeatures.fit(X,y)"
   ]
  },
  {
   "cell_type": "raw",
   "metadata": {},
   "source": [
    "Null hypothesis: Assumes that there is no association between the two variables.\n",
    "\n",
    "Alternative hypothesis: Assumes that there is an association between the two variables.\n",
    "\n",
    "\n",
    "p<0.05 Reject Ho"
   ]
  },
  {
   "cell_type": "code",
   "execution_count": 385,
   "metadata": {},
   "outputs": [],
   "source": [
    "dfscores = pd.DataFrame(fit.scores_)\n",
    "dfpvalues=pd.DataFrame(fit.pvalues_)\n",
    "dfcolumns = pd.DataFrame(X.columns)"
   ]
  },
  {
   "cell_type": "code",
   "execution_count": 386,
   "metadata": {},
   "outputs": [],
   "source": [
    "#concat two dataframes for better visualization \n",
    "featureScores = pd.concat([dfcolumns,dfscores,dfpvalues],axis=1)\n",
    "featureScores.columns = ['Specs','Score',\"P-Values\"]  #naming the dataframe columns"
   ]
  },
  {
   "cell_type": "code",
   "execution_count": 387,
   "metadata": {
    "scrolled": true
   },
   "outputs": [
    {
     "data": {
      "text/html": [
       "<div>\n",
       "<style scoped>\n",
       "    .dataframe tbody tr th:only-of-type {\n",
       "        vertical-align: middle;\n",
       "    }\n",
       "\n",
       "    .dataframe tbody tr th {\n",
       "        vertical-align: top;\n",
       "    }\n",
       "\n",
       "    .dataframe thead th {\n",
       "        text-align: right;\n",
       "    }\n",
       "</style>\n",
       "<table border=\"1\" class=\"dataframe\">\n",
       "  <thead>\n",
       "    <tr style=\"text-align: right;\">\n",
       "      <th></th>\n",
       "      <th>Specs</th>\n",
       "      <th>Score</th>\n",
       "      <th>P-Values</th>\n",
       "    </tr>\n",
       "  </thead>\n",
       "  <tbody>\n",
       "    <tr>\n",
       "      <th>0</th>\n",
       "      <td>pericardial-effusion</td>\n",
       "      <td>0.275918</td>\n",
       "      <td>0.599389</td>\n",
       "    </tr>\n",
       "  </tbody>\n",
       "</table>\n",
       "</div>"
      ],
      "text/plain": [
       "                  Specs     Score  P-Values\n",
       "0  pericardial-effusion  0.275918  0.599389"
      ]
     },
     "execution_count": 387,
     "metadata": {},
     "output_type": "execute_result"
    }
   ],
   "source": [
    "featureScores"
   ]
  },
  {
   "cell_type": "markdown",
   "metadata": {},
   "source": [
    "#### Since p-vaue > 0.05 we fail to Reject H0 at 95% significance level, Hence pericardial-effusion is associated with the O/P"
   ]
  },
  {
   "cell_type": "code",
   "execution_count": 388,
   "metadata": {},
   "outputs": [
    {
     "data": {
      "text/plain": [
       "Index(['Survival(in months)', 'Still Alive', 'Age at heart attack',\n",
       "       'pericardial-effusion', ' fractional-shortening', 'epss', 'lvdd',\n",
       "       'wall-motion-index', 'mult', 'alive-at-1'],\n",
       "      dtype='object')"
      ]
     },
     "execution_count": 388,
     "metadata": {},
     "output_type": "execute_result"
    }
   ],
   "source": [
    "df.columns"
   ]
  },
  {
   "cell_type": "code",
   "execution_count": 389,
   "metadata": {},
   "outputs": [],
   "source": [
    "x = df[['Age at heart attack',\n",
    "       'pericardial-effusion', ' fractional-shortening', 'epss', 'lvdd',\n",
    "       'wall-motion-index']]"
   ]
  },
  {
   "cell_type": "code",
   "execution_count": 390,
   "metadata": {},
   "outputs": [],
   "source": [
    "y=df['alive-at-1']"
   ]
  },
  {
   "cell_type": "code",
   "execution_count": 391,
   "metadata": {},
   "outputs": [
    {
     "data": {
      "text/html": [
       "<div>\n",
       "<style scoped>\n",
       "    .dataframe tbody tr th:only-of-type {\n",
       "        vertical-align: middle;\n",
       "    }\n",
       "\n",
       "    .dataframe tbody tr th {\n",
       "        vertical-align: top;\n",
       "    }\n",
       "\n",
       "    .dataframe thead th {\n",
       "        text-align: right;\n",
       "    }\n",
       "</style>\n",
       "<table border=\"1\" class=\"dataframe\">\n",
       "  <thead>\n",
       "    <tr style=\"text-align: right;\">\n",
       "      <th></th>\n",
       "      <th>Survival(in months)</th>\n",
       "      <th>Still Alive</th>\n",
       "      <th>Age at heart attack</th>\n",
       "      <th>pericardial-effusion</th>\n",
       "      <th>fractional-shortening</th>\n",
       "      <th>epss</th>\n",
       "      <th>lvdd</th>\n",
       "      <th>wall-motion-index</th>\n",
       "      <th>mult</th>\n",
       "      <th>alive-at-1</th>\n",
       "    </tr>\n",
       "  </thead>\n",
       "  <tbody>\n",
       "    <tr>\n",
       "      <th>0</th>\n",
       "      <td>19.0</td>\n",
       "      <td>0</td>\n",
       "      <td>72.0</td>\n",
       "      <td>0</td>\n",
       "      <td>0.380</td>\n",
       "      <td>6.000</td>\n",
       "      <td>4.100</td>\n",
       "      <td>1.70</td>\n",
       "      <td>0.588</td>\n",
       "      <td>0.0</td>\n",
       "    </tr>\n",
       "    <tr>\n",
       "      <th>1</th>\n",
       "      <td>16.0</td>\n",
       "      <td>0</td>\n",
       "      <td>55.0</td>\n",
       "      <td>0</td>\n",
       "      <td>0.260</td>\n",
       "      <td>4.000</td>\n",
       "      <td>3.420</td>\n",
       "      <td>1.00</td>\n",
       "      <td>1.000</td>\n",
       "      <td>0.0</td>\n",
       "    </tr>\n",
       "    <tr>\n",
       "      <th>2</th>\n",
       "      <td>57.0</td>\n",
       "      <td>0</td>\n",
       "      <td>60.0</td>\n",
       "      <td>0</td>\n",
       "      <td>0.253</td>\n",
       "      <td>12.062</td>\n",
       "      <td>4.603</td>\n",
       "      <td>1.45</td>\n",
       "      <td>0.788</td>\n",
       "      <td>0.0</td>\n",
       "    </tr>\n",
       "    <tr>\n",
       "      <th>3</th>\n",
       "      <td>19.0</td>\n",
       "      <td>1</td>\n",
       "      <td>57.0</td>\n",
       "      <td>0</td>\n",
       "      <td>0.160</td>\n",
       "      <td>22.000</td>\n",
       "      <td>5.750</td>\n",
       "      <td>2.05</td>\n",
       "      <td>0.571</td>\n",
       "      <td>1.0</td>\n",
       "    </tr>\n",
       "    <tr>\n",
       "      <th>4</th>\n",
       "      <td>26.0</td>\n",
       "      <td>0</td>\n",
       "      <td>68.0</td>\n",
       "      <td>0</td>\n",
       "      <td>0.260</td>\n",
       "      <td>5.000</td>\n",
       "      <td>4.310</td>\n",
       "      <td>1.00</td>\n",
       "      <td>0.857</td>\n",
       "      <td>0.0</td>\n",
       "    </tr>\n",
       "  </tbody>\n",
       "</table>\n",
       "</div>"
      ],
      "text/plain": [
       "   Survival(in months)  Still Alive  Age at heart attack  \\\n",
       "0                 19.0            0                 72.0   \n",
       "1                 16.0            0                 55.0   \n",
       "2                 57.0            0                 60.0   \n",
       "3                 19.0            1                 57.0   \n",
       "4                 26.0            0                 68.0   \n",
       "\n",
       "   pericardial-effusion   fractional-shortening    epss   lvdd  \\\n",
       "0                     0                   0.380   6.000  4.100   \n",
       "1                     0                   0.260   4.000  3.420   \n",
       "2                     0                   0.253  12.062  4.603   \n",
       "3                     0                   0.160  22.000  5.750   \n",
       "4                     0                   0.260   5.000  4.310   \n",
       "\n",
       "   wall-motion-index   mult  alive-at-1  \n",
       "0               1.70  0.588         0.0  \n",
       "1               1.00  1.000         0.0  \n",
       "2               1.45  0.788         0.0  \n",
       "3               2.05  0.571         1.0  \n",
       "4               1.00  0.857         0.0  "
      ]
     },
     "execution_count": 391,
     "metadata": {},
     "output_type": "execute_result"
    }
   ],
   "source": [
    "df.head()"
   ]
  },
  {
   "cell_type": "markdown",
   "metadata": {},
   "source": [
    "## Creating the model"
   ]
  },
  {
   "cell_type": "code",
   "execution_count": 440,
   "metadata": {},
   "outputs": [],
   "source": [
    "from sklearn.model_selection import train_test_split"
   ]
  },
  {
   "cell_type": "code",
   "execution_count": 441,
   "metadata": {},
   "outputs": [],
   "source": [
    "x_train, x_test, y_train, y_test = train_test_split(x, y, random_state=101)"
   ]
  },
  {
   "cell_type": "markdown",
   "metadata": {},
   "source": [
    "## Filling in the missing values, doing this after split so as to avoid Data Leak"
   ]
  },
  {
   "cell_type": "code",
   "execution_count": 442,
   "metadata": {},
   "outputs": [],
   "source": [
    "mean_age=x_train[\"Age at heart attack\"].mean()\n",
    "\n",
    "x_train[\"Age at heart attack\"]=x_train[\"Age at heart attack\"].fillna(value=mean_age)\n",
    "x_test[\"Age at heart attack\"]=x_test[\"Age at heart attack\"].fillna(value=mean_age)"
   ]
  },
  {
   "cell_type": "code",
   "execution_count": 443,
   "metadata": {},
   "outputs": [],
   "source": [
    "mean_fracshorten=x_train[' fractional-shortening'].mean()\n",
    "\n",
    "x_train[' fractional-shortening']=x_train[' fractional-shortening'].fillna(value=mean_fracshorten)\n",
    "x_test[' fractional-shortening']=x_test[' fractional-shortening'].fillna(value=mean_fracshorten)"
   ]
  },
  {
   "cell_type": "code",
   "execution_count": 444,
   "metadata": {},
   "outputs": [],
   "source": [
    "mean_epss=x_train['epss'].mean()\n",
    "\n",
    "x_train['epss']=x_train['epss'].fillna(value=mean_epss)\n",
    "x_test['epss']=x_test['epss'].fillna(value=mean_epss)"
   ]
  },
  {
   "cell_type": "code",
   "execution_count": 445,
   "metadata": {},
   "outputs": [],
   "source": [
    "mean_lvdd=x_train['lvdd'].mean()\n",
    "\n",
    "x_train['lvdd']=x_train['lvdd'].fillna(value=mean_lvdd)\n",
    "x_test['lvdd']=x_test['lvdd'].fillna(value=mean_lvdd)"
   ]
  },
  {
   "cell_type": "code",
   "execution_count": 446,
   "metadata": {},
   "outputs": [
    {
     "data": {
      "text/plain": [
       "Age at heart attack       0\n",
       "pericardial-effusion      0\n",
       " fractional-shortening    0\n",
       "epss                      0\n",
       "lvdd                      0\n",
       "wall-motion-index         0\n",
       "dtype: int64"
      ]
     },
     "execution_count": 446,
     "metadata": {},
     "output_type": "execute_result"
    }
   ],
   "source": [
    "x_train.isnull().sum()"
   ]
  },
  {
   "cell_type": "markdown",
   "metadata": {},
   "source": [
    "### K Neighbors Classifier"
   ]
  },
  {
   "cell_type": "code",
   "execution_count": 399,
   "metadata": {},
   "outputs": [],
   "source": [
    "from sklearn.neighbors import KNeighborsClassifier\n",
    "from sklearn.model_selection import cross_val_score\n",
    "from sklearn.preprocessing import StandardScaler\n",
    "from sklearn.metrics import classification_report,confusion_matrix\n",
    "from sklearn import metrics"
   ]
  },
  {
   "cell_type": "code",
   "execution_count": 447,
   "metadata": {},
   "outputs": [],
   "source": [
    "standardScaler = StandardScaler()\n",
    "columns_to_scale = ['Age at heart attack','epss', 'lvdd','wall-motion-index']\n",
    "x_train[columns_to_scale] = standardScaler.fit_transform(x_train[columns_to_scale])\n",
    "x_train.head()\n",
    "x_test[columns_to_scale] = standardScaler.transform(x_test[columns_to_scale])"
   ]
  },
  {
   "cell_type": "markdown",
   "metadata": {},
   "source": [
    "#### Filling the missing values for the required features in the original dataset just for cross validation and not for any predictive purpose"
   ]
  },
  {
   "cell_type": "code",
   "execution_count": 343,
   "metadata": {},
   "outputs": [],
   "source": [
    "\n",
    "mean_age=df[\"Age at heart attack\"].mean()\n",
    "df[\"Age at heart attack\"]=df[\"Age at heart attack\"].fillna(value=mean_age)\n",
    "\n",
    "mean_fracshorten=df[' fractional-shortening'].mean()\n",
    "df[' fractional-shortening']=df[' fractional-shortening'].fillna(value=mean_fracshorten)\n",
    "\n",
    "mean_epss=df['epss'].mean()\n",
    "df['epss']=df['epss'].fillna(value=mean_epss)\n",
    "\n",
    "mean_lvdd=df['lvdd'].mean()\n",
    "df['lvdd']=df['lvdd'].fillna(value=mean_lvdd)\n"
   ]
  },
  {
   "cell_type": "code",
   "execution_count": 158,
   "metadata": {},
   "outputs": [
    {
     "data": {
      "text/plain": [
       "Survival(in months)       3\n",
       "Still Alive               0\n",
       "Age at heart attack       0\n",
       "pericardial-effusion      0\n",
       " fractional-shortening    0\n",
       "epss                      0\n",
       "lvdd                      0\n",
       "wall-motion-index         0\n",
       "mult                      1\n",
       "alive-at-1                0\n",
       "dtype: int64"
      ]
     },
     "execution_count": 158,
     "metadata": {},
     "output_type": "execute_result"
    }
   ],
   "source": [
    "df.isnull().sum()"
   ]
  },
  {
   "cell_type": "code",
   "execution_count": 159,
   "metadata": {},
   "outputs": [],
   "source": [
    "x = df[['Age at heart attack',\n",
    "       'pericardial-effusion', ' fractional-shortening', 'epss', 'lvdd',\n",
    "       'wall-motion-index']]\n",
    "y=df['alive-at-1']"
   ]
  },
  {
   "cell_type": "code",
   "execution_count": 160,
   "metadata": {},
   "outputs": [],
   "source": [
    "knn_scores = []\n",
    "for k in range(1,20):\n",
    "    knn_classifier = KNeighborsClassifier(n_neighbors = k)\n",
    "    score=cross_val_score(knn_classifier,x,y,cv=10)\n",
    "    knn_scores.append(score.mean())"
   ]
  },
  {
   "cell_type": "code",
   "execution_count": 161,
   "metadata": {},
   "outputs": [
    {
     "data": {
      "text/plain": [
       "[0.9478021978021978,\n",
       " 0.9478021978021978,\n",
       " 0.8587912087912087,\n",
       " 0.8291208791208792,\n",
       " 0.8060439560439561,\n",
       " 0.798901098901099,\n",
       " 0.7917582417582417,\n",
       " 0.7620879120879122,\n",
       " 0.7763736263736264,\n",
       " 0.8214285714285714,\n",
       " 0.8214285714285714,\n",
       " 0.7912087912087913,\n",
       " 0.8291208791208791,\n",
       " 0.7912087912087913,\n",
       " 0.7835164835164835,\n",
       " 0.7912087912087913,\n",
       " 0.7763736263736264,\n",
       " 0.7906593406593407,\n",
       " 0.7829670329670331]"
      ]
     },
     "execution_count": 161,
     "metadata": {},
     "output_type": "execute_result"
    }
   ],
   "source": [
    "knn_scores"
   ]
  },
  {
   "cell_type": "code",
   "execution_count": 162,
   "metadata": {},
   "outputs": [
    {
     "data": {
      "text/plain": [
       "Text(0.5, 1.0, 'K Neighbors Classifier scores for different K values')"
      ]
     },
     "execution_count": 162,
     "metadata": {},
     "output_type": "execute_result"
    },
    {
     "data": {
      "image/png": "[encoded data removed]",
      "text/plain": [
       "<Figure size 1440x720 with 1 Axes>"
      ]
     },
     "metadata": {},
     "output_type": "display_data"
    }
   ],
   "source": [
    "plt.figure(figsize=(20,10))\n",
    "plt.plot([k for k in range(1, 20)], knn_scores, color = 'red')\n",
    "for i in range(1,20):\n",
    "    plt.text(i, knn_scores[i-1], (i, knn_scores[i-1]))\n",
    "plt.xticks([i for i in range(1, 20)])\n",
    "plt.xlabel('Number of Neighbors (K)')\n",
    "plt.ylabel('Scores')\n",
    "plt.title('K Neighbors Classifier scores for different K values')"
   ]
  },
  {
   "cell_type": "markdown",
   "metadata": {},
   "source": [
    "## Creating the model"
   ]
  },
  {
   "cell_type": "code",
   "execution_count": 163,
   "metadata": {},
   "outputs": [],
   "source": [
    "error_rate = []\n",
    "\n",
    "# Will take some time\n",
    "for i in range(1,20):\n",
    "    \n",
    "    knn = KNeighborsClassifier(n_neighbors=i)\n",
    "    knn.fit(x_train,y_train)\n",
    "    pred_i = knn.predict(x_test)\n",
    "    error_rate.append(np.mean(pred_i != y_test))"
   ]
  },
  {
   "cell_type": "code",
   "execution_count": 164,
   "metadata": {},
   "outputs": [
    {
     "data": {
      "text/plain": [
       "[0.11764705882352941,\n",
       " 0.11764705882352941,\n",
       " 0.17647058823529413,\n",
       " 0.17647058823529413,\n",
       " 0.17647058823529413,\n",
       " 0.23529411764705882,\n",
       " 0.2647058823529412,\n",
       " 0.23529411764705882,\n",
       " 0.23529411764705882,\n",
       " 0.20588235294117646,\n",
       " 0.20588235294117646,\n",
       " 0.20588235294117646,\n",
       " 0.20588235294117646,\n",
       " 0.20588235294117646,\n",
       " 0.20588235294117646,\n",
       " 0.29411764705882354,\n",
       " 0.29411764705882354,\n",
       " 0.29411764705882354,\n",
       " 0.29411764705882354]"
      ]
     },
     "execution_count": 164,
     "metadata": {},
     "output_type": "execute_result"
    }
   ],
   "source": [
    "error_rate"
   ]
  },
  {
   "cell_type": "code",
   "execution_count": 165,
   "metadata": {},
   "outputs": [
    {
     "data": {
      "text/plain": [
       "Text(0.5, 1.0, 'Error rate for different K values')"
      ]
     },
     "execution_count": 165,
     "metadata": {},
     "output_type": "execute_result"
    },
    {
     "data": {
      "image/png": "[encoded data removed]",
      "text/plain": [
       "<Figure size 1440x720 with 1 Axes>"
      ]
     },
     "metadata": {},
     "output_type": "display_data"
    }
   ],
   "source": [
    "plt.figure(figsize=(20,10))\n",
    "plt.plot([k for k in range(1, 20)],error_rate, color = 'blue')\n",
    "for i in range(1,20):\n",
    "    plt.text(i, error_rate[i-1], (i, error_rate[i-1]))\n",
    "plt.xticks([i for i in range(1, 20)])\n",
    "plt.xlabel('Number of Neighbors (K)')\n",
    "plt.ylabel('Error Rate')\n",
    "plt.title('Error rate for different K values')"
   ]
  },
  {
   "cell_type": "markdown",
   "metadata": {},
   "source": [
    "#### k=2 could be an ideal choice as it gives less error rate and more accuracy"
   ]
  },
  {
   "cell_type": "code",
   "execution_count": 401,
   "metadata": {},
   "outputs": [
    {
     "data": {
      "text/plain": [
       "0.9411764705882353"
      ]
     },
     "execution_count": 401,
     "metadata": {},
     "output_type": "execute_result"
    }
   ],
   "source": [
    "knnclassifier = KNeighborsClassifier(n_neighbors=2)\n",
    "weights=knnclassifier.fit(x_train,y_train)\n",
    "predictions = knnclassifier.predict(x_test)\n",
    "metrics.accuracy_score(y_test,predictions)"
   ]
  },
  {
   "cell_type": "code",
   "execution_count": 402,
   "metadata": {},
   "outputs": [
    {
     "name": "stdout",
     "output_type": "stream",
     "text": [
      "[[19  0]\n",
      " [ 2 13]]\n"
     ]
    }
   ],
   "source": [
    "print(confusion_matrix(y_test,predictions))"
   ]
  },
  {
   "cell_type": "code",
   "execution_count": 417,
   "metadata": {},
   "outputs": [
    {
     "name": "stdout",
     "output_type": "stream",
     "text": [
      "              precision    recall  f1-score   support\n",
      "\n",
      "         0.0       0.90      1.00      0.95        19\n",
      "         1.0       1.00      0.87      0.93        15\n",
      "\n",
      "    accuracy                           0.94        34\n",
      "   macro avg       0.95      0.93      0.94        34\n",
      "weighted avg       0.95      0.94      0.94        34\n",
      "\n"
     ]
    }
   ],
   "source": [
    "print(classification_report(y_test,predictions))"
   ]
  },
  {
   "cell_type": "code",
   "execution_count": 1,
   "metadata": {},
   "outputs": [],
   "source": [
    "#Use weights attribute for scaling in case of new data"
   ]
  },
  {
   "cell_type": "code",
   "execution_count": 419,
   "metadata": {},
   "outputs": [],
   "source": [
    "# Saving model to disk\n",
    "pickle.dump(knnclassifier, open('echocardiogramResults.pkl','wb'))\n",
    "\n",
    "#Saving the scaler to disk\n",
    "pickle.dump(standardScaler, open('echocardiogramScaler.pkl', 'wb'))"
   ]
  },
  {
   "cell_type": "code",
   "execution_count": 436,
   "metadata": {},
   "outputs": [
    {
     "data": {
      "text/plain": [
       "(34, 6)"
      ]
     },
     "execution_count": 436,
     "metadata": {},
     "output_type": "execute_result"
    }
   ],
   "source": [
    "x_test.shape"
   ]
  },
  {
   "cell_type": "code",
   "execution_count": 449,
   "metadata": {},
   "outputs": [
    {
     "data": {
      "text/html": [
       "<div>\n",
       "<style scoped>\n",
       "    .dataframe tbody tr th:only-of-type {\n",
       "        vertical-align: middle;\n",
       "    }\n",
       "\n",
       "    .dataframe tbody tr th {\n",
       "        vertical-align: top;\n",
       "    }\n",
       "\n",
       "    .dataframe thead th {\n",
       "        text-align: right;\n",
       "    }\n",
       "</style>\n",
       "<table border=\"1\" class=\"dataframe\">\n",
       "  <thead>\n",
       "    <tr style=\"text-align: right;\">\n",
       "      <th></th>\n",
       "      <th>Age at heart attack</th>\n",
       "      <th>pericardial-effusion</th>\n",
       "      <th>fractional-shortening</th>\n",
       "      <th>epss</th>\n",
       "      <th>lvdd</th>\n",
       "      <th>wall-motion-index</th>\n",
       "    </tr>\n",
       "  </thead>\n",
       "  <tbody>\n",
       "    <tr>\n",
       "      <th>13</th>\n",
       "      <td>0.425558</td>\n",
       "      <td>0</td>\n",
       "      <td>0.09</td>\n",
       "      <td>0.606998</td>\n",
       "      <td>1.345922</td>\n",
       "      <td>0.016575</td>\n",
       "    </tr>\n",
       "    <tr>\n",
       "      <th>25</th>\n",
       "      <td>-1.148204</td>\n",
       "      <td>0</td>\n",
       "      <td>0.35</td>\n",
       "      <td>-0.418135</td>\n",
       "      <td>-1.451116</td>\n",
       "      <td>-0.291606</td>\n",
       "    </tr>\n",
       "    <tr>\n",
       "      <th>50</th>\n",
       "      <td>0.032118</td>\n",
       "      <td>0</td>\n",
       "      <td>0.20</td>\n",
       "      <td>-0.990612</td>\n",
       "      <td>0.554982</td>\n",
       "      <td>-0.907968</td>\n",
       "    </tr>\n",
       "    <tr>\n",
       "      <th>31</th>\n",
       "      <td>-0.492470</td>\n",
       "      <td>0</td>\n",
       "      <td>0.03</td>\n",
       "      <td>1.179475</td>\n",
       "      <td>1.947751</td>\n",
       "      <td>-0.047282</td>\n",
       "    </tr>\n",
       "    <tr>\n",
       "      <th>67</th>\n",
       "      <td>0.950146</td>\n",
       "      <td>0</td>\n",
       "      <td>0.38</td>\n",
       "      <td>-1.656283</td>\n",
       "      <td>-0.275568</td>\n",
       "      <td>-0.907968</td>\n",
       "    </tr>\n",
       "  </tbody>\n",
       "</table>\n",
       "</div>"
      ],
      "text/plain": [
       "    Age at heart attack  pericardial-effusion   fractional-shortening  \\\n",
       "13             0.425558                     0                    0.09   \n",
       "25            -1.148204                     0                    0.35   \n",
       "50             0.032118                     0                    0.20   \n",
       "31            -0.492470                     0                    0.03   \n",
       "67             0.950146                     0                    0.38   \n",
       "\n",
       "        epss      lvdd  wall-motion-index  \n",
       "13  0.606998  1.345922           0.016575  \n",
       "25 -0.418135 -1.451116          -0.291606  \n",
       "50 -0.990612  0.554982          -0.907968  \n",
       "31  1.179475  1.947751          -0.047282  \n",
       "67 -1.656283 -0.275568          -0.907968  "
      ]
     },
     "execution_count": 449,
     "metadata": {},
     "output_type": "execute_result"
    }
   ],
   "source": [
    "x_test.iloc[25:30]"
   ]
  },
  {
   "cell_type": "code",
   "execution_count": 437,
   "metadata": {},
   "outputs": [
    {
     "data": {
      "text/html": [
       "<div>\n",
       "<style scoped>\n",
       "    .dataframe tbody tr th:only-of-type {\n",
       "        vertical-align: middle;\n",
       "    }\n",
       "\n",
       "    .dataframe tbody tr th {\n",
       "        vertical-align: top;\n",
       "    }\n",
       "\n",
       "    .dataframe thead th {\n",
       "        text-align: right;\n",
       "    }\n",
       "</style>\n",
       "<table border=\"1\" class=\"dataframe\">\n",
       "  <thead>\n",
       "    <tr style=\"text-align: right;\">\n",
       "      <th></th>\n",
       "      <th>Age at heart attack</th>\n",
       "      <th>pericardial-effusion</th>\n",
       "      <th>fractional-shortening</th>\n",
       "      <th>epss</th>\n",
       "      <th>lvdd</th>\n",
       "      <th>wall-motion-index</th>\n",
       "    </tr>\n",
       "  </thead>\n",
       "  <tbody>\n",
       "    <tr>\n",
       "      <th>13</th>\n",
       "      <td>66.0</td>\n",
       "      <td>0</td>\n",
       "      <td>0.09</td>\n",
       "      <td>17.0</td>\n",
       "      <td>5.819</td>\n",
       "      <td>1.333</td>\n",
       "    </tr>\n",
       "    <tr>\n",
       "      <th>25</th>\n",
       "      <td>54.0</td>\n",
       "      <td>0</td>\n",
       "      <td>0.35</td>\n",
       "      <td>9.3</td>\n",
       "      <td>3.630</td>\n",
       "      <td>1.222</td>\n",
       "    </tr>\n",
       "    <tr>\n",
       "      <th>50</th>\n",
       "      <td>63.0</td>\n",
       "      <td>0</td>\n",
       "      <td>0.20</td>\n",
       "      <td>5.0</td>\n",
       "      <td>5.200</td>\n",
       "      <td>1.000</td>\n",
       "    </tr>\n",
       "    <tr>\n",
       "      <th>31</th>\n",
       "      <td>59.0</td>\n",
       "      <td>0</td>\n",
       "      <td>0.03</td>\n",
       "      <td>21.3</td>\n",
       "      <td>6.290</td>\n",
       "      <td>1.310</td>\n",
       "    </tr>\n",
       "    <tr>\n",
       "      <th>67</th>\n",
       "      <td>70.0</td>\n",
       "      <td>0</td>\n",
       "      <td>0.38</td>\n",
       "      <td>0.0</td>\n",
       "      <td>4.550</td>\n",
       "      <td>1.000</td>\n",
       "    </tr>\n",
       "  </tbody>\n",
       "</table>\n",
       "</div>"
      ],
      "text/plain": [
       "    Age at heart attack  pericardial-effusion   fractional-shortening  epss  \\\n",
       "13                 66.0                     0                    0.09  17.0   \n",
       "25                 54.0                     0                    0.35   9.3   \n",
       "50                 63.0                     0                    0.20   5.0   \n",
       "31                 59.0                     0                    0.03  21.3   \n",
       "67                 70.0                     0                    0.38   0.0   \n",
       "\n",
       "     lvdd  wall-motion-index  \n",
       "13  5.819              1.333  \n",
       "25  3.630              1.222  \n",
       "50  5.200              1.000  \n",
       "31  6.290              1.310  \n",
       "67  4.550              1.000  "
      ]
     },
     "execution_count": 437,
     "metadata": {},
     "output_type": "execute_result"
    }
   ],
   "source": [
    "x_test.iloc[25:30]"
   ]
  },
  {
   "cell_type": "code",
   "execution_count": 438,
   "metadata": {},
   "outputs": [
    {
     "data": {
      "text/plain": [
       "13    1.0\n",
       "25    0.0\n",
       "50    0.0\n",
       "31    1.0\n",
       "67    0.0\n",
       "Name: alive-at-1, dtype: float64"
      ]
     },
     "execution_count": 438,
     "metadata": {},
     "output_type": "execute_result"
    }
   ],
   "source": [
    "y_test.iloc[25:30]"
   ]
  },
  {
   "cell_type": "code",
   "execution_count": null,
   "metadata": {},
   "outputs": [],
   "source": []
  }
 ],
 "metadata": {
  "kernelspec": {
   "display_name": "Python 3",
   "language": "python",
   "name": "python3"
  },
  "language_info": {
   "codemirror_mode": {
    "name": "ipython",
    "version": 3
   },
   "file_extension": ".py",
   "mimetype": "text/x-python",
   "name": "python",
   "nbconvert_exporter": "python",
   "pygments_lexer": "ipython3",
   "version": "3.8.3"
  }
 },
 "nbformat": 4,
 "nbformat_minor": 4
}
